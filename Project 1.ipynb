{
 "cells": [
  {
   "cell_type": "markdown",
   "metadata": {},
   "source": [
    "Продакт-менеджер попросил вас проанализировать совершенные покупки и ответить на следующие вопросы:\n",
    "\n",
    "1. Сколько у нас пользователей, которые совершили покупку только один раз? \n",
    "\n",
    "2. Сколько заказов в месяц в среднем не доставляется по разным причинам (вывести детализацию по причинам)?\n",
    "\n",
    "3. По каждому товару определить, в какой день недели товар чаще всего покупается.\n",
    "\n",
    "4. Сколько у каждого из пользователей в среднем покупок в неделю (по месяцам)? Не стоит забывать, что внутри месяца может быть не целое количество недель. Например, в ноябре 2021 года 4,28 недели. И внутри метрики это нужно учесть. \n",
    "\n",
    "5. Используя pandas, проведи когортный анализ пользователей. В период с января по декабрь выяви когорту с самым высоким retention на 3й месяц. Описание подхода можно найти тут.\n",
    "\n",
    "6. Часто для качественного анализа аудитории использую подходы, основанные на сегментации. Используя python, построй RFM-сегментацию пользователей, чтобы качественно оценить свою аудиторию. В кластеризации можешь выбрать следующие метрики: R - время от последней покупки пользователя до текущей даты, F - суммарное количество покупок у пользователя за всё время, M - сумма покупок за всё время. Подробно опиши, как ты создавал кластеры. Для каждого RFM-сегмента построй границы метрик recency, frequency и monetary для интерпретации этих кластеров. Пример такого описания: RFM-сегмент 132 (recency=1, frequency=3, monetary=2) имеет границы метрик recency от 130 до 500 дней, frequency от 2 до 5 заказов в неделю, monetary от 1780 до 3560 рублей в неделю. "
   ]
  },
  {
   "cell_type": "code",
   "execution_count": 1,
   "metadata": {},
   "outputs": [],
   "source": [
    "import pandas as pd\n",
    "\n",
    "import requests\n",
    "from urllib.parse import urlencode\n",
    "\n",
    "import seaborn as sns\n",
    "import matplotlib.pyplot as plt\n",
    "\n",
    "%matplotlib inline"
   ]
  },
  {
   "cell_type": "code",
   "execution_count": 2,
   "metadata": {},
   "outputs": [
    {
     "data": {
      "text/html": [
       "<div>\n",
       "<style scoped>\n",
       "    .dataframe tbody tr th:only-of-type {\n",
       "        vertical-align: middle;\n",
       "    }\n",
       "\n",
       "    .dataframe tbody tr th {\n",
       "        vertical-align: top;\n",
       "    }\n",
       "\n",
       "    .dataframe thead th {\n",
       "        text-align: right;\n",
       "    }\n",
       "</style>\n",
       "<table border=\"1\" class=\"dataframe\">\n",
       "  <thead>\n",
       "    <tr style=\"text-align: right;\">\n",
       "      <th></th>\n",
       "      <th>customer_id</th>\n",
       "      <th>customer_unique_id</th>\n",
       "      <th>customer_zip_code_prefix</th>\n",
       "      <th>customer_city</th>\n",
       "      <th>customer_state</th>\n",
       "    </tr>\n",
       "  </thead>\n",
       "  <tbody>\n",
       "    <tr>\n",
       "      <th>0</th>\n",
       "      <td>06b8999e2fba1a1fbc88172c00ba8bc7</td>\n",
       "      <td>861eff4711a542e4b93843c6dd7febb0</td>\n",
       "      <td>14409</td>\n",
       "      <td>franca</td>\n",
       "      <td>SP</td>\n",
       "    </tr>\n",
       "    <tr>\n",
       "      <th>1</th>\n",
       "      <td>18955e83d337fd6b2def6b18a428ac77</td>\n",
       "      <td>290c77bc529b7ac935b93aa66c333dc3</td>\n",
       "      <td>9790</td>\n",
       "      <td>sao bernardo do campo</td>\n",
       "      <td>SP</td>\n",
       "    </tr>\n",
       "    <tr>\n",
       "      <th>2</th>\n",
       "      <td>4e7b3e00288586ebd08712fdd0374a03</td>\n",
       "      <td>060e732b5b29e8181a18229c7b0b2b5e</td>\n",
       "      <td>1151</td>\n",
       "      <td>sao paulo</td>\n",
       "      <td>SP</td>\n",
       "    </tr>\n",
       "    <tr>\n",
       "      <th>3</th>\n",
       "      <td>b2b6027bc5c5109e529d4dc6358b12c3</td>\n",
       "      <td>259dac757896d24d7702b9acbbff3f3c</td>\n",
       "      <td>8775</td>\n",
       "      <td>mogi das cruzes</td>\n",
       "      <td>SP</td>\n",
       "    </tr>\n",
       "    <tr>\n",
       "      <th>4</th>\n",
       "      <td>4f2d8ab171c80ec8364f7c12e35b23ad</td>\n",
       "      <td>345ecd01c38d18a9036ed96c73b8d066</td>\n",
       "      <td>13056</td>\n",
       "      <td>campinas</td>\n",
       "      <td>SP</td>\n",
       "    </tr>\n",
       "  </tbody>\n",
       "</table>\n",
       "</div>"
      ],
      "text/plain": [
       "                        customer_id                customer_unique_id  \\\n",
       "0  06b8999e2fba1a1fbc88172c00ba8bc7  861eff4711a542e4b93843c6dd7febb0   \n",
       "1  18955e83d337fd6b2def6b18a428ac77  290c77bc529b7ac935b93aa66c333dc3   \n",
       "2  4e7b3e00288586ebd08712fdd0374a03  060e732b5b29e8181a18229c7b0b2b5e   \n",
       "3  b2b6027bc5c5109e529d4dc6358b12c3  259dac757896d24d7702b9acbbff3f3c   \n",
       "4  4f2d8ab171c80ec8364f7c12e35b23ad  345ecd01c38d18a9036ed96c73b8d066   \n",
       "\n",
       "   customer_zip_code_prefix          customer_city customer_state  \n",
       "0                     14409                 franca             SP  \n",
       "1                      9790  sao bernardo do campo             SP  \n",
       "2                      1151              sao paulo             SP  \n",
       "3                      8775        mogi das cruzes             SP  \n",
       "4                     13056               campinas             SP  "
      ]
     },
     "execution_count": 2,
     "metadata": {},
     "output_type": "execute_result"
    }
   ],
   "source": [
    "base_url = 'https://cloud-api.yandex.net/v1/disk/public/resources/download?'\n",
    "public_key = 'https://disk.yandex.ru/d/FUi5uSd6BfG_ig' \n",
    "\n",
    "\n",
    "final_url = base_url + urlencode(dict(public_key=public_key))\n",
    "response = requests.get(final_url)\n",
    "download_url = response.json()['href']\n",
    "\n",
    "\n",
    "download_response = requests.get(download_url)\n",
    "customers = pd.read_csv(download_url)\n",
    "customers.head()"
   ]
  },
  {
   "cell_type": "code",
   "execution_count": 3,
   "metadata": {},
   "outputs": [
    {
     "data": {
      "text/html": [
       "<div>\n",
       "<style scoped>\n",
       "    .dataframe tbody tr th:only-of-type {\n",
       "        vertical-align: middle;\n",
       "    }\n",
       "\n",
       "    .dataframe tbody tr th {\n",
       "        vertical-align: top;\n",
       "    }\n",
       "\n",
       "    .dataframe thead th {\n",
       "        text-align: right;\n",
       "    }\n",
       "</style>\n",
       "<table border=\"1\" class=\"dataframe\">\n",
       "  <thead>\n",
       "    <tr style=\"text-align: right;\">\n",
       "      <th></th>\n",
       "      <th>order_id</th>\n",
       "      <th>customer_id</th>\n",
       "      <th>order_status</th>\n",
       "      <th>order_purchase_timestamp</th>\n",
       "      <th>order_approved_at</th>\n",
       "      <th>order_delivered_carrier_date</th>\n",
       "      <th>order_delivered_customer_date</th>\n",
       "      <th>order_estimated_delivery_date</th>\n",
       "    </tr>\n",
       "  </thead>\n",
       "  <tbody>\n",
       "    <tr>\n",
       "      <th>0</th>\n",
       "      <td>e481f51cbdc54678b7cc49136f2d6af7</td>\n",
       "      <td>9ef432eb6251297304e76186b10a928d</td>\n",
       "      <td>delivered</td>\n",
       "      <td>2017-10-02 10:56:33</td>\n",
       "      <td>2017-10-02 11:07:15</td>\n",
       "      <td>2017-10-04 19:55:00</td>\n",
       "      <td>2017-10-10 21:25:13</td>\n",
       "      <td>2017-10-18 00:00:00</td>\n",
       "    </tr>\n",
       "    <tr>\n",
       "      <th>1</th>\n",
       "      <td>53cdb2fc8bc7dce0b6741e2150273451</td>\n",
       "      <td>b0830fb4747a6c6d20dea0b8c802d7ef</td>\n",
       "      <td>delivered</td>\n",
       "      <td>2018-07-24 20:41:37</td>\n",
       "      <td>2018-07-26 03:24:27</td>\n",
       "      <td>2018-07-26 14:31:00</td>\n",
       "      <td>2018-08-07 15:27:45</td>\n",
       "      <td>2018-08-13 00:00:00</td>\n",
       "    </tr>\n",
       "    <tr>\n",
       "      <th>2</th>\n",
       "      <td>47770eb9100c2d0c44946d9cf07ec65d</td>\n",
       "      <td>41ce2a54c0b03bf3443c3d931a367089</td>\n",
       "      <td>delivered</td>\n",
       "      <td>2018-08-08 08:38:49</td>\n",
       "      <td>2018-08-08 08:55:23</td>\n",
       "      <td>2018-08-08 13:50:00</td>\n",
       "      <td>2018-08-17 18:06:29</td>\n",
       "      <td>2018-09-04 00:00:00</td>\n",
       "    </tr>\n",
       "    <tr>\n",
       "      <th>3</th>\n",
       "      <td>949d5b44dbf5de918fe9c16f97b45f8a</td>\n",
       "      <td>f88197465ea7920adcdbec7375364d82</td>\n",
       "      <td>delivered</td>\n",
       "      <td>2017-11-18 19:28:06</td>\n",
       "      <td>2017-11-18 19:45:59</td>\n",
       "      <td>2017-11-22 13:39:59</td>\n",
       "      <td>2017-12-02 00:28:42</td>\n",
       "      <td>2017-12-15 00:00:00</td>\n",
       "    </tr>\n",
       "    <tr>\n",
       "      <th>4</th>\n",
       "      <td>ad21c59c0840e6cb83a9ceb5573f8159</td>\n",
       "      <td>8ab97904e6daea8866dbdbc4fb7aad2c</td>\n",
       "      <td>delivered</td>\n",
       "      <td>2018-02-13 21:18:39</td>\n",
       "      <td>2018-02-13 22:20:29</td>\n",
       "      <td>2018-02-14 19:46:34</td>\n",
       "      <td>2018-02-16 18:17:02</td>\n",
       "      <td>2018-02-26 00:00:00</td>\n",
       "    </tr>\n",
       "  </tbody>\n",
       "</table>\n",
       "</div>"
      ],
      "text/plain": [
       "                           order_id                       customer_id  \\\n",
       "0  e481f51cbdc54678b7cc49136f2d6af7  9ef432eb6251297304e76186b10a928d   \n",
       "1  53cdb2fc8bc7dce0b6741e2150273451  b0830fb4747a6c6d20dea0b8c802d7ef   \n",
       "2  47770eb9100c2d0c44946d9cf07ec65d  41ce2a54c0b03bf3443c3d931a367089   \n",
       "3  949d5b44dbf5de918fe9c16f97b45f8a  f88197465ea7920adcdbec7375364d82   \n",
       "4  ad21c59c0840e6cb83a9ceb5573f8159  8ab97904e6daea8866dbdbc4fb7aad2c   \n",
       "\n",
       "  order_status order_purchase_timestamp    order_approved_at  \\\n",
       "0    delivered      2017-10-02 10:56:33  2017-10-02 11:07:15   \n",
       "1    delivered      2018-07-24 20:41:37  2018-07-26 03:24:27   \n",
       "2    delivered      2018-08-08 08:38:49  2018-08-08 08:55:23   \n",
       "3    delivered      2017-11-18 19:28:06  2017-11-18 19:45:59   \n",
       "4    delivered      2018-02-13 21:18:39  2018-02-13 22:20:29   \n",
       "\n",
       "  order_delivered_carrier_date order_delivered_customer_date  \\\n",
       "0          2017-10-04 19:55:00           2017-10-10 21:25:13   \n",
       "1          2018-07-26 14:31:00           2018-08-07 15:27:45   \n",
       "2          2018-08-08 13:50:00           2018-08-17 18:06:29   \n",
       "3          2017-11-22 13:39:59           2017-12-02 00:28:42   \n",
       "4          2018-02-14 19:46:34           2018-02-16 18:17:02   \n",
       "\n",
       "  order_estimated_delivery_date  \n",
       "0           2017-10-18 00:00:00  \n",
       "1           2018-08-13 00:00:00  \n",
       "2           2018-09-04 00:00:00  \n",
       "3           2017-12-15 00:00:00  \n",
       "4           2018-02-26 00:00:00  "
      ]
     },
     "execution_count": 3,
     "metadata": {},
     "output_type": "execute_result"
    }
   ],
   "source": [
    "base_url = 'https://cloud-api.yandex.net/v1/disk/public/resources/download?'\n",
    "public_key = 'https://disk.yandex.ru/d/t9Li4JOfgxuUrg' \n",
    "\n",
    "\n",
    "final_url = base_url + urlencode(dict(public_key=public_key))\n",
    "response = requests.get(final_url)\n",
    "download_url = response.json()['href']\n",
    "\n",
    "\n",
    "download_response = requests.get(download_url)\n",
    "orders = pd.read_csv(download_url)\n",
    "orders.head()"
   ]
  },
  {
   "cell_type": "code",
   "execution_count": 4,
   "metadata": {},
   "outputs": [
    {
     "data": {
      "text/html": [
       "<div>\n",
       "<style scoped>\n",
       "    .dataframe tbody tr th:only-of-type {\n",
       "        vertical-align: middle;\n",
       "    }\n",
       "\n",
       "    .dataframe tbody tr th {\n",
       "        vertical-align: top;\n",
       "    }\n",
       "\n",
       "    .dataframe thead th {\n",
       "        text-align: right;\n",
       "    }\n",
       "</style>\n",
       "<table border=\"1\" class=\"dataframe\">\n",
       "  <thead>\n",
       "    <tr style=\"text-align: right;\">\n",
       "      <th></th>\n",
       "      <th>order_id</th>\n",
       "      <th>order_item_id</th>\n",
       "      <th>product_id</th>\n",
       "      <th>seller_id</th>\n",
       "      <th>shipping_limit_date</th>\n",
       "      <th>price</th>\n",
       "      <th>freight_value</th>\n",
       "    </tr>\n",
       "  </thead>\n",
       "  <tbody>\n",
       "    <tr>\n",
       "      <th>0</th>\n",
       "      <td>00010242fe8c5a6d1ba2dd792cb16214</td>\n",
       "      <td>1</td>\n",
       "      <td>4244733e06e7ecb4970a6e2683c13e61</td>\n",
       "      <td>48436dade18ac8b2bce089ec2a041202</td>\n",
       "      <td>2017-09-19 09:45:35</td>\n",
       "      <td>58.90</td>\n",
       "      <td>13.29</td>\n",
       "    </tr>\n",
       "    <tr>\n",
       "      <th>1</th>\n",
       "      <td>00018f77f2f0320c557190d7a144bdd3</td>\n",
       "      <td>1</td>\n",
       "      <td>e5f2d52b802189ee658865ca93d83a8f</td>\n",
       "      <td>dd7ddc04e1b6c2c614352b383efe2d36</td>\n",
       "      <td>2017-05-03 11:05:13</td>\n",
       "      <td>239.90</td>\n",
       "      <td>19.93</td>\n",
       "    </tr>\n",
       "    <tr>\n",
       "      <th>2</th>\n",
       "      <td>000229ec398224ef6ca0657da4fc703e</td>\n",
       "      <td>1</td>\n",
       "      <td>c777355d18b72b67abbeef9df44fd0fd</td>\n",
       "      <td>5b51032eddd242adc84c38acab88f23d</td>\n",
       "      <td>2018-01-18 14:48:30</td>\n",
       "      <td>199.00</td>\n",
       "      <td>17.87</td>\n",
       "    </tr>\n",
       "    <tr>\n",
       "      <th>3</th>\n",
       "      <td>00024acbcdf0a6daa1e931b038114c75</td>\n",
       "      <td>1</td>\n",
       "      <td>7634da152a4610f1595efa32f14722fc</td>\n",
       "      <td>9d7a1d34a5052409006425275ba1c2b4</td>\n",
       "      <td>2018-08-15 10:10:18</td>\n",
       "      <td>12.99</td>\n",
       "      <td>12.79</td>\n",
       "    </tr>\n",
       "    <tr>\n",
       "      <th>4</th>\n",
       "      <td>00042b26cf59d7ce69dfabb4e55b4fd9</td>\n",
       "      <td>1</td>\n",
       "      <td>ac6c3623068f30de03045865e4e10089</td>\n",
       "      <td>df560393f3a51e74553ab94004ba5c87</td>\n",
       "      <td>2017-02-13 13:57:51</td>\n",
       "      <td>199.90</td>\n",
       "      <td>18.14</td>\n",
       "    </tr>\n",
       "  </tbody>\n",
       "</table>\n",
       "</div>"
      ],
      "text/plain": [
       "                           order_id  order_item_id  \\\n",
       "0  00010242fe8c5a6d1ba2dd792cb16214              1   \n",
       "1  00018f77f2f0320c557190d7a144bdd3              1   \n",
       "2  000229ec398224ef6ca0657da4fc703e              1   \n",
       "3  00024acbcdf0a6daa1e931b038114c75              1   \n",
       "4  00042b26cf59d7ce69dfabb4e55b4fd9              1   \n",
       "\n",
       "                         product_id                         seller_id  \\\n",
       "0  4244733e06e7ecb4970a6e2683c13e61  48436dade18ac8b2bce089ec2a041202   \n",
       "1  e5f2d52b802189ee658865ca93d83a8f  dd7ddc04e1b6c2c614352b383efe2d36   \n",
       "2  c777355d18b72b67abbeef9df44fd0fd  5b51032eddd242adc84c38acab88f23d   \n",
       "3  7634da152a4610f1595efa32f14722fc  9d7a1d34a5052409006425275ba1c2b4   \n",
       "4  ac6c3623068f30de03045865e4e10089  df560393f3a51e74553ab94004ba5c87   \n",
       "\n",
       "   shipping_limit_date   price  freight_value  \n",
       "0  2017-09-19 09:45:35   58.90          13.29  \n",
       "1  2017-05-03 11:05:13  239.90          19.93  \n",
       "2  2018-01-18 14:48:30  199.00          17.87  \n",
       "3  2018-08-15 10:10:18   12.99          12.79  \n",
       "4  2017-02-13 13:57:51  199.90          18.14  "
      ]
     },
     "execution_count": 4,
     "metadata": {},
     "output_type": "execute_result"
    }
   ],
   "source": [
    "base_url = 'https://cloud-api.yandex.net/v1/disk/public/resources/download?'\n",
    "public_key = 'https://disk.yandex.ru/d/Gbt-yAcQrOe3Pw' \n",
    "\n",
    "\n",
    "final_url = base_url + urlencode(dict(public_key=public_key))\n",
    "response = requests.get(final_url)\n",
    "download_url = response.json()['href']\n",
    "\n",
    "\n",
    "download_response = requests.get(download_url)\n",
    "items = pd.read_csv(download_url)\n",
    "items.head()"
   ]
  },
  {
   "cell_type": "code",
   "execution_count": 5,
   "metadata": {},
   "outputs": [
    {
     "data": {
      "text/plain": [
       "(99441, 5)"
      ]
     },
     "execution_count": 5,
     "metadata": {},
     "output_type": "execute_result"
    }
   ],
   "source": [
    "customers.shape"
   ]
  },
  {
   "cell_type": "code",
   "execution_count": 6,
   "metadata": {},
   "outputs": [
    {
     "data": {
      "text/plain": [
       "(112650, 7)"
      ]
     },
     "execution_count": 6,
     "metadata": {},
     "output_type": "execute_result"
    }
   ],
   "source": [
    "items.shape"
   ]
  },
  {
   "cell_type": "code",
   "execution_count": 7,
   "metadata": {},
   "outputs": [
    {
     "data": {
      "text/plain": [
       "(99441, 8)"
      ]
     },
     "execution_count": 7,
     "metadata": {},
     "output_type": "execute_result"
    }
   ],
   "source": [
    "orders.shape"
   ]
  },
  {
   "cell_type": "code",
   "execution_count": 8,
   "metadata": {},
   "outputs": [],
   "source": [
    "#======Задача 1======="
   ]
  },
  {
   "cell_type": "code",
   "execution_count": 9,
   "metadata": {},
   "outputs": [
    {
     "data": {
      "text/plain": [
       "order_status\n",
       "approved           2\n",
       "canceled         484\n",
       "created            0\n",
       "delivered      96464\n",
       "invoiced         314\n",
       "processing       301\n",
       "shipped         1107\n",
       "unavailable      609\n",
       "Name: order_approved_at, dtype: int64"
      ]
     },
     "execution_count": 9,
     "metadata": {},
     "output_type": "execute_result"
    }
   ],
   "source": [
    "orders.groupby('order_status').order_approved_at.count() # считаем кол-во заказов с разными статусами, чтобы изучить данные"
   ]
  },
  {
   "cell_type": "code",
   "execution_count": 10,
   "metadata": {},
   "outputs": [
    {
     "data": {
      "text/plain": [
       "160"
      ]
     },
     "execution_count": 10,
     "metadata": {},
     "output_type": "execute_result"
    }
   ],
   "source": [
    "orders.order_approved_at.isna().sum() # вероятно, если дата подтверждения отсутсвует, то покупка не была оплачена, и, соответственно, совершена. таких заказов 160"
   ]
  },
  {
   "cell_type": "code",
   "execution_count": 11,
   "metadata": {},
   "outputs": [
    {
     "data": {
      "text/html": [
       "<div>\n",
       "<style scoped>\n",
       "    .dataframe tbody tr th:only-of-type {\n",
       "        vertical-align: middle;\n",
       "    }\n",
       "\n",
       "    .dataframe tbody tr th {\n",
       "        vertical-align: top;\n",
       "    }\n",
       "\n",
       "    .dataframe thead th {\n",
       "        text-align: right;\n",
       "    }\n",
       "</style>\n",
       "<table border=\"1\" class=\"dataframe\">\n",
       "  <thead>\n",
       "    <tr style=\"text-align: right;\">\n",
       "      <th></th>\n",
       "      <th>customer_unique_id</th>\n",
       "      <th>customer_id</th>\n",
       "    </tr>\n",
       "  </thead>\n",
       "  <tbody>\n",
       "    <tr>\n",
       "      <th>52973</th>\n",
       "      <td>8d50f5eadf50201ccdcedfb9e2ac8455</td>\n",
       "      <td>17</td>\n",
       "    </tr>\n",
       "    <tr>\n",
       "      <th>23472</th>\n",
       "      <td>3e43e6105506432c953e165fb2acf44c</td>\n",
       "      <td>9</td>\n",
       "    </tr>\n",
       "    <tr>\n",
       "      <th>37797</th>\n",
       "      <td>6469f99c1f9dfae7733b25662e7f1782</td>\n",
       "      <td>7</td>\n",
       "    </tr>\n",
       "    <tr>\n",
       "      <th>76082</th>\n",
       "      <td>ca77025e7201e3b30c44b472ff346268</td>\n",
       "      <td>7</td>\n",
       "    </tr>\n",
       "    <tr>\n",
       "      <th>10354</th>\n",
       "      <td>1b6c7548a2a1f9037c1fd3ddfed95f33</td>\n",
       "      <td>7</td>\n",
       "    </tr>\n",
       "    <tr>\n",
       "      <th>...</th>\n",
       "      <td>...</td>\n",
       "      <td>...</td>\n",
       "    </tr>\n",
       "    <tr>\n",
       "      <th>32508</th>\n",
       "      <td>5657dfebff5868c4dc7e8355fea865c4</td>\n",
       "      <td>1</td>\n",
       "    </tr>\n",
       "    <tr>\n",
       "      <th>32507</th>\n",
       "      <td>5657596addb4d7b07b32cd330614bdf8</td>\n",
       "      <td>1</td>\n",
       "    </tr>\n",
       "    <tr>\n",
       "      <th>32506</th>\n",
       "      <td>5656eb169546146caeab56c3ffc3d268</td>\n",
       "      <td>1</td>\n",
       "    </tr>\n",
       "    <tr>\n",
       "      <th>32505</th>\n",
       "      <td>5656a8fabc8629ff96b2bc14f8c09a27</td>\n",
       "      <td>1</td>\n",
       "    </tr>\n",
       "    <tr>\n",
       "      <th>96095</th>\n",
       "      <td>ffffd2657e2aad2907e67c3e9daecbeb</td>\n",
       "      <td>1</td>\n",
       "    </tr>\n",
       "  </tbody>\n",
       "</table>\n",
       "<p>96096 rows × 2 columns</p>\n",
       "</div>"
      ],
      "text/plain": [
       "                     customer_unique_id  customer_id\n",
       "52973  8d50f5eadf50201ccdcedfb9e2ac8455           17\n",
       "23472  3e43e6105506432c953e165fb2acf44c            9\n",
       "37797  6469f99c1f9dfae7733b25662e7f1782            7\n",
       "76082  ca77025e7201e3b30c44b472ff346268            7\n",
       "10354  1b6c7548a2a1f9037c1fd3ddfed95f33            7\n",
       "...                                 ...          ...\n",
       "32508  5657dfebff5868c4dc7e8355fea865c4            1\n",
       "32507  5657596addb4d7b07b32cd330614bdf8            1\n",
       "32506  5656eb169546146caeab56c3ffc3d268            1\n",
       "32505  5656a8fabc8629ff96b2bc14f8c09a27            1\n",
       "96095  ffffd2657e2aad2907e67c3e9daecbeb            1\n",
       "\n",
       "[96096 rows x 2 columns]"
      ]
     },
     "execution_count": 11,
     "metadata": {},
     "output_type": "execute_result"
    }
   ],
   "source": [
    "customers.groupby('customer_unique_id', as_index = False).agg({'customer_id':'count'}).sort_values('customer_id', ascending = False)\n",
    "# из этой таблицы видно, что на каждого уникального пользователя может приходиться несколько customer_id. Поэтому, для дальнейшего\n",
    "# подсчёта уникальных пользователей необходимо добавить колонку customer_unique_id в датафрейм orders."
   ]
  },
  {
   "cell_type": "code",
   "execution_count": 12,
   "metadata": {},
   "outputs": [],
   "source": [
    "orders = orders.merge(customers[['customer_id', 'customer_unique_id']], on = 'customer_id') # добавляем к датафрейму с заказами колонку с уникальным id пользователя"
   ]
  },
  {
   "cell_type": "code",
   "execution_count": 13,
   "metadata": {},
   "outputs": [
    {
     "data": {
      "text/plain": [
       "order_id                         object\n",
       "customer_id                      object\n",
       "order_status                     object\n",
       "order_purchase_timestamp         object\n",
       "order_approved_at                object\n",
       "order_delivered_carrier_date     object\n",
       "order_delivered_customer_date    object\n",
       "order_estimated_delivery_date    object\n",
       "customer_unique_id               object\n",
       "dtype: object"
      ]
     },
     "execution_count": 13,
     "metadata": {},
     "output_type": "execute_result"
    }
   ],
   "source": [
    "orders.dtypes # колонки с временем представлены как object, необходимо перевести их во временной тип"
   ]
  },
  {
   "cell_type": "code",
   "execution_count": 14,
   "metadata": {},
   "outputs": [],
   "source": [
    "orders.order_purchase_timestamp = pd.to_datetime(orders['order_purchase_timestamp'], format='%Y-%m-%d %H:%M:%S') # переводим строковые колонки во время\n",
    "orders.order_approved_at = pd.to_datetime(orders['order_approved_at'], format='%Y-%m-%d %H:%M:%S')\n",
    "orders.order_delivered_carrier_date = pd.to_datetime(orders['order_delivered_carrier_date'], format='%Y-%m-%d %H:%M:%S')\n",
    "orders.order_delivered_customer_date = pd.to_datetime(orders['order_delivered_customer_date'], format='%Y-%m-%d %H:%M:%S')\n",
    "orders.order_estimated_delivery_date = pd.to_datetime(orders['order_estimated_delivery_date'], format='%Y-%m-%d %H:%M:%S')"
   ]
  },
  {
   "cell_type": "code",
   "execution_count": 15,
   "metadata": {},
   "outputs": [],
   "source": [
    "purchase = orders.dropna(subset=['order_approved_at']) # удаляем строки с неподтверждённой оплатой. сохраняем отдельный датасет с покупками"
   ]
  },
  {
   "cell_type": "code",
   "execution_count": 16,
   "metadata": {},
   "outputs": [
    {
     "data": {
      "text/plain": [
       "delivered      96464\n",
       "shipped         1107\n",
       "unavailable      609\n",
       "canceled         484\n",
       "invoiced         314\n",
       "processing       301\n",
       "approved           2\n",
       "Name: order_status, dtype: int64"
      ]
     },
     "execution_count": 16,
     "metadata": {},
     "output_type": "execute_result"
    }
   ],
   "source": [
    "purchase.order_status.value_counts() "
   ]
  },
  {
   "cell_type": "markdown",
   "metadata": {},
   "source": [
    "Заказы со статусом created (неоплаченные) автоматически удалились из датафрейма, т.к. они только что созданы и пока не являются покупкой. Однако логично предположить, что заказы со статусом canceled и, вероятно, unavailable также нельзя считать покупкой, т.к. это может означать отсутствие товара на складе, невозможность доставки и прочие проблемы, делающие покупку невозможной."
   ]
  },
  {
   "cell_type": "code",
   "execution_count": 17,
   "metadata": {},
   "outputs": [],
   "source": [
    "purchase = purchase.query('order_status in (\"delivered\", \"shipped\", \"invoiced\", \"processing\", \"approved\")') #оставляем только статусы заказов, которые отражают факт покупки"
   ]
  },
  {
   "cell_type": "code",
   "execution_count": 18,
   "metadata": {},
   "outputs": [
    {
     "name": "stdout",
     "output_type": "stream",
     "text": [
      "Кол-во пользователей, которые совершили покупку только один раз - 92087 человек.\n"
     ]
    }
   ],
   "source": [
    "one_time_customers = purchase.groupby('customer_unique_id', as_index=False).agg({'order_id' : 'count'})\\\n",
    ".query('order_id == 1').shape[0] \n",
    "one_time_customers_message = 'Кол-во пользователей, которые совершили покупку только один раз - {} человек.'\n",
    "print(one_time_customers_message.format(one_time_customers))\n",
    "# Задание 1: кол-во пользователей, которые совершили покупку только один раз - 92087."
   ]
  },
  {
   "cell_type": "markdown",
   "metadata": {},
   "source": [
    "======Задача 2======= "
   ]
  },
  {
   "cell_type": "markdown",
   "metadata": {},
   "source": [
    "Под недоставленными заказами стоит понимать, вероятно, отменённые и недоступные. Заказы со статусом created нельзя считать недоставленными, т.к. они только что созданы, и их категория будет определена только в будущем (станут ли они покупкой или их, например, отменят).\n",
    "Соответственно, у нас 2 причины, по которым заказы не доставляются: отмена покупки и недоступность заказа."
   ]
  },
  {
   "cell_type": "code",
   "execution_count": 20,
   "metadata": {},
   "outputs": [],
   "source": [
    "no_purchase = orders.query('order_status in (\"canceled\", \"unavailable\")') # отберём заказы, которые не были доставлены."
   ]
  },
  {
   "cell_type": "code",
   "execution_count": 21,
   "metadata": {},
   "outputs": [
    {
     "data": {
      "text/plain": [
       "141"
      ]
     },
     "execution_count": 21,
     "metadata": {},
     "output_type": "execute_result"
    }
   ],
   "source": [
    "no_purchase.order_approved_at.isna().sum() # из этих заказов 141 даже не был оплачен"
   ]
  },
  {
   "cell_type": "code",
   "execution_count": 22,
   "metadata": {},
   "outputs": [
    {
     "name": "stderr",
     "output_type": "stream",
     "text": [
      "C:\\Users\\Vaanry\\AppData\\Local\\Temp\\ipykernel_10992\\3875415370.py:1: SettingWithCopyWarning: \n",
      "A value is trying to be set on a copy of a slice from a DataFrame.\n",
      "Try using .loc[row_indexer,col_indexer] = value instead\n",
      "\n",
      "See the caveats in the documentation: https://pandas.pydata.org/pandas-docs/stable/user_guide/indexing.html#returning-a-view-versus-a-copy\n",
      "  no_purchase['Year_Mounth'] = no_purchase.order_purchase_timestamp.dt.strftime('%Y-%m')# создание колонки с годом и месяцем заказа\n"
     ]
    }
   ],
   "source": [
    "no_purchase['Year_Mounth'] = no_purchase.order_purchase_timestamp.dt.strftime('%Y-%m')# создание колонки с годом и месяцем заказа"
   ]
  },
  {
   "cell_type": "code",
   "execution_count": 23,
   "metadata": {},
   "outputs": [
    {
     "data": {
      "text/html": [
       "<div>\n",
       "<style scoped>\n",
       "    .dataframe tbody tr th:only-of-type {\n",
       "        vertical-align: middle;\n",
       "    }\n",
       "\n",
       "    .dataframe tbody tr th {\n",
       "        vertical-align: top;\n",
       "    }\n",
       "\n",
       "    .dataframe thead th {\n",
       "        text-align: right;\n",
       "    }\n",
       "</style>\n",
       "<table border=\"1\" class=\"dataframe\">\n",
       "  <thead>\n",
       "    <tr style=\"text-align: right;\">\n",
       "      <th></th>\n",
       "      <th>Year_Mounth</th>\n",
       "      <th>order_status</th>\n",
       "      <th>quant</th>\n",
       "    </tr>\n",
       "  </thead>\n",
       "  <tbody>\n",
       "    <tr>\n",
       "      <th>0</th>\n",
       "      <td>2016-09</td>\n",
       "      <td>canceled</td>\n",
       "      <td>2</td>\n",
       "    </tr>\n",
       "    <tr>\n",
       "      <th>1</th>\n",
       "      <td>2016-10</td>\n",
       "      <td>canceled</td>\n",
       "      <td>24</td>\n",
       "    </tr>\n",
       "    <tr>\n",
       "      <th>2</th>\n",
       "      <td>2016-10</td>\n",
       "      <td>unavailable</td>\n",
       "      <td>7</td>\n",
       "    </tr>\n",
       "    <tr>\n",
       "      <th>3</th>\n",
       "      <td>2017-01</td>\n",
       "      <td>canceled</td>\n",
       "      <td>3</td>\n",
       "    </tr>\n",
       "    <tr>\n",
       "      <th>4</th>\n",
       "      <td>2017-01</td>\n",
       "      <td>unavailable</td>\n",
       "      <td>10</td>\n",
       "    </tr>\n",
       "  </tbody>\n",
       "</table>\n",
       "</div>"
      ],
      "text/plain": [
       "  Year_Mounth order_status  quant\n",
       "0     2016-09     canceled      2\n",
       "1     2016-10     canceled     24\n",
       "2     2016-10  unavailable      7\n",
       "3     2017-01     canceled      3\n",
       "4     2017-01  unavailable     10"
      ]
     },
     "execution_count": 23,
     "metadata": {},
     "output_type": "execute_result"
    }
   ],
   "source": [
    "no_purchase_by_mounth = no_purchase.groupby(['Year_Mounth', 'order_status'], as_index = False).agg({'order_id' :'count'}) # количество отменённых и недоступных заказов по месяцам\n",
    "no_purchase_by_mounth = no_purchase_by_mounth.rename(columns = {'order_id' : 'quant'})\n",
    "no_purchase_by_mounth.head()"
   ]
  },
  {
   "cell_type": "code",
   "execution_count": 24,
   "metadata": {},
   "outputs": [
    {
     "data": {
      "text/html": [
       "<div>\n",
       "<style scoped>\n",
       "    .dataframe tbody tr th:only-of-type {\n",
       "        vertical-align: middle;\n",
       "    }\n",
       "\n",
       "    .dataframe tbody tr th {\n",
       "        vertical-align: top;\n",
       "    }\n",
       "\n",
       "    .dataframe thead th {\n",
       "        text-align: right;\n",
       "    }\n",
       "</style>\n",
       "<table border=\"1\" class=\"dataframe\">\n",
       "  <thead>\n",
       "    <tr style=\"text-align: right;\">\n",
       "      <th></th>\n",
       "      <th>order_status</th>\n",
       "      <th>quant</th>\n",
       "    </tr>\n",
       "  </thead>\n",
       "  <tbody>\n",
       "    <tr>\n",
       "      <th>0</th>\n",
       "      <td>canceled</td>\n",
       "      <td>26.041667</td>\n",
       "    </tr>\n",
       "    <tr>\n",
       "      <th>1</th>\n",
       "      <td>unavailable</td>\n",
       "      <td>29.000000</td>\n",
       "    </tr>\n",
       "  </tbody>\n",
       "</table>\n",
       "</div>"
      ],
      "text/plain": [
       "  order_status      quant\n",
       "0     canceled  26.041667\n",
       "1  unavailable  29.000000"
      ]
     },
     "execution_count": 24,
     "metadata": {},
     "output_type": "execute_result"
    }
   ],
   "source": [
    "no_purchase_mean = no_purchase_by_mounth.groupby('order_status', as_index = False).agg({'quant' : 'mean'}) \n",
    "no_purchase_mean\n",
    "# Задание 2 - столько заказов в месяц в среднем не доставляется по разным причинам"
   ]
  },
  {
   "cell_type": "code",
   "execution_count": 25,
   "metadata": {},
   "outputs": [
    {
     "name": "stdout",
     "output_type": "stream",
     "text": [
      "В среднем в месяц отменяются 26.04 заказов, а 29.0 оказываются недоступными.\n"
     ]
    }
   ],
   "source": [
    "no_purchase_message = 'В среднем в месяц отменяются {} заказов, а {} оказываются недоступными.'\n",
    "print(no_purchase_message.format(no_purchase_mean.quant[0].round(2), no_purchase_mean.quant[1].round(2)))"
   ]
  },
  {
   "cell_type": "code",
   "execution_count": 26,
   "metadata": {},
   "outputs": [
    {
     "data": {
      "text/plain": [
       "<AxesSubplot:xlabel='Year_Mounth', ylabel='quant'>"
      ]
     },
     "execution_count": 26,
     "metadata": {},
     "output_type": "execute_result"
    },
    {
     "data": {
      "image/png": "[encoded data removed]",
      "text/plain": [
       "<Figure size 1440x576 with 1 Axes>"
      ]
     },
     "metadata": {
      "needs_background": "light"
     },
     "output_type": "display_data"
    }
   ],
   "source": [
    "plt.figure(figsize=(20,8))\n",
    "sns.lineplot(data=no_purchase_by_mounth, x='Year_Mounth', y='quant', hue = 'order_status') # график недоставленных заказов по месяцам"
   ]
  },
  {
   "cell_type": "markdown",
   "metadata": {},
   "source": [
    "По графику видно, что пик недоступности пришёлся на ноябрь 2017, а резкие скачки отмен были в феврале и августе 2018.\n",
    "Недоступность заказа связана, по всей видимости, с логистикой поставщика, и выявить точные причины скачков без дополнительных данных мы не сможем. Отмены же могут быть связаны со слишком долгим сроком доставки. Это можно проверить."
   ]
  },
  {
   "cell_type": "code",
   "execution_count": 28,
   "metadata": {},
   "outputs": [
    {
     "name": "stderr",
     "output_type": "stream",
     "text": [
      "C:\\Users\\Vaanry\\AppData\\Local\\Temp\\ipykernel_10992\\4031317086.py:1: SettingWithCopyWarning: \n",
      "A value is trying to be set on a copy of a slice from a DataFrame.\n",
      "Try using .loc[row_indexer,col_indexer] = value instead\n",
      "\n",
      "See the caveats in the documentation: https://pandas.pydata.org/pandas-docs/stable/user_guide/indexing.html#returning-a-view-versus-a-copy\n",
      "  no_purchase['delivery_time'] = no_purchase.order_estimated_delivery_date - no_purchase.order_purchase_timestamp # создадим колонку с временем доставки\n",
      "C:\\Users\\Vaanry\\AppData\\Local\\Temp\\ipykernel_10992\\4031317086.py:2: SettingWithCopyWarning: \n",
      "A value is trying to be set on a copy of a slice from a DataFrame.\n",
      "Try using .loc[row_indexer,col_indexer] = value instead\n",
      "\n",
      "See the caveats in the documentation: https://pandas.pydata.org/pandas-docs/stable/user_guide/indexing.html#returning-a-view-versus-a-copy\n",
      "  no_purchase.delivery_time = no_purchase.delivery_time.dt.days\n"
     ]
    }
   ],
   "source": [
    "no_purchase['delivery_time'] = no_purchase.order_estimated_delivery_date - no_purchase.order_purchase_timestamp # создадим колонку с временем доставки\n",
    "no_purchase.delivery_time = no_purchase.delivery_time.dt.days"
   ]
  },
  {
   "cell_type": "code",
   "execution_count": 29,
   "metadata": {},
   "outputs": [],
   "source": [
    "delivery_mean = no_purchase.groupby(['Year_Mounth'], as_index = False).agg({'delivery_time' :'mean'})"
   ]
  },
  {
   "cell_type": "code",
   "execution_count": 30,
   "metadata": {},
   "outputs": [
    {
     "data": {
      "text/plain": [
       "<AxesSubplot:xlabel='Year_Mounth', ylabel='delivery_time'>"
      ]
     },
     "execution_count": 30,
     "metadata": {},
     "output_type": "execute_result"
    },
    {
     "data": {
      "image/png": "[encoded data removed]",
      "text/plain": [
       "<Figure size 1440x576 with 1 Axes>"
      ]
     },
     "metadata": {
      "needs_background": "light"
     },
     "output_type": "display_data"
    }
   ],
   "source": [
    "plt.figure(figsize=(20,8))\n",
    "sns.lineplot(data=delivery_mean, x='Year_Mounth', y='delivery_time')"
   ]
  },
  {
   "cell_type": "markdown",
   "metadata": {},
   "source": [
    "Очевидно, график изменения ожидаемого времени доставки не слишком похож на график кол-ва отмен. Однако видно, что в ноябре 2017\n",
    "ожидаемое время доставки начало увеличиваться, и вслед за этим в декабре 2017 график кол-ва отмен также пополз вверх.\n",
    "График отмен проходит через пик в начале 2018 с некоторым запозданием от графика времени доставки. Схожая картина со вторым пиком: график ожидаемого времени доставки идёт вверх в апреле и (особенно) в мае, а кол-во отмен сначала немного увеличивается\n",
    "в апреле, а затем наблюдается резкий скачок в июне, с некоторым запозданием от времени доставки (что логично). Так в качестве\n",
    "причины увеличениякол-ва отмен в 2017 и 2018 можно предположить увеличение ожидаемого времени доставки."
   ]
  },
  {
   "cell_type": "markdown",
   "metadata": {},
   "source": [
    "#======Задача 3======="
   ]
  },
  {
   "cell_type": "code",
   "execution_count": 33,
   "metadata": {},
   "outputs": [],
   "source": [
    "purchase_products = purchase.merge(items[['order_id','product_id']], on = 'order_id') # добавляем в таблицу столбец с идентификатором товара"
   ]
  },
  {
   "cell_type": "code",
   "execution_count": 34,
   "metadata": {},
   "outputs": [],
   "source": [
    "purchase_products['Weekday'] = purchase_products.order_purchase_timestamp.dt.strftime('%a') # добавляем день недели"
   ]
  },
  {
   "cell_type": "code",
   "execution_count": 35,
   "metadata": {},
   "outputs": [
    {
     "data": {
      "text/html": [
       "<div>\n",
       "<style scoped>\n",
       "    .dataframe tbody tr th:only-of-type {\n",
       "        vertical-align: middle;\n",
       "    }\n",
       "\n",
       "    .dataframe tbody tr th {\n",
       "        vertical-align: top;\n",
       "    }\n",
       "\n",
       "    .dataframe thead th {\n",
       "        text-align: right;\n",
       "    }\n",
       "</style>\n",
       "<table border=\"1\" class=\"dataframe\">\n",
       "  <thead>\n",
       "    <tr style=\"text-align: right;\">\n",
       "      <th></th>\n",
       "      <th>product_id</th>\n",
       "      <th>Weekday</th>\n",
       "    </tr>\n",
       "  </thead>\n",
       "  <tbody>\n",
       "    <tr>\n",
       "      <th>0</th>\n",
       "      <td>00066f42aeeb9f3007548bb9d3f33c38</td>\n",
       "      <td>Sun</td>\n",
       "    </tr>\n",
       "    <tr>\n",
       "      <th>1</th>\n",
       "      <td>00088930e925c41fd95ebfe695fd2655</td>\n",
       "      <td>Tue</td>\n",
       "    </tr>\n",
       "    <tr>\n",
       "      <th>2</th>\n",
       "      <td>0009406fd7479715e4bef61dd91f2462</td>\n",
       "      <td>Thu</td>\n",
       "    </tr>\n",
       "    <tr>\n",
       "      <th>3</th>\n",
       "      <td>000b8f95fcb9e0096488278317764d19</td>\n",
       "      <td>Fri</td>\n",
       "    </tr>\n",
       "    <tr>\n",
       "      <th>4</th>\n",
       "      <td>000d9be29b5207b54e86aa1b1ac54872</td>\n",
       "      <td>Tue</td>\n",
       "    </tr>\n",
       "    <tr>\n",
       "      <th>...</th>\n",
       "      <td>...</td>\n",
       "      <td>...</td>\n",
       "    </tr>\n",
       "    <tr>\n",
       "      <th>32721</th>\n",
       "      <td>fff6177642830a9a94a0f2cba5e476d1</td>\n",
       "      <td>Sat</td>\n",
       "    </tr>\n",
       "    <tr>\n",
       "      <th>32722</th>\n",
       "      <td>fff81cc3158d2725c0655ab9ba0f712c</td>\n",
       "      <td>Mon</td>\n",
       "    </tr>\n",
       "    <tr>\n",
       "      <th>32723</th>\n",
       "      <td>fff9553ac224cec9d15d49f5a263411f</td>\n",
       "      <td>Fri</td>\n",
       "    </tr>\n",
       "    <tr>\n",
       "      <th>32724</th>\n",
       "      <td>fffdb2d0ec8d6a61f0a0a0db3f25b441</td>\n",
       "      <td>Tue</td>\n",
       "    </tr>\n",
       "    <tr>\n",
       "      <th>32725</th>\n",
       "      <td>fffe9eeff12fcbd74a2f2b007dde0c58</td>\n",
       "      <td>Wed</td>\n",
       "    </tr>\n",
       "  </tbody>\n",
       "</table>\n",
       "<p>32726 rows × 2 columns</p>\n",
       "</div>"
      ],
      "text/plain": [
       "                             product_id Weekday\n",
       "0      00066f42aeeb9f3007548bb9d3f33c38     Sun\n",
       "1      00088930e925c41fd95ebfe695fd2655     Tue\n",
       "2      0009406fd7479715e4bef61dd91f2462     Thu\n",
       "3      000b8f95fcb9e0096488278317764d19     Fri\n",
       "4      000d9be29b5207b54e86aa1b1ac54872     Tue\n",
       "...                                 ...     ...\n",
       "32721  fff6177642830a9a94a0f2cba5e476d1     Sat\n",
       "32722  fff81cc3158d2725c0655ab9ba0f712c     Mon\n",
       "32723  fff9553ac224cec9d15d49f5a263411f     Fri\n",
       "32724  fffdb2d0ec8d6a61f0a0a0db3f25b441     Tue\n",
       "32725  fffe9eeff12fcbd74a2f2b007dde0c58     Wed\n",
       "\n",
       "[32726 rows x 2 columns]"
      ]
     },
     "execution_count": 35,
     "metadata": {},
     "output_type": "execute_result"
    }
   ],
   "source": [
    "products_weekday = purchase_products.groupby(['product_id', 'Weekday'], as_index = False).agg({'order_id':'count'}).pivot(index='product_id', columns='Weekday', values='order_id').fillna(0).idxmax(axis = 1).to_frame().reset_index()\n",
    "products_weekday = products_weekday.rename(columns={0:'Weekday'})\n",
    "products_weekday\n",
    "#Задание 3: таблица с указанием дней недели, в которые чаще всего данный товар покупается"
   ]
  },
  {
   "cell_type": "markdown",
   "metadata": {},
   "source": [
    "======Задача 4======="
   ]
  },
  {
   "cell_type": "code",
   "execution_count": 37,
   "metadata": {},
   "outputs": [],
   "source": [
    "purchase['Year_Mounth'] = purchase.order_purchase_timestamp.dt.to_period('M')# создание колонки с годом и месяцем заказа для удобства группировки и подсчётов по месяцам"
   ]
  },
  {
   "cell_type": "code",
   "execution_count": 38,
   "metadata": {},
   "outputs": [],
   "source": [
    "purchase_mounth = purchase.groupby(['customer_unique_id', 'Year_Mounth'], as_index = False).agg({'order_id' : 'count'}) \n",
    "purchase_mounth = purchase_mounth.rename(columns={'order_id' :'mounth_sum'})\n",
    "# кол-во заказов в месяц у каждого пользователя"
   ]
  },
  {
   "cell_type": "code",
   "execution_count": 39,
   "metadata": {},
   "outputs": [],
   "source": [
    "purchase_mounth['Days'] = purchase_mounth.Year_Mounth.dt.daysinmonth #создание колонки с количеством дней в текущем месяце\n",
    "purchase_mounth['Weeks_quant'] = purchase_mounth.Days / 7 # создание колонки с кол-вом недель в текущем месяце, \n",
    "# т.к. в каждой неделе 7 дней, следовательно, чтобы получить кол-во недель - нужно кол-во дней разделить на 7"
   ]
  },
  {
   "cell_type": "code",
   "execution_count": 40,
   "metadata": {},
   "outputs": [
    {
     "data": {
      "text/html": [
       "<div>\n",
       "<style scoped>\n",
       "    .dataframe tbody tr th:only-of-type {\n",
       "        vertical-align: middle;\n",
       "    }\n",
       "\n",
       "    .dataframe tbody tr th {\n",
       "        vertical-align: top;\n",
       "    }\n",
       "\n",
       "    .dataframe thead th {\n",
       "        text-align: right;\n",
       "    }\n",
       "</style>\n",
       "<table border=\"1\" class=\"dataframe\">\n",
       "  <thead>\n",
       "    <tr style=\"text-align: right;\">\n",
       "      <th></th>\n",
       "      <th>customer_unique_id</th>\n",
       "      <th>Year_Mounth</th>\n",
       "      <th>mounth_sum</th>\n",
       "      <th>Days</th>\n",
       "      <th>Weeks_quant</th>\n",
       "      <th>Week_mean</th>\n",
       "    </tr>\n",
       "  </thead>\n",
       "  <tbody>\n",
       "    <tr>\n",
       "      <th>0</th>\n",
       "      <td>0000366f3b9a7992bf8c76cfdf3221e2</td>\n",
       "      <td>2018-05</td>\n",
       "      <td>1</td>\n",
       "      <td>31</td>\n",
       "      <td>4.428571</td>\n",
       "      <td>0.225806</td>\n",
       "    </tr>\n",
       "    <tr>\n",
       "      <th>1</th>\n",
       "      <td>0000b849f77a49e4a4ce2b2a4ca5be3f</td>\n",
       "      <td>2018-05</td>\n",
       "      <td>1</td>\n",
       "      <td>31</td>\n",
       "      <td>4.428571</td>\n",
       "      <td>0.225806</td>\n",
       "    </tr>\n",
       "    <tr>\n",
       "      <th>2</th>\n",
       "      <td>0000f46a3911fa3c0805444483337064</td>\n",
       "      <td>2017-03</td>\n",
       "      <td>1</td>\n",
       "      <td>31</td>\n",
       "      <td>4.428571</td>\n",
       "      <td>0.225806</td>\n",
       "    </tr>\n",
       "    <tr>\n",
       "      <th>3</th>\n",
       "      <td>0000f6ccb0745a6a4b88665a16c9f078</td>\n",
       "      <td>2017-10</td>\n",
       "      <td>1</td>\n",
       "      <td>31</td>\n",
       "      <td>4.428571</td>\n",
       "      <td>0.225806</td>\n",
       "    </tr>\n",
       "    <tr>\n",
       "      <th>4</th>\n",
       "      <td>0004aac84e0df4da2b147fca70cf8255</td>\n",
       "      <td>2017-11</td>\n",
       "      <td>1</td>\n",
       "      <td>30</td>\n",
       "      <td>4.285714</td>\n",
       "      <td>0.233333</td>\n",
       "    </tr>\n",
       "    <tr>\n",
       "      <th>...</th>\n",
       "      <td>...</td>\n",
       "      <td>...</td>\n",
       "      <td>...</td>\n",
       "      <td>...</td>\n",
       "      <td>...</td>\n",
       "      <td>...</td>\n",
       "    </tr>\n",
       "    <tr>\n",
       "      <th>96845</th>\n",
       "      <td>fffcf5a5ff07b0908bd4e2dbc735a684</td>\n",
       "      <td>2017-06</td>\n",
       "      <td>1</td>\n",
       "      <td>30</td>\n",
       "      <td>4.285714</td>\n",
       "      <td>0.233333</td>\n",
       "    </tr>\n",
       "    <tr>\n",
       "      <th>96846</th>\n",
       "      <td>fffea47cd6d3cc0a88bd621562a9d061</td>\n",
       "      <td>2017-12</td>\n",
       "      <td>1</td>\n",
       "      <td>31</td>\n",
       "      <td>4.428571</td>\n",
       "      <td>0.225806</td>\n",
       "    </tr>\n",
       "    <tr>\n",
       "      <th>96847</th>\n",
       "      <td>ffff371b4d645b6ecea244b27531430a</td>\n",
       "      <td>2017-02</td>\n",
       "      <td>1</td>\n",
       "      <td>28</td>\n",
       "      <td>4.000000</td>\n",
       "      <td>0.250000</td>\n",
       "    </tr>\n",
       "    <tr>\n",
       "      <th>96848</th>\n",
       "      <td>ffff5962728ec6157033ef9805bacc48</td>\n",
       "      <td>2018-05</td>\n",
       "      <td>1</td>\n",
       "      <td>31</td>\n",
       "      <td>4.428571</td>\n",
       "      <td>0.225806</td>\n",
       "    </tr>\n",
       "    <tr>\n",
       "      <th>96849</th>\n",
       "      <td>ffffd2657e2aad2907e67c3e9daecbeb</td>\n",
       "      <td>2017-05</td>\n",
       "      <td>1</td>\n",
       "      <td>31</td>\n",
       "      <td>4.428571</td>\n",
       "      <td>0.225806</td>\n",
       "    </tr>\n",
       "  </tbody>\n",
       "</table>\n",
       "<p>96850 rows × 6 columns</p>\n",
       "</div>"
      ],
      "text/plain": [
       "                     customer_unique_id Year_Mounth  mounth_sum  Days  \\\n",
       "0      0000366f3b9a7992bf8c76cfdf3221e2     2018-05           1    31   \n",
       "1      0000b849f77a49e4a4ce2b2a4ca5be3f     2018-05           1    31   \n",
       "2      0000f46a3911fa3c0805444483337064     2017-03           1    31   \n",
       "3      0000f6ccb0745a6a4b88665a16c9f078     2017-10           1    31   \n",
       "4      0004aac84e0df4da2b147fca70cf8255     2017-11           1    30   \n",
       "...                                 ...         ...         ...   ...   \n",
       "96845  fffcf5a5ff07b0908bd4e2dbc735a684     2017-06           1    30   \n",
       "96846  fffea47cd6d3cc0a88bd621562a9d061     2017-12           1    31   \n",
       "96847  ffff371b4d645b6ecea244b27531430a     2017-02           1    28   \n",
       "96848  ffff5962728ec6157033ef9805bacc48     2018-05           1    31   \n",
       "96849  ffffd2657e2aad2907e67c3e9daecbeb     2017-05           1    31   \n",
       "\n",
       "       Weeks_quant  Week_mean  \n",
       "0         4.428571   0.225806  \n",
       "1         4.428571   0.225806  \n",
       "2         4.428571   0.225806  \n",
       "3         4.428571   0.225806  \n",
       "4         4.285714   0.233333  \n",
       "...            ...        ...  \n",
       "96845     4.285714   0.233333  \n",
       "96846     4.428571   0.225806  \n",
       "96847     4.000000   0.250000  \n",
       "96848     4.428571   0.225806  \n",
       "96849     4.428571   0.225806  \n",
       "\n",
       "[96850 rows x 6 columns]"
      ]
     },
     "execution_count": 40,
     "metadata": {},
     "output_type": "execute_result"
    }
   ],
   "source": [
    "purchase_mounth['Week_mean'] = purchase_mounth.mounth_sum / purchase_mounth.Weeks_quant\n",
    "purchase_mounth\n",
    "# Задание 4: Week_mean - искомое среднее кол-во заказов в неделю на пользователя с разбивкой по месяцам. Цифры очень маленькие,\n",
    "# т.к. подавляющее большинство пользователей совершили покупку только 1 раз. Возможно, в данном случае эта метрика не имеет смысла."
   ]
  },
  {
   "cell_type": "code",
   "execution_count": 41,
   "metadata": {},
   "outputs": [
    {
     "name": "stderr",
     "output_type": "stream",
     "text": [
      "C:\\Users\\Vaanry\\AppData\\Local\\Temp\\ipykernel_10992\\635483471.py:3: SettingWithCopyWarning: \n",
      "A value is trying to be set on a copy of a slice from a DataFrame.\n",
      "Try using .loc[row_indexer,col_indexer] = value instead\n",
      "\n",
      "See the caveats in the documentation: https://pandas.pydata.org/pandas-docs/stable/user_guide/indexing.html#returning-a-view-versus-a-copy\n",
      "  purchase_mounth_plot.Year_Mounth = purchase_mounth_plot.Year_Mounth.dt.strftime('%Y-%m')\n"
     ]
    },
    {
     "data": {
      "text/plain": [
       "<AxesSubplot:xlabel='Year_Mounth', ylabel='Week_mean'>"
      ]
     },
     "execution_count": 41,
     "metadata": {},
     "output_type": "execute_result"
    },
    {
     "data": {
      "image/png": "[encoded data removed]",
      "text/plain": [
       "<Figure size 1440x576 with 1 Axes>"
      ]
     },
     "metadata": {
      "needs_background": "light"
     },
     "output_type": "display_data"
    }
   ],
   "source": [
    "plt.figure(figsize=(20,8))\n",
    "purchase_mounth_plot = purchase_mounth[['Year_Mounth', 'Week_mean']]\n",
    "purchase_mounth_plot.Year_Mounth = purchase_mounth_plot.Year_Mounth.dt.strftime('%Y-%m')\n",
    "purchase_mounth_plot = purchase_mounth_plot.sort_values('Year_Mounth')\n",
    "sns.lineplot(data = purchase_mounth_plot,  x = 'Year_Mounth', y = 'Week_mean')\n",
    "#График изменения среднего кол-ва покупок в неделю по месяцам"
   ]
  },
  {
   "cell_type": "markdown",
   "metadata": {},
   "source": [
    "В течении 2х лет пики недельного кол-ва продаж приходились на февраль. Возможно, это связано с какими-то сезонными событиями\n",
    "(например, февральские праздники)."
   ]
  },
  {
   "cell_type": "markdown",
   "metadata": {},
   "source": [
    "Возможно, больше смысла будет в данных по клиентам, которые совершили более 1 покупки. Для этого уберём из дф клиентов,\n",
    "которые что-то купили только 1 раз, и повторим анализ на них."
   ]
  },
  {
   "cell_type": "code",
   "execution_count": 44,
   "metadata": {},
   "outputs": [],
   "source": [
    "mask_cust = purchase.groupby('customer_unique_id', as_index=False).agg({'order_id' : 'count'})\\\n",
    ".query('order_id == 1').customer_unique_id.tolist() # используя код из 1 задания, создадим список для фильтрации"
   ]
  },
  {
   "cell_type": "code",
   "execution_count": 45,
   "metadata": {},
   "outputs": [],
   "source": [
    "purchase_no_one = purchase.query('customer_unique_id not in @mask_cust') # уберём из дт строки с данными клиентами"
   ]
  },
  {
   "cell_type": "code",
   "execution_count": 46,
   "metadata": {},
   "outputs": [
    {
     "data": {
      "text/plain": [
       "(6101, 10)"
      ]
     },
     "execution_count": 46,
     "metadata": {},
     "output_type": "execute_result"
    }
   ],
   "source": [
    "purchase_no_one.shape # в итоге получим сильно сокращённый дф"
   ]
  },
  {
   "cell_type": "code",
   "execution_count": 47,
   "metadata": {},
   "outputs": [
    {
     "data": {
      "text/html": [
       "<div>\n",
       "<style scoped>\n",
       "    .dataframe tbody tr th:only-of-type {\n",
       "        vertical-align: middle;\n",
       "    }\n",
       "\n",
       "    .dataframe tbody tr th {\n",
       "        vertical-align: top;\n",
       "    }\n",
       "\n",
       "    .dataframe thead th {\n",
       "        text-align: right;\n",
       "    }\n",
       "</style>\n",
       "<table border=\"1\" class=\"dataframe\">\n",
       "  <thead>\n",
       "    <tr style=\"text-align: right;\">\n",
       "      <th></th>\n",
       "      <th>customer_unique_id</th>\n",
       "      <th>Year_Mounth</th>\n",
       "      <th>mounth_sum</th>\n",
       "      <th>Days</th>\n",
       "      <th>Weeks_quant</th>\n",
       "      <th>Week_mean</th>\n",
       "    </tr>\n",
       "  </thead>\n",
       "  <tbody>\n",
       "    <tr>\n",
       "      <th>0</th>\n",
       "      <td>004288347e5e88a27ded2bb23747066c</td>\n",
       "      <td>2017-07</td>\n",
       "      <td>1</td>\n",
       "      <td>31</td>\n",
       "      <td>4.428571</td>\n",
       "      <td>0.225806</td>\n",
       "    </tr>\n",
       "    <tr>\n",
       "      <th>1</th>\n",
       "      <td>004288347e5e88a27ded2bb23747066c</td>\n",
       "      <td>2018-01</td>\n",
       "      <td>1</td>\n",
       "      <td>31</td>\n",
       "      <td>4.428571</td>\n",
       "      <td>0.225806</td>\n",
       "    </tr>\n",
       "    <tr>\n",
       "      <th>2</th>\n",
       "      <td>004b45ec5c64187465168251cd1c9c2f</td>\n",
       "      <td>2017-09</td>\n",
       "      <td>1</td>\n",
       "      <td>30</td>\n",
       "      <td>4.285714</td>\n",
       "      <td>0.233333</td>\n",
       "    </tr>\n",
       "    <tr>\n",
       "      <th>3</th>\n",
       "      <td>004b45ec5c64187465168251cd1c9c2f</td>\n",
       "      <td>2018-05</td>\n",
       "      <td>1</td>\n",
       "      <td>31</td>\n",
       "      <td>4.428571</td>\n",
       "      <td>0.225806</td>\n",
       "    </tr>\n",
       "    <tr>\n",
       "      <th>4</th>\n",
       "      <td>00a39521eb40f7012db50455bf083460</td>\n",
       "      <td>2018-05</td>\n",
       "      <td>1</td>\n",
       "      <td>31</td>\n",
       "      <td>4.428571</td>\n",
       "      <td>0.225806</td>\n",
       "    </tr>\n",
       "    <tr>\n",
       "      <th>...</th>\n",
       "      <td>...</td>\n",
       "      <td>...</td>\n",
       "      <td>...</td>\n",
       "      <td>...</td>\n",
       "      <td>...</td>\n",
       "      <td>...</td>\n",
       "    </tr>\n",
       "    <tr>\n",
       "      <th>4758</th>\n",
       "      <td>ff8892f7c26aa0446da53d01b18df463</td>\n",
       "      <td>2017-11</td>\n",
       "      <td>1</td>\n",
       "      <td>30</td>\n",
       "      <td>4.285714</td>\n",
       "      <td>0.233333</td>\n",
       "    </tr>\n",
       "    <tr>\n",
       "      <th>4759</th>\n",
       "      <td>ff922bdd6bafcdf99cb90d7f39cea5b3</td>\n",
       "      <td>2017-02</td>\n",
       "      <td>1</td>\n",
       "      <td>28</td>\n",
       "      <td>4.000000</td>\n",
       "      <td>0.250000</td>\n",
       "    </tr>\n",
       "    <tr>\n",
       "      <th>4760</th>\n",
       "      <td>ff922bdd6bafcdf99cb90d7f39cea5b3</td>\n",
       "      <td>2017-08</td>\n",
       "      <td>1</td>\n",
       "      <td>31</td>\n",
       "      <td>4.428571</td>\n",
       "      <td>0.225806</td>\n",
       "    </tr>\n",
       "    <tr>\n",
       "      <th>4761</th>\n",
       "      <td>ff922bdd6bafcdf99cb90d7f39cea5b3</td>\n",
       "      <td>2017-09</td>\n",
       "      <td>1</td>\n",
       "      <td>30</td>\n",
       "      <td>4.285714</td>\n",
       "      <td>0.233333</td>\n",
       "    </tr>\n",
       "    <tr>\n",
       "      <th>4762</th>\n",
       "      <td>ffe254cc039740e17dd15a5305035928</td>\n",
       "      <td>2017-04</td>\n",
       "      <td>2</td>\n",
       "      <td>30</td>\n",
       "      <td>4.285714</td>\n",
       "      <td>0.466667</td>\n",
       "    </tr>\n",
       "  </tbody>\n",
       "</table>\n",
       "<p>4763 rows × 6 columns</p>\n",
       "</div>"
      ],
      "text/plain": [
       "                    customer_unique_id Year_Mounth  mounth_sum  Days  \\\n",
       "0     004288347e5e88a27ded2bb23747066c     2017-07           1    31   \n",
       "1     004288347e5e88a27ded2bb23747066c     2018-01           1    31   \n",
       "2     004b45ec5c64187465168251cd1c9c2f     2017-09           1    30   \n",
       "3     004b45ec5c64187465168251cd1c9c2f     2018-05           1    31   \n",
       "4     00a39521eb40f7012db50455bf083460     2018-05           1    31   \n",
       "...                                ...         ...         ...   ...   \n",
       "4758  ff8892f7c26aa0446da53d01b18df463     2017-11           1    30   \n",
       "4759  ff922bdd6bafcdf99cb90d7f39cea5b3     2017-02           1    28   \n",
       "4760  ff922bdd6bafcdf99cb90d7f39cea5b3     2017-08           1    31   \n",
       "4761  ff922bdd6bafcdf99cb90d7f39cea5b3     2017-09           1    30   \n",
       "4762  ffe254cc039740e17dd15a5305035928     2017-04           2    30   \n",
       "\n",
       "      Weeks_quant  Week_mean  \n",
       "0        4.428571   0.225806  \n",
       "1        4.428571   0.225806  \n",
       "2        4.285714   0.233333  \n",
       "3        4.428571   0.225806  \n",
       "4        4.428571   0.225806  \n",
       "...           ...        ...  \n",
       "4758     4.285714   0.233333  \n",
       "4759     4.000000   0.250000  \n",
       "4760     4.428571   0.225806  \n",
       "4761     4.285714   0.233333  \n",
       "4762     4.285714   0.466667  \n",
       "\n",
       "[4763 rows x 6 columns]"
      ]
     },
     "execution_count": 47,
     "metadata": {},
     "output_type": "execute_result"
    }
   ],
   "source": [
    "purchase_mounth_no_one = purchase_no_one.groupby(['customer_unique_id', 'Year_Mounth'], as_index = False).agg({'order_id' : 'count'}) \n",
    "purchase_mounth_no_one = purchase_mounth_no_one.rename(columns={'order_id' :'mounth_sum'})\n",
    "purchase_mounth_no_one['Days'] = purchase_mounth_no_one.Year_Mounth.dt.daysinmonth \n",
    "purchase_mounth_no_one['Weeks_quant'] = purchase_mounth_no_one.Days / 7\n",
    "purchase_mounth_no_one['Week_mean'] = purchase_mounth_no_one.mounth_sum / purchase_mounth_no_one.Weeks_quant\n",
    "purchase_mounth_no_one"
   ]
  },
  {
   "cell_type": "code",
   "execution_count": 48,
   "metadata": {},
   "outputs": [
    {
     "name": "stderr",
     "output_type": "stream",
     "text": [
      "C:\\Users\\Vaanry\\AppData\\Local\\Temp\\ipykernel_10992\\2087439797.py:3: SettingWithCopyWarning: \n",
      "A value is trying to be set on a copy of a slice from a DataFrame.\n",
      "Try using .loc[row_indexer,col_indexer] = value instead\n",
      "\n",
      "See the caveats in the documentation: https://pandas.pydata.org/pandas-docs/stable/user_guide/indexing.html#returning-a-view-versus-a-copy\n",
      "  purchase_mounth_no_one_plot.Year_Mounth = purchase_mounth_no_one_plot.Year_Mounth.dt.strftime('%Y-%m')\n"
     ]
    },
    {
     "data": {
      "text/plain": [
       "<AxesSubplot:xlabel='Year_Mounth', ylabel='Week_mean'>"
      ]
     },
     "execution_count": 48,
     "metadata": {},
     "output_type": "execute_result"
    },
    {
     "data": {
      "image/png": "[encoded data removed]",
      "text/plain": [
       "<Figure size 1440x576 with 1 Axes>"
      ]
     },
     "metadata": {
      "needs_background": "light"
     },
     "output_type": "display_data"
    }
   ],
   "source": [
    "plt.figure(figsize=(20,8))\n",
    "purchase_mounth_no_one_plot = purchase_mounth_no_one[['Year_Mounth', 'Week_mean']]\n",
    "purchase_mounth_no_one_plot.Year_Mounth = purchase_mounth_no_one_plot.Year_Mounth.dt.strftime('%Y-%m')\n",
    "purchase_mounth_no_one_plot = purchase_mounth_no_one_plot.sort_values('Year_Mounth')\n",
    "sns.lineplot(data = purchase_mounth_no_one_plot,  x = 'Year_Mounth', y = 'Week_mean')"
   ]
  },
  {
   "cell_type": "markdown",
   "metadata": {},
   "source": [
    "Несмотря на то, что из данных убрали пользователей, которые совершили только одну покупку, принципиально это на данные не повлияло,и метрика всё равно не превысила даже отметку в 0.5. Однако, график получился гораздо более сглаженным, хотя основные пики остались на примерно тех же местах."
   ]
  },
  {
   "cell_type": "markdown",
   "metadata": {},
   "source": [
    "======Задача 5======="
   ]
  },
  {
   "cell_type": "code",
   "execution_count": 51,
   "metadata": {},
   "outputs": [],
   "source": [
    "mask = (purchase['order_purchase_timestamp'] > '2017-01-01 00:00:00') & (purchase['order_purchase_timestamp'] <= '2018-02-28 23:59:59')\n",
    "#создание маски для фильтрации датафрейма по датам за 2017 г. Но поскольку нас интересует retention на 3й месяц,\n",
    "#то в итоговый датафрейм также нужно включить данные за первые 2 месяца 2018 г, т.к. в них содержится информация по заказам\n",
    "#пользователей, впервые совершивших покупку в ноябре-декабре 2017 г."
   ]
  },
  {
   "cell_type": "code",
   "execution_count": 52,
   "metadata": {},
   "outputs": [],
   "source": [
    "purchase_2017 = purchase.loc[mask] #применение маски и фильтрация датафрейма"
   ]
  },
  {
   "cell_type": "code",
   "execution_count": 53,
   "metadata": {},
   "outputs": [
    {
     "data": {
      "text/html": [
       "<div>\n",
       "<style scoped>\n",
       "    .dataframe tbody tr th:only-of-type {\n",
       "        vertical-align: middle;\n",
       "    }\n",
       "\n",
       "    .dataframe tbody tr th {\n",
       "        vertical-align: top;\n",
       "    }\n",
       "\n",
       "    .dataframe thead th {\n",
       "        text-align: right;\n",
       "    }\n",
       "</style>\n",
       "<table border=\"1\" class=\"dataframe\">\n",
       "  <thead>\n",
       "    <tr style=\"text-align: right;\">\n",
       "      <th></th>\n",
       "      <th>customer_unique_id</th>\n",
       "      <th>first_orders</th>\n",
       "    </tr>\n",
       "  </thead>\n",
       "  <tbody>\n",
       "    <tr>\n",
       "      <th>0</th>\n",
       "      <td>0000f46a3911fa3c0805444483337064</td>\n",
       "      <td>2017-03</td>\n",
       "    </tr>\n",
       "    <tr>\n",
       "      <th>1</th>\n",
       "      <td>0000f6ccb0745a6a4b88665a16c9f078</td>\n",
       "      <td>2017-10</td>\n",
       "    </tr>\n",
       "    <tr>\n",
       "      <th>2</th>\n",
       "      <td>0004aac84e0df4da2b147fca70cf8255</td>\n",
       "      <td>2017-11</td>\n",
       "    </tr>\n",
       "    <tr>\n",
       "      <th>3</th>\n",
       "      <td>00053a61a98854899e70ed204dd4bafe</td>\n",
       "      <td>2018-02</td>\n",
       "    </tr>\n",
       "    <tr>\n",
       "      <th>4</th>\n",
       "      <td>0005e1862207bf6ccc02e4228effd9a0</td>\n",
       "      <td>2017-03</td>\n",
       "    </tr>\n",
       "  </tbody>\n",
       "</table>\n",
       "</div>"
      ],
      "text/plain": [
       "                 customer_unique_id first_orders\n",
       "0  0000f46a3911fa3c0805444483337064      2017-03\n",
       "1  0000f6ccb0745a6a4b88665a16c9f078      2017-10\n",
       "2  0004aac84e0df4da2b147fca70cf8255      2017-11\n",
       "3  00053a61a98854899e70ed204dd4bafe      2018-02\n",
       "4  0005e1862207bf6ccc02e4228effd9a0      2017-03"
      ]
     },
     "execution_count": 53,
     "metadata": {},
     "output_type": "execute_result"
    }
   ],
   "source": [
    "first_orders = purchase_2017.groupby('customer_unique_id', as_index=False).agg({'Year_Mounth': 'min'}).rename(columns={'Year_Mounth' : 'first_orders'})\n",
    "first_orders.head() #ищем дату первой покупки для каждого пользователя"
   ]
  },
  {
   "cell_type": "code",
   "execution_count": 54,
   "metadata": {},
   "outputs": [],
   "source": [
    "purchase_2017 = purchase_2017.merge(first_orders, how='inner', on='customer_unique_id') #добавляем в дф колонку с датой первого заказа"
   ]
  },
  {
   "cell_type": "code",
   "execution_count": 55,
   "metadata": {},
   "outputs": [
    {
     "data": {
      "text/html": [
       "<div>\n",
       "<style scoped>\n",
       "    .dataframe tbody tr th:only-of-type {\n",
       "        vertical-align: middle;\n",
       "    }\n",
       "\n",
       "    .dataframe tbody tr th {\n",
       "        vertical-align: top;\n",
       "    }\n",
       "\n",
       "    .dataframe thead th {\n",
       "        text-align: right;\n",
       "    }\n",
       "</style>\n",
       "<table border=\"1\" class=\"dataframe\">\n",
       "  <thead>\n",
       "    <tr style=\"text-align: right;\">\n",
       "      <th></th>\n",
       "      <th>cohorts</th>\n",
       "      <th>customer_first_mounth</th>\n",
       "    </tr>\n",
       "  </thead>\n",
       "  <tbody>\n",
       "    <tr>\n",
       "      <th>0</th>\n",
       "      <td>2017-01</td>\n",
       "      <td>812</td>\n",
       "    </tr>\n",
       "    <tr>\n",
       "      <th>1</th>\n",
       "      <td>2017-02</td>\n",
       "      <td>1743</td>\n",
       "    </tr>\n",
       "    <tr>\n",
       "      <th>2</th>\n",
       "      <td>2017-03</td>\n",
       "      <td>2695</td>\n",
       "    </tr>\n",
       "    <tr>\n",
       "      <th>3</th>\n",
       "      <td>2017-04</td>\n",
       "      <td>2429</td>\n",
       "    </tr>\n",
       "    <tr>\n",
       "      <th>4</th>\n",
       "      <td>2017-05</td>\n",
       "      <td>3728</td>\n",
       "    </tr>\n",
       "    <tr>\n",
       "      <th>5</th>\n",
       "      <td>2017-06</td>\n",
       "      <td>3241</td>\n",
       "    </tr>\n",
       "    <tr>\n",
       "      <th>6</th>\n",
       "      <td>2017-07</td>\n",
       "      <td>3976</td>\n",
       "    </tr>\n",
       "    <tr>\n",
       "      <th>7</th>\n",
       "      <td>2017-08</td>\n",
       "      <td>4315</td>\n",
       "    </tr>\n",
       "    <tr>\n",
       "      <th>8</th>\n",
       "      <td>2017-09</td>\n",
       "      <td>4245</td>\n",
       "    </tr>\n",
       "    <tr>\n",
       "      <th>9</th>\n",
       "      <td>2017-10</td>\n",
       "      <td>4513</td>\n",
       "    </tr>\n",
       "    <tr>\n",
       "      <th>10</th>\n",
       "      <td>2017-11</td>\n",
       "      <td>7374</td>\n",
       "    </tr>\n",
       "    <tr>\n",
       "      <th>11</th>\n",
       "      <td>2017-12</td>\n",
       "      <td>5526</td>\n",
       "    </tr>\n",
       "    <tr>\n",
       "      <th>12</th>\n",
       "      <td>2018-01</td>\n",
       "      <td>7071</td>\n",
       "    </tr>\n",
       "    <tr>\n",
       "      <th>13</th>\n",
       "      <td>2018-02</td>\n",
       "      <td>6504</td>\n",
       "    </tr>\n",
       "  </tbody>\n",
       "</table>\n",
       "</div>"
      ],
      "text/plain": [
       "    cohorts  customer_first_mounth\n",
       "0   2017-01                    812\n",
       "1   2017-02                   1743\n",
       "2   2017-03                   2695\n",
       "3   2017-04                   2429\n",
       "4   2017-05                   3728\n",
       "5   2017-06                   3241\n",
       "6   2017-07                   3976\n",
       "7   2017-08                   4315\n",
       "8   2017-09                   4245\n",
       "9   2017-10                   4513\n",
       "10  2017-11                   7374\n",
       "11  2017-12                   5526\n",
       "12  2018-01                   7071\n",
       "13  2018-02                   6504"
      ]
     },
     "execution_count": 55,
     "metadata": {},
     "output_type": "execute_result"
    }
   ],
   "source": [
    "cohorts = purchase_2017.groupby('first_orders', as_index=False).agg({'customer_unique_id' : 'count'})\\\n",
    ".rename(columns={'first_orders':'cohorts', 'customer_unique_id':'customer_first_mounth'}) \n",
    "cohorts\n",
    "# Пользователей разбиваем на когорты по месяцам, в которые они совершили первую покупку. \n",
    "# Поскольку подавляющее большинство пользователей совершили только 1 покупку, и среднее кол-во покупок в неделю очень небольшое,\n",
    "# то дробить их на более мелкие когорты (по неделям или по дням), скорее всего, не имеет смысла, т.к. тогда у части когорт может\n",
    "# вообще не быть retention (например, потому что пользователи, купившие товар в какой-то день, не совершат повторную покупку ровно\n",
    "# через 3 месяца). С делением когорт по месяцам есть больше шансов, что удастся \"поймать\" повторную покупку и посчитать метрику."
   ]
  },
  {
   "cell_type": "code",
   "execution_count": 56,
   "metadata": {},
   "outputs": [],
   "source": [
    "mounth_3rd_filter = ((purchase_2017['Year_Mounth'].astype(int) - purchase_2017['first_orders'].astype(int)) == 2) \n",
    "#найдём заказы, сделанные на 3й месяц после первого (т.е. разница между первым и повтороным заказом 2 месяца), сохраним результат в переменную"
   ]
  },
  {
   "cell_type": "code",
   "execution_count": 57,
   "metadata": {},
   "outputs": [
    {
     "data": {
      "text/html": [
       "<div>\n",
       "<style scoped>\n",
       "    .dataframe tbody tr th:only-of-type {\n",
       "        vertical-align: middle;\n",
       "    }\n",
       "\n",
       "    .dataframe tbody tr th {\n",
       "        vertical-align: top;\n",
       "    }\n",
       "\n",
       "    .dataframe thead th {\n",
       "        text-align: right;\n",
       "    }\n",
       "</style>\n",
       "<table border=\"1\" class=\"dataframe\">\n",
       "  <thead>\n",
       "    <tr style=\"text-align: right;\">\n",
       "      <th></th>\n",
       "      <th>order_id</th>\n",
       "      <th>customer_id</th>\n",
       "      <th>order_status</th>\n",
       "      <th>order_purchase_timestamp</th>\n",
       "      <th>order_approved_at</th>\n",
       "      <th>order_delivered_carrier_date</th>\n",
       "      <th>order_delivered_customer_date</th>\n",
       "      <th>order_estimated_delivery_date</th>\n",
       "      <th>customer_unique_id</th>\n",
       "      <th>Year_Mounth</th>\n",
       "      <th>first_orders</th>\n",
       "    </tr>\n",
       "  </thead>\n",
       "  <tbody>\n",
       "    <tr>\n",
       "      <th>218</th>\n",
       "      <td>e0f9660f398f606fc4326973728ad4cd</td>\n",
       "      <td>c88ab5ea9550d93be4e31243c7c8b7a2</td>\n",
       "      <td>delivered</td>\n",
       "      <td>2018-01-24 21:57:44</td>\n",
       "      <td>2018-01-25 07:14:17</td>\n",
       "      <td>2018-01-29 18:28:33</td>\n",
       "      <td>2018-02-02 23:36:38</td>\n",
       "      <td>2018-02-21</td>\n",
       "      <td>37d2d1ac62901f9a36cff32ca86c9337</td>\n",
       "      <td>2018-01</td>\n",
       "      <td>2017-11</td>\n",
       "    </tr>\n",
       "    <tr>\n",
       "      <th>252</th>\n",
       "      <td>b0ff8ff92f8d916fa2e8005cd8e1a135</td>\n",
       "      <td>610a4163b8ab832daf93b4fbb48e9119</td>\n",
       "      <td>delivered</td>\n",
       "      <td>2017-11-19 16:12:34</td>\n",
       "      <td>2017-11-22 02:58:38</td>\n",
       "      <td>2017-11-22 14:47:28</td>\n",
       "      <td>2017-11-24 20:32:37</td>\n",
       "      <td>2017-12-07</td>\n",
       "      <td>95cfb39a7e263160308a934e42cfc4e0</td>\n",
       "      <td>2017-11</td>\n",
       "      <td>2017-09</td>\n",
       "    </tr>\n",
       "    <tr>\n",
       "      <th>463</th>\n",
       "      <td>c1f0e475378c6500b5907a2134bda1da</td>\n",
       "      <td>5da0ca7784ca3dee567abe4c07800952</td>\n",
       "      <td>delivered</td>\n",
       "      <td>2017-10-18 15:53:45</td>\n",
       "      <td>2017-10-18 16:07:43</td>\n",
       "      <td>2017-10-19 19:25:50</td>\n",
       "      <td>2017-10-26 18:30:45</td>\n",
       "      <td>2017-11-10</td>\n",
       "      <td>0a609db8d244100909a15d65eadf8539</td>\n",
       "      <td>2017-10</td>\n",
       "      <td>2017-08</td>\n",
       "    </tr>\n",
       "    <tr>\n",
       "      <th>465</th>\n",
       "      <td>66f60a049e91f3849e5f8f328ccca54f</td>\n",
       "      <td>e6118b3f931172e65d7768368620eeee</td>\n",
       "      <td>delivered</td>\n",
       "      <td>2017-10-18 15:53:47</td>\n",
       "      <td>2017-10-18 16:07:54</td>\n",
       "      <td>2017-10-19 12:54:09</td>\n",
       "      <td>2017-10-21 13:02:25</td>\n",
       "      <td>2017-11-07</td>\n",
       "      <td>0a609db8d244100909a15d65eadf8539</td>\n",
       "      <td>2017-10</td>\n",
       "      <td>2017-08</td>\n",
       "    </tr>\n",
       "    <tr>\n",
       "      <th>533</th>\n",
       "      <td>a3bb82a765bf828134959a50bdc5f8cc</td>\n",
       "      <td>f4fe2dbe94714c74fce3fa1bd21b5e03</td>\n",
       "      <td>delivered</td>\n",
       "      <td>2017-09-28 10:32:57</td>\n",
       "      <td>2017-09-28 10:50:29</td>\n",
       "      <td>2017-09-29 19:28:57</td>\n",
       "      <td>2017-10-02 18:12:35</td>\n",
       "      <td>2017-10-16</td>\n",
       "      <td>39104edef5e46d7b8c61848cc95e6d97</td>\n",
       "      <td>2017-09</td>\n",
       "      <td>2017-07</td>\n",
       "    </tr>\n",
       "  </tbody>\n",
       "</table>\n",
       "</div>"
      ],
      "text/plain": [
       "                             order_id                       customer_id  \\\n",
       "218  e0f9660f398f606fc4326973728ad4cd  c88ab5ea9550d93be4e31243c7c8b7a2   \n",
       "252  b0ff8ff92f8d916fa2e8005cd8e1a135  610a4163b8ab832daf93b4fbb48e9119   \n",
       "463  c1f0e475378c6500b5907a2134bda1da  5da0ca7784ca3dee567abe4c07800952   \n",
       "465  66f60a049e91f3849e5f8f328ccca54f  e6118b3f931172e65d7768368620eeee   \n",
       "533  a3bb82a765bf828134959a50bdc5f8cc  f4fe2dbe94714c74fce3fa1bd21b5e03   \n",
       "\n",
       "    order_status order_purchase_timestamp   order_approved_at  \\\n",
       "218    delivered      2018-01-24 21:57:44 2018-01-25 07:14:17   \n",
       "252    delivered      2017-11-19 16:12:34 2017-11-22 02:58:38   \n",
       "463    delivered      2017-10-18 15:53:45 2017-10-18 16:07:43   \n",
       "465    delivered      2017-10-18 15:53:47 2017-10-18 16:07:54   \n",
       "533    delivered      2017-09-28 10:32:57 2017-09-28 10:50:29   \n",
       "\n",
       "    order_delivered_carrier_date order_delivered_customer_date  \\\n",
       "218          2018-01-29 18:28:33           2018-02-02 23:36:38   \n",
       "252          2017-11-22 14:47:28           2017-11-24 20:32:37   \n",
       "463          2017-10-19 19:25:50           2017-10-26 18:30:45   \n",
       "465          2017-10-19 12:54:09           2017-10-21 13:02:25   \n",
       "533          2017-09-29 19:28:57           2017-10-02 18:12:35   \n",
       "\n",
       "    order_estimated_delivery_date                customer_unique_id  \\\n",
       "218                    2018-02-21  37d2d1ac62901f9a36cff32ca86c9337   \n",
       "252                    2017-12-07  95cfb39a7e263160308a934e42cfc4e0   \n",
       "463                    2017-11-10  0a609db8d244100909a15d65eadf8539   \n",
       "465                    2017-11-07  0a609db8d244100909a15d65eadf8539   \n",
       "533                    2017-10-16  39104edef5e46d7b8c61848cc95e6d97   \n",
       "\n",
       "    Year_Mounth first_orders  \n",
       "218     2018-01      2017-11  \n",
       "252     2017-11      2017-09  \n",
       "463     2017-10      2017-08  \n",
       "465     2017-10      2017-08  \n",
       "533     2017-09      2017-07  "
      ]
     },
     "execution_count": 57,
     "metadata": {},
     "output_type": "execute_result"
    }
   ],
   "source": [
    "purchase_2017_mounth_3rd = purchase_2017[mounth_3rd_filter] #отберём заказы, повторённые пользователями на 3й месяц\n",
    "purchase_2017_mounth_3rd.head()"
   ]
  },
  {
   "cell_type": "code",
   "execution_count": 58,
   "metadata": {},
   "outputs": [
    {
     "data": {
      "text/html": [
       "<div>\n",
       "<style scoped>\n",
       "    .dataframe tbody tr th:only-of-type {\n",
       "        vertical-align: middle;\n",
       "    }\n",
       "\n",
       "    .dataframe tbody tr th {\n",
       "        vertical-align: top;\n",
       "    }\n",
       "\n",
       "    .dataframe thead th {\n",
       "        text-align: right;\n",
       "    }\n",
       "</style>\n",
       "<table border=\"1\" class=\"dataframe\">\n",
       "  <thead>\n",
       "    <tr style=\"text-align: right;\">\n",
       "      <th></th>\n",
       "      <th>cohorts</th>\n",
       "      <th>repeated_order</th>\n",
       "      <th>customer_3rd_mounth</th>\n",
       "    </tr>\n",
       "  </thead>\n",
       "  <tbody>\n",
       "    <tr>\n",
       "      <th>0</th>\n",
       "      <td>2017-01</td>\n",
       "      <td>2017-03</td>\n",
       "      <td>2</td>\n",
       "    </tr>\n",
       "    <tr>\n",
       "      <th>1</th>\n",
       "      <td>2017-02</td>\n",
       "      <td>2017-04</td>\n",
       "      <td>5</td>\n",
       "    </tr>\n",
       "    <tr>\n",
       "      <th>2</th>\n",
       "      <td>2017-03</td>\n",
       "      <td>2017-05</td>\n",
       "      <td>9</td>\n",
       "    </tr>\n",
       "    <tr>\n",
       "      <th>3</th>\n",
       "      <td>2017-04</td>\n",
       "      <td>2017-06</td>\n",
       "      <td>6</td>\n",
       "    </tr>\n",
       "    <tr>\n",
       "      <th>4</th>\n",
       "      <td>2017-05</td>\n",
       "      <td>2017-07</td>\n",
       "      <td>18</td>\n",
       "    </tr>\n",
       "    <tr>\n",
       "      <th>5</th>\n",
       "      <td>2017-06</td>\n",
       "      <td>2017-08</td>\n",
       "      <td>12</td>\n",
       "    </tr>\n",
       "    <tr>\n",
       "      <th>6</th>\n",
       "      <td>2017-07</td>\n",
       "      <td>2017-09</td>\n",
       "      <td>13</td>\n",
       "    </tr>\n",
       "    <tr>\n",
       "      <th>7</th>\n",
       "      <td>2017-08</td>\n",
       "      <td>2017-10</td>\n",
       "      <td>16</td>\n",
       "    </tr>\n",
       "    <tr>\n",
       "      <th>8</th>\n",
       "      <td>2017-09</td>\n",
       "      <td>2017-11</td>\n",
       "      <td>22</td>\n",
       "    </tr>\n",
       "    <tr>\n",
       "      <th>9</th>\n",
       "      <td>2017-10</td>\n",
       "      <td>2017-12</td>\n",
       "      <td>11</td>\n",
       "    </tr>\n",
       "    <tr>\n",
       "      <th>10</th>\n",
       "      <td>2017-11</td>\n",
       "      <td>2018-01</td>\n",
       "      <td>29</td>\n",
       "    </tr>\n",
       "    <tr>\n",
       "      <th>11</th>\n",
       "      <td>2017-12</td>\n",
       "      <td>2018-02</td>\n",
       "      <td>16</td>\n",
       "    </tr>\n",
       "  </tbody>\n",
       "</table>\n",
       "</div>"
      ],
      "text/plain": [
       "    cohorts repeated_order  customer_3rd_mounth\n",
       "0   2017-01        2017-03                    2\n",
       "1   2017-02        2017-04                    5\n",
       "2   2017-03        2017-05                    9\n",
       "3   2017-04        2017-06                    6\n",
       "4   2017-05        2017-07                   18\n",
       "5   2017-06        2017-08                   12\n",
       "6   2017-07        2017-09                   13\n",
       "7   2017-08        2017-10                   16\n",
       "8   2017-09        2017-11                   22\n",
       "9   2017-10        2017-12                   11\n",
       "10  2017-11        2018-01                   29\n",
       "11  2017-12        2018-02                   16"
      ]
     },
     "execution_count": 58,
     "metadata": {},
     "output_type": "execute_result"
    }
   ],
   "source": [
    "repeated_orders = purchase_2017_mounth_3rd.groupby(['first_orders', 'Year_Mounth'], as_index=False).agg({'customer_unique_id' : 'count'})\\\n",
    ".rename(columns={'first_orders':'cohorts', 'Year_Mounth' :'repeated_order', 'customer_unique_id':'customer_3rd_mounth'})\n",
    "repeated_orders\n",
    "#получаем количество пользователей из каждой когорты, которые повторили заказ на 3й месяц"
   ]
  },
  {
   "cell_type": "code",
   "execution_count": 59,
   "metadata": {},
   "outputs": [
    {
     "data": {
      "text/html": [
       "<div>\n",
       "<style scoped>\n",
       "    .dataframe tbody tr th:only-of-type {\n",
       "        vertical-align: middle;\n",
       "    }\n",
       "\n",
       "    .dataframe tbody tr th {\n",
       "        vertical-align: top;\n",
       "    }\n",
       "\n",
       "    .dataframe thead th {\n",
       "        text-align: right;\n",
       "    }\n",
       "</style>\n",
       "<table border=\"1\" class=\"dataframe\">\n",
       "  <thead>\n",
       "    <tr style=\"text-align: right;\">\n",
       "      <th></th>\n",
       "      <th>cohorts</th>\n",
       "      <th>customer_first_mounth</th>\n",
       "      <th>repeated_order</th>\n",
       "      <th>customer_3rd_mounth</th>\n",
       "    </tr>\n",
       "  </thead>\n",
       "  <tbody>\n",
       "    <tr>\n",
       "      <th>0</th>\n",
       "      <td>2017-01</td>\n",
       "      <td>812</td>\n",
       "      <td>2017-03</td>\n",
       "      <td>2</td>\n",
       "    </tr>\n",
       "    <tr>\n",
       "      <th>1</th>\n",
       "      <td>2017-02</td>\n",
       "      <td>1743</td>\n",
       "      <td>2017-04</td>\n",
       "      <td>5</td>\n",
       "    </tr>\n",
       "    <tr>\n",
       "      <th>2</th>\n",
       "      <td>2017-03</td>\n",
       "      <td>2695</td>\n",
       "      <td>2017-05</td>\n",
       "      <td>9</td>\n",
       "    </tr>\n",
       "    <tr>\n",
       "      <th>3</th>\n",
       "      <td>2017-04</td>\n",
       "      <td>2429</td>\n",
       "      <td>2017-06</td>\n",
       "      <td>6</td>\n",
       "    </tr>\n",
       "    <tr>\n",
       "      <th>4</th>\n",
       "      <td>2017-05</td>\n",
       "      <td>3728</td>\n",
       "      <td>2017-07</td>\n",
       "      <td>18</td>\n",
       "    </tr>\n",
       "    <tr>\n",
       "      <th>5</th>\n",
       "      <td>2017-06</td>\n",
       "      <td>3241</td>\n",
       "      <td>2017-08</td>\n",
       "      <td>12</td>\n",
       "    </tr>\n",
       "    <tr>\n",
       "      <th>6</th>\n",
       "      <td>2017-07</td>\n",
       "      <td>3976</td>\n",
       "      <td>2017-09</td>\n",
       "      <td>13</td>\n",
       "    </tr>\n",
       "    <tr>\n",
       "      <th>7</th>\n",
       "      <td>2017-08</td>\n",
       "      <td>4315</td>\n",
       "      <td>2017-10</td>\n",
       "      <td>16</td>\n",
       "    </tr>\n",
       "    <tr>\n",
       "      <th>8</th>\n",
       "      <td>2017-09</td>\n",
       "      <td>4245</td>\n",
       "      <td>2017-11</td>\n",
       "      <td>22</td>\n",
       "    </tr>\n",
       "    <tr>\n",
       "      <th>9</th>\n",
       "      <td>2017-10</td>\n",
       "      <td>4513</td>\n",
       "      <td>2017-12</td>\n",
       "      <td>11</td>\n",
       "    </tr>\n",
       "    <tr>\n",
       "      <th>10</th>\n",
       "      <td>2017-11</td>\n",
       "      <td>7374</td>\n",
       "      <td>2018-01</td>\n",
       "      <td>29</td>\n",
       "    </tr>\n",
       "    <tr>\n",
       "      <th>11</th>\n",
       "      <td>2017-12</td>\n",
       "      <td>5526</td>\n",
       "      <td>2018-02</td>\n",
       "      <td>16</td>\n",
       "    </tr>\n",
       "  </tbody>\n",
       "</table>\n",
       "</div>"
      ],
      "text/plain": [
       "    cohorts  customer_first_mounth repeated_order  customer_3rd_mounth\n",
       "0   2017-01                    812        2017-03                    2\n",
       "1   2017-02                   1743        2017-04                    5\n",
       "2   2017-03                   2695        2017-05                    9\n",
       "3   2017-04                   2429        2017-06                    6\n",
       "4   2017-05                   3728        2017-07                   18\n",
       "5   2017-06                   3241        2017-08                   12\n",
       "6   2017-07                   3976        2017-09                   13\n",
       "7   2017-08                   4315        2017-10                   16\n",
       "8   2017-09                   4245        2017-11                   22\n",
       "9   2017-10                   4513        2017-12                   11\n",
       "10  2017-11                   7374        2018-01                   29\n",
       "11  2017-12                   5526        2018-02                   16"
      ]
     },
     "execution_count": 59,
     "metadata": {},
     "output_type": "execute_result"
    }
   ],
   "source": [
    "cohorts = cohorts.merge(repeated_orders, how='inner', on='cohorts')\n",
    "cohorts #получаем таблицу с когортами, в которых отображено кол-во пользователей, совершивших покупку на 3й месяц. \n",
    "#первые 2 месяца 2018г отсеялись из числа когорт, т.к. в этих месяцах нас интересуют только повторные покупки."
   ]
  },
  {
   "cell_type": "code",
   "execution_count": 60,
   "metadata": {},
   "outputs": [],
   "source": [
    "cohorts['retention'] = cohorts.customer_3rd_mounth / cohorts.customer_first_mounth * 100"
   ]
  },
  {
   "cell_type": "code",
   "execution_count": 61,
   "metadata": {},
   "outputs": [
    {
     "data": {
      "text/html": [
       "<div>\n",
       "<style scoped>\n",
       "    .dataframe tbody tr th:only-of-type {\n",
       "        vertical-align: middle;\n",
       "    }\n",
       "\n",
       "    .dataframe tbody tr th {\n",
       "        vertical-align: top;\n",
       "    }\n",
       "\n",
       "    .dataframe thead th {\n",
       "        text-align: right;\n",
       "    }\n",
       "</style>\n",
       "<table border=\"1\" class=\"dataframe\">\n",
       "  <thead>\n",
       "    <tr style=\"text-align: right;\">\n",
       "      <th></th>\n",
       "      <th>cohorts</th>\n",
       "      <th>customer_first_mounth</th>\n",
       "      <th>repeated_order</th>\n",
       "      <th>customer_3rd_mounth</th>\n",
       "      <th>retention</th>\n",
       "    </tr>\n",
       "  </thead>\n",
       "  <tbody>\n",
       "    <tr>\n",
       "      <th>0</th>\n",
       "      <td>2017-01</td>\n",
       "      <td>812</td>\n",
       "      <td>2017-03</td>\n",
       "      <td>2</td>\n",
       "      <td>0.246305</td>\n",
       "    </tr>\n",
       "    <tr>\n",
       "      <th>1</th>\n",
       "      <td>2017-02</td>\n",
       "      <td>1743</td>\n",
       "      <td>2017-04</td>\n",
       "      <td>5</td>\n",
       "      <td>0.286862</td>\n",
       "    </tr>\n",
       "    <tr>\n",
       "      <th>2</th>\n",
       "      <td>2017-03</td>\n",
       "      <td>2695</td>\n",
       "      <td>2017-05</td>\n",
       "      <td>9</td>\n",
       "      <td>0.333952</td>\n",
       "    </tr>\n",
       "    <tr>\n",
       "      <th>3</th>\n",
       "      <td>2017-04</td>\n",
       "      <td>2429</td>\n",
       "      <td>2017-06</td>\n",
       "      <td>6</td>\n",
       "      <td>0.247015</td>\n",
       "    </tr>\n",
       "    <tr>\n",
       "      <th>4</th>\n",
       "      <td>2017-05</td>\n",
       "      <td>3728</td>\n",
       "      <td>2017-07</td>\n",
       "      <td>18</td>\n",
       "      <td>0.482833</td>\n",
       "    </tr>\n",
       "    <tr>\n",
       "      <th>5</th>\n",
       "      <td>2017-06</td>\n",
       "      <td>3241</td>\n",
       "      <td>2017-08</td>\n",
       "      <td>12</td>\n",
       "      <td>0.370256</td>\n",
       "    </tr>\n",
       "    <tr>\n",
       "      <th>6</th>\n",
       "      <td>2017-07</td>\n",
       "      <td>3976</td>\n",
       "      <td>2017-09</td>\n",
       "      <td>13</td>\n",
       "      <td>0.326962</td>\n",
       "    </tr>\n",
       "    <tr>\n",
       "      <th>7</th>\n",
       "      <td>2017-08</td>\n",
       "      <td>4315</td>\n",
       "      <td>2017-10</td>\n",
       "      <td>16</td>\n",
       "      <td>0.370800</td>\n",
       "    </tr>\n",
       "    <tr>\n",
       "      <th>8</th>\n",
       "      <td>2017-09</td>\n",
       "      <td>4245</td>\n",
       "      <td>2017-11</td>\n",
       "      <td>22</td>\n",
       "      <td>0.518257</td>\n",
       "    </tr>\n",
       "    <tr>\n",
       "      <th>9</th>\n",
       "      <td>2017-10</td>\n",
       "      <td>4513</td>\n",
       "      <td>2017-12</td>\n",
       "      <td>11</td>\n",
       "      <td>0.243740</td>\n",
       "    </tr>\n",
       "    <tr>\n",
       "      <th>10</th>\n",
       "      <td>2017-11</td>\n",
       "      <td>7374</td>\n",
       "      <td>2018-01</td>\n",
       "      <td>29</td>\n",
       "      <td>0.393274</td>\n",
       "    </tr>\n",
       "    <tr>\n",
       "      <th>11</th>\n",
       "      <td>2017-12</td>\n",
       "      <td>5526</td>\n",
       "      <td>2018-02</td>\n",
       "      <td>16</td>\n",
       "      <td>0.289540</td>\n",
       "    </tr>\n",
       "  </tbody>\n",
       "</table>\n",
       "</div>"
      ],
      "text/plain": [
       "    cohorts  customer_first_mounth repeated_order  customer_3rd_mounth  \\\n",
       "0   2017-01                    812        2017-03                    2   \n",
       "1   2017-02                   1743        2017-04                    5   \n",
       "2   2017-03                   2695        2017-05                    9   \n",
       "3   2017-04                   2429        2017-06                    6   \n",
       "4   2017-05                   3728        2017-07                   18   \n",
       "5   2017-06                   3241        2017-08                   12   \n",
       "6   2017-07                   3976        2017-09                   13   \n",
       "7   2017-08                   4315        2017-10                   16   \n",
       "8   2017-09                   4245        2017-11                   22   \n",
       "9   2017-10                   4513        2017-12                   11   \n",
       "10  2017-11                   7374        2018-01                   29   \n",
       "11  2017-12                   5526        2018-02                   16   \n",
       "\n",
       "    retention  \n",
       "0    0.246305  \n",
       "1    0.286862  \n",
       "2    0.333952  \n",
       "3    0.247015  \n",
       "4    0.482833  \n",
       "5    0.370256  \n",
       "6    0.326962  \n",
       "7    0.370800  \n",
       "8    0.518257  \n",
       "9    0.243740  \n",
       "10   0.393274  \n",
       "11   0.289540  "
      ]
     },
     "execution_count": 61,
     "metadata": {},
     "output_type": "execute_result"
    }
   ],
   "source": [
    "cohorts"
   ]
  },
  {
   "cell_type": "code",
   "execution_count": 63,
   "metadata": {},
   "outputs": [
    {
     "name": "stdout",
     "output_type": "stream",
     "text": [
      "Максимальный показатель Retention на 3й месяц у когорты, совершившей первую покупку в September 2017 года.\n"
     ]
    }
   ],
   "source": [
    "max_retention_year = cohorts.cohorts.iloc[cohorts.retention.idxmax()].strftime('%Y')\n",
    "max_retention_mounth = cohorts.cohorts.iloc[cohorts.retention.idxmax()].strftime('%B')\n",
    "max_retention_message = 'Максимальный показатель Retention на 3й месяц у когорты, совершившей первую покупку в {} {} года.'\n",
    "print(max_retention_message.format(max_retention_mounth, max_retention_year))\n",
    "#Задача 5 "
   ]
  },
  {
   "cell_type": "code",
   "execution_count": 64,
   "metadata": {},
   "outputs": [
    {
     "name": "stderr",
     "output_type": "stream",
     "text": [
      "C:\\Users\\Vaanry\\AppData\\Local\\Temp\\ipykernel_10992\\4118822427.py:3: SettingWithCopyWarning: \n",
      "A value is trying to be set on a copy of a slice from a DataFrame.\n",
      "Try using .loc[row_indexer,col_indexer] = value instead\n",
      "\n",
      "See the caveats in the documentation: https://pandas.pydata.org/pandas-docs/stable/user_guide/indexing.html#returning-a-view-versus-a-copy\n",
      "  cohorts_plot.cohorts = cohorts_plot.cohorts.dt.strftime('%Y-%m')\n"
     ]
    },
    {
     "data": {
      "text/plain": [
       "<AxesSubplot:xlabel='cohorts', ylabel='retention'>"
      ]
     },
     "execution_count": 64,
     "metadata": {},
     "output_type": "execute_result"
    },
    {
     "data": {
      "image/png": "[encoded data removed]",
      "text/plain": [
       "<Figure size 1440x576 with 1 Axes>"
      ]
     },
     "metadata": {
      "needs_background": "light"
     },
     "output_type": "display_data"
    }
   ],
   "source": [
    "plt.figure(figsize=(20,8))\n",
    "cohorts_plot = cohorts[['cohorts', 'retention']]\n",
    "cohorts_plot.cohorts = cohorts_plot.cohorts.dt.strftime('%Y-%m')\n",
    "sns.lineplot(data = cohorts_plot,  x = 'cohorts', y = 'retention')\n",
    "#График изменения Retention в течении 2017 года."
   ]
  },
  {
   "cell_type": "code",
   "execution_count": 65,
   "metadata": {},
   "outputs": [],
   "source": [
    "#======Задача 6======="
   ]
  },
  {
   "cell_type": "code",
   "execution_count": 66,
   "metadata": {},
   "outputs": [
    {
     "data": {
      "text/html": [
       "<div>\n",
       "<style scoped>\n",
       "    .dataframe tbody tr th:only-of-type {\n",
       "        vertical-align: middle;\n",
       "    }\n",
       "\n",
       "    .dataframe tbody tr th {\n",
       "        vertical-align: top;\n",
       "    }\n",
       "\n",
       "    .dataframe thead th {\n",
       "        text-align: right;\n",
       "    }\n",
       "</style>\n",
       "<table border=\"1\" class=\"dataframe\">\n",
       "  <thead>\n",
       "    <tr style=\"text-align: right;\">\n",
       "      <th></th>\n",
       "      <th>order_id</th>\n",
       "      <th>product_id</th>\n",
       "      <th>order_item_id</th>\n",
       "    </tr>\n",
       "  </thead>\n",
       "  <tbody>\n",
       "    <tr>\n",
       "      <th>10850</th>\n",
       "      <td>1b15974a0141d54e36626dca3fdc731a</td>\n",
       "      <td>ee3d532c8a438679776d222e997606b3</td>\n",
       "      <td>20</td>\n",
       "    </tr>\n",
       "    <tr>\n",
       "      <th>68186</th>\n",
       "      <td>ab14fdcfbe524636d65ee38360e22ce8</td>\n",
       "      <td>9571759451b1d780ee7c15012ea109d4</td>\n",
       "      <td>20</td>\n",
       "    </tr>\n",
       "    <tr>\n",
       "      <th>26550</th>\n",
       "      <td>428a2f660dc84138d969ccd69a0ab6d5</td>\n",
       "      <td>89b190a046022486c635022524a974a8</td>\n",
       "      <td>15</td>\n",
       "    </tr>\n",
       "    <tr>\n",
       "      <th>63242</th>\n",
       "      <td>9ef13efd6949e4573a18964dd1bbe7f5</td>\n",
       "      <td>37eb69aca8718e843d897aa7b82f462d</td>\n",
       "      <td>15</td>\n",
       "    </tr>\n",
       "    <tr>\n",
       "      <th>46268</th>\n",
       "      <td>73c8ab38f07dc94389065f7eba4f297a</td>\n",
       "      <td>422879e10f46682990de24d770e7f83d</td>\n",
       "      <td>14</td>\n",
       "    </tr>\n",
       "  </tbody>\n",
       "</table>\n",
       "</div>"
      ],
      "text/plain": [
       "                               order_id                        product_id  \\\n",
       "10850  1b15974a0141d54e36626dca3fdc731a  ee3d532c8a438679776d222e997606b3   \n",
       "68186  ab14fdcfbe524636d65ee38360e22ce8  9571759451b1d780ee7c15012ea109d4   \n",
       "26550  428a2f660dc84138d969ccd69a0ab6d5  89b190a046022486c635022524a974a8   \n",
       "63242  9ef13efd6949e4573a18964dd1bbe7f5  37eb69aca8718e843d897aa7b82f462d   \n",
       "46268  73c8ab38f07dc94389065f7eba4f297a  422879e10f46682990de24d770e7f83d   \n",
       "\n",
       "       order_item_id  \n",
       "10850             20  \n",
       "68186             20  \n",
       "26550             15  \n",
       "63242             15  \n",
       "46268             14  "
      ]
     },
     "execution_count": 66,
     "metadata": {},
     "output_type": "execute_result"
    }
   ],
   "source": [
    "items.groupby(['order_id', 'product_id'], as_index = False).agg({'order_item_id' : 'count'}).sort_values('order_item_id', ascending = False).head()\n",
    "#Из этой таблицы видно, что одинаковые товары в одном заказе могут повторяться до 20 раз. Таким образом, количество купленных\n",
    "#товарных позиций отображено не в специальной колонке с количеством (как чаще делается в чеках), а в отдельных строках.\n",
    "#Следовательно, чтобы посчитать общую сумму заказа, нужно просто просуммировать цену единиц товара по всем позициям в заказе."
   ]
  },
  {
   "cell_type": "code",
   "execution_count": 67,
   "metadata": {},
   "outputs": [
    {
     "data": {
      "text/html": [
       "<div>\n",
       "<style scoped>\n",
       "    .dataframe tbody tr th:only-of-type {\n",
       "        vertical-align: middle;\n",
       "    }\n",
       "\n",
       "    .dataframe tbody tr th {\n",
       "        vertical-align: top;\n",
       "    }\n",
       "\n",
       "    .dataframe thead th {\n",
       "        text-align: right;\n",
       "    }\n",
       "</style>\n",
       "<table border=\"1\" class=\"dataframe\">\n",
       "  <thead>\n",
       "    <tr style=\"text-align: right;\">\n",
       "      <th></th>\n",
       "      <th>order_id</th>\n",
       "      <th>sum</th>\n",
       "    </tr>\n",
       "  </thead>\n",
       "  <tbody>\n",
       "    <tr>\n",
       "      <th>0</th>\n",
       "      <td>00010242fe8c5a6d1ba2dd792cb16214</td>\n",
       "      <td>58.90</td>\n",
       "    </tr>\n",
       "    <tr>\n",
       "      <th>1</th>\n",
       "      <td>00018f77f2f0320c557190d7a144bdd3</td>\n",
       "      <td>239.90</td>\n",
       "    </tr>\n",
       "    <tr>\n",
       "      <th>2</th>\n",
       "      <td>000229ec398224ef6ca0657da4fc703e</td>\n",
       "      <td>199.00</td>\n",
       "    </tr>\n",
       "    <tr>\n",
       "      <th>3</th>\n",
       "      <td>00024acbcdf0a6daa1e931b038114c75</td>\n",
       "      <td>12.99</td>\n",
       "    </tr>\n",
       "    <tr>\n",
       "      <th>4</th>\n",
       "      <td>00042b26cf59d7ce69dfabb4e55b4fd9</td>\n",
       "      <td>199.90</td>\n",
       "    </tr>\n",
       "  </tbody>\n",
       "</table>\n",
       "</div>"
      ],
      "text/plain": [
       "                           order_id     sum\n",
       "0  00010242fe8c5a6d1ba2dd792cb16214   58.90\n",
       "1  00018f77f2f0320c557190d7a144bdd3  239.90\n",
       "2  000229ec398224ef6ca0657da4fc703e  199.00\n",
       "3  00024acbcdf0a6daa1e931b038114c75   12.99\n",
       "4  00042b26cf59d7ce69dfabb4e55b4fd9  199.90"
      ]
     },
     "execution_count": 67,
     "metadata": {},
     "output_type": "execute_result"
    }
   ],
   "source": [
    "orders_sum = items.groupby('order_id', as_index = False).agg({'price' : 'sum'}).rename(columns = {'price' : 'sum'}) #считаем сумму каждого заказа\n",
    "orders_sum.head()"
   ]
  },
  {
   "cell_type": "code",
   "execution_count": 68,
   "metadata": {},
   "outputs": [],
   "source": [
    "purchase = purchase.merge(orders_sum, how='inner', on = 'order_id') #добавляем к датафрейму с заказами колонку с суммой заказов"
   ]
  },
  {
   "cell_type": "code",
   "execution_count": 69,
   "metadata": {},
   "outputs": [],
   "source": [
    "from datetime import timedelta\n",
    "purchase['Now'] = purchase['order_purchase_timestamp'].max() + timedelta(days=1)\n",
    "#поскольку датасет включает данные максимум 2018 г, а сейчас 2022 г, то для удобства отображения данных и построения кластеров\n",
    "#в качестве \"сегодня\" взята не текущая дата, а использован приём как в описании подхода по ссылке в задании."
   ]
  },
  {
   "cell_type": "code",
   "execution_count": 70,
   "metadata": {},
   "outputs": [],
   "source": [
    "purchase['DaysSinceOrder'] = purchase.Now - purchase.order_purchase_timestamp #добавляем колонку с разницей между датой заказа и \"сегодня\""
   ]
  },
  {
   "cell_type": "code",
   "execution_count": 71,
   "metadata": {},
   "outputs": [
    {
     "data": {
      "text/html": [
       "<div>\n",
       "<style scoped>\n",
       "    .dataframe tbody tr th:only-of-type {\n",
       "        vertical-align: middle;\n",
       "    }\n",
       "\n",
       "    .dataframe tbody tr th {\n",
       "        vertical-align: top;\n",
       "    }\n",
       "\n",
       "    .dataframe thead th {\n",
       "        text-align: right;\n",
       "    }\n",
       "</style>\n",
       "<table border=\"1\" class=\"dataframe\">\n",
       "  <thead>\n",
       "    <tr style=\"text-align: right;\">\n",
       "      <th></th>\n",
       "      <th>customer_unique_id</th>\n",
       "      <th>Recency</th>\n",
       "      <th>Frequency</th>\n",
       "      <th>Monetary</th>\n",
       "    </tr>\n",
       "  </thead>\n",
       "  <tbody>\n",
       "    <tr>\n",
       "      <th>0</th>\n",
       "      <td>0000366f3b9a7992bf8c76cfdf3221e2</td>\n",
       "      <td>116 days 22:10:30</td>\n",
       "      <td>1</td>\n",
       "      <td>129.90</td>\n",
       "    </tr>\n",
       "    <tr>\n",
       "      <th>1</th>\n",
       "      <td>0000b849f77a49e4a4ce2b2a4ca5be3f</td>\n",
       "      <td>119 days 21:55:30</td>\n",
       "      <td>1</td>\n",
       "      <td>18.90</td>\n",
       "    </tr>\n",
       "    <tr>\n",
       "      <th>2</th>\n",
       "      <td>0000f46a3911fa3c0805444483337064</td>\n",
       "      <td>542 days 12:01:54</td>\n",
       "      <td>1</td>\n",
       "      <td>69.00</td>\n",
       "    </tr>\n",
       "    <tr>\n",
       "      <th>3</th>\n",
       "      <td>0000f6ccb0745a6a4b88665a16c9f078</td>\n",
       "      <td>326 days 12:37:16</td>\n",
       "      <td>1</td>\n",
       "      <td>25.99</td>\n",
       "    </tr>\n",
       "    <tr>\n",
       "      <th>4</th>\n",
       "      <td>0004aac84e0df4da2b147fca70cf8255</td>\n",
       "      <td>293 days 13:21:15</td>\n",
       "      <td>1</td>\n",
       "      <td>180.00</td>\n",
       "    </tr>\n",
       "  </tbody>\n",
       "</table>\n",
       "</div>"
      ],
      "text/plain": [
       "                 customer_unique_id           Recency  Frequency  Monetary\n",
       "0  0000366f3b9a7992bf8c76cfdf3221e2 116 days 22:10:30          1    129.90\n",
       "1  0000b849f77a49e4a4ce2b2a4ca5be3f 119 days 21:55:30          1     18.90\n",
       "2  0000f46a3911fa3c0805444483337064 542 days 12:01:54          1     69.00\n",
       "3  0000f6ccb0745a6a4b88665a16c9f078 326 days 12:37:16          1     25.99\n",
       "4  0004aac84e0df4da2b147fca70cf8255 293 days 13:21:15          1    180.00"
      ]
     },
     "execution_count": 71,
     "metadata": {},
     "output_type": "execute_result"
    }
   ],
   "source": [
    "RFM = purchase.groupby('customer_unique_id', as_index = False).agg({'DaysSinceOrder':'min', 'order_id' : 'count', 'sum' :'sum'})\\\n",
    ".rename(columns = {'DaysSinceOrder' : 'Recency', 'order_id' : 'Frequency', 'sum' : 'Monetary'})\n",
    "RFM.head()\n",
    "#считаем показатели RFM для каждого пользователя"
   ]
  },
  {
   "cell_type": "code",
   "execution_count": 72,
   "metadata": {},
   "outputs": [],
   "source": [
    "RFM.Recency = RFM.Recency.dt.days #переводим колонку Recency в более удобный формат"
   ]
  },
  {
   "cell_type": "code",
   "execution_count": 73,
   "metadata": {},
   "outputs": [
    {
     "data": {
      "text/html": [
       "<div>\n",
       "<style scoped>\n",
       "    .dataframe tbody tr th:only-of-type {\n",
       "        vertical-align: middle;\n",
       "    }\n",
       "\n",
       "    .dataframe tbody tr th {\n",
       "        vertical-align: top;\n",
       "    }\n",
       "\n",
       "    .dataframe thead th {\n",
       "        text-align: right;\n",
       "    }\n",
       "</style>\n",
       "<table border=\"1\" class=\"dataframe\">\n",
       "  <thead>\n",
       "    <tr style=\"text-align: right;\">\n",
       "      <th></th>\n",
       "      <th>customer_unique_id</th>\n",
       "      <th>Recency</th>\n",
       "      <th>Frequency</th>\n",
       "      <th>Monetary</th>\n",
       "    </tr>\n",
       "  </thead>\n",
       "  <tbody>\n",
       "    <tr>\n",
       "      <th>94635</th>\n",
       "      <td>ff22e30958c13ffe219db7d711e8f564</td>\n",
       "      <td>1</td>\n",
       "      <td>2</td>\n",
       "      <td>290.00</td>\n",
       "    </tr>\n",
       "    <tr>\n",
       "      <th>67201</th>\n",
       "      <td>b4dcade04bc548b7e3b0243c801f8c26</td>\n",
       "      <td>5</td>\n",
       "      <td>1</td>\n",
       "      <td>99.00</td>\n",
       "    </tr>\n",
       "    <tr>\n",
       "      <th>45383</th>\n",
       "      <td>7a22d14aa3c3599238509ddca4b93b01</td>\n",
       "      <td>5</td>\n",
       "      <td>1</td>\n",
       "      <td>63.90</td>\n",
       "    </tr>\n",
       "    <tr>\n",
       "      <th>12648</th>\n",
       "      <td>21dbe8eabd00b34492a939c540e2b1a7</td>\n",
       "      <td>5</td>\n",
       "      <td>1</td>\n",
       "      <td>6.90</td>\n",
       "    </tr>\n",
       "    <tr>\n",
       "      <th>47576</th>\n",
       "      <td>7febafa06d9d8f232a900a2937f04338</td>\n",
       "      <td>5</td>\n",
       "      <td>1</td>\n",
       "      <td>45.90</td>\n",
       "    </tr>\n",
       "    <tr>\n",
       "      <th>...</th>\n",
       "      <td>...</td>\n",
       "      <td>...</td>\n",
       "      <td>...</td>\n",
       "      <td>...</td>\n",
       "    </tr>\n",
       "    <tr>\n",
       "      <th>42988</th>\n",
       "      <td>7390ed59fa1febbfda31a80b4318c8cb</td>\n",
       "      <td>700</td>\n",
       "      <td>1</td>\n",
       "      <td>128.90</td>\n",
       "    </tr>\n",
       "    <tr>\n",
       "      <th>52315</th>\n",
       "      <td>8d3a54507421dbd2ce0a1d58046826e0</td>\n",
       "      <td>700</td>\n",
       "      <td>1</td>\n",
       "      <td>119.90</td>\n",
       "    </tr>\n",
       "    <tr>\n",
       "      <th>17673</th>\n",
       "      <td>2f64e403852e6893ae37485d5fcacdaf</td>\n",
       "      <td>700</td>\n",
       "      <td>1</td>\n",
       "      <td>21.90</td>\n",
       "    </tr>\n",
       "    <tr>\n",
       "      <th>48741</th>\n",
       "      <td>830d5b7aaa3b6f1e9ad63703bec97d23</td>\n",
       "      <td>718</td>\n",
       "      <td>1</td>\n",
       "      <td>134.97</td>\n",
       "    </tr>\n",
       "    <tr>\n",
       "      <th>68291</th>\n",
       "      <td>b7d76e111c89f7ebf14761390f0f7d17</td>\n",
       "      <td>729</td>\n",
       "      <td>1</td>\n",
       "      <td>72.89</td>\n",
       "    </tr>\n",
       "  </tbody>\n",
       "</table>\n",
       "<p>94970 rows × 4 columns</p>\n",
       "</div>"
      ],
      "text/plain": [
       "                     customer_unique_id  Recency  Frequency  Monetary\n",
       "94635  ff22e30958c13ffe219db7d711e8f564        1          2    290.00\n",
       "67201  b4dcade04bc548b7e3b0243c801f8c26        5          1     99.00\n",
       "45383  7a22d14aa3c3599238509ddca4b93b01        5          1     63.90\n",
       "12648  21dbe8eabd00b34492a939c540e2b1a7        5          1      6.90\n",
       "47576  7febafa06d9d8f232a900a2937f04338        5          1     45.90\n",
       "...                                 ...      ...        ...       ...\n",
       "42988  7390ed59fa1febbfda31a80b4318c8cb      700          1    128.90\n",
       "52315  8d3a54507421dbd2ce0a1d58046826e0      700          1    119.90\n",
       "17673  2f64e403852e6893ae37485d5fcacdaf      700          1     21.90\n",
       "48741  830d5b7aaa3b6f1e9ad63703bec97d23      718          1    134.97\n",
       "68291  b7d76e111c89f7ebf14761390f0f7d17      729          1     72.89\n",
       "\n",
       "[94970 rows x 4 columns]"
      ]
     },
     "execution_count": 73,
     "metadata": {},
     "output_type": "execute_result"
    }
   ],
   "source": [
    "RFM.sort_values('Recency')"
   ]
  },
  {
   "cell_type": "code",
   "execution_count": 2,
   "metadata": {},
   "outputs": [],
   "source": [
    "# Cрок давности заказов варьирует от 1 дня до 2х лет.Соответсвенно, можно разделить пользователей на такие кластеры:\n",
    "\n",
    "# 1: 365-729 days - от года до 2х лет\n",
    "# 2: 181-365 days - от полугода до года\n",
    "# 3: 91-180 days - от 3х месяцев до полугода\n",
    "# 4: 31-90 days - от 1 до 3х месяцев\n",
    "# 5: 0-30 days - менее 1 месяца\n",
    "\n",
    "# Такая разбивка чаще всего встречается в различных маркетинговых исследованиях для временного отрезка длительностью более года"
   ]
  },
  {
   "cell_type": "code",
   "execution_count": 75,
   "metadata": {},
   "outputs": [],
   "source": [
    "def r_score(x):\n",
    "    if x <= 30:\n",
    "        return 5\n",
    "    elif x <= 90:\n",
    "        return 4\n",
    "    elif x <= 180:\n",
    "        return 3\n",
    "    elif x <= 365:\n",
    "        return 2\n",
    "    else:\n",
    "        return 1"
   ]
  },
  {
   "cell_type": "code",
   "execution_count": 76,
   "metadata": {},
   "outputs": [
    {
     "data": {
      "text/plain": [
       "{'Frequency': {0.2: 1.0, 0.4: 1.0, 0.6: 1.0, 0.8: 1.0},\n",
       " 'Monetary': {0.2: 39.9, 0.4: 69.9, 0.6: 109.9, 0.8: 179.9}}"
      ]
     },
     "execution_count": 76,
     "metadata": {},
     "output_type": "execute_result"
    }
   ],
   "source": [
    "quintiles = RFM[['Frequency', 'Monetary']].quantile([.2, .4, .6, .8]).to_dict() #считаем квантили для показателей F и М\n",
    "quintiles\n",
    "#однако из-за сильной неравномерности данных квантили распределились так, что не отражают всего диапазона значений показателей.\n",
    "#поэтому их нельзя использовать для кластеров, ищем другие границы"
   ]
  },
  {
   "cell_type": "code",
   "execution_count": 77,
   "metadata": {},
   "outputs": [
    {
     "data": {
      "text/plain": [
       "1     92084\n",
       "2      2650\n",
       "3       188\n",
       "4        29\n",
       "5         9\n",
       "6         5\n",
       "7         3\n",
       "9         1\n",
       "16        1\n",
       "Name: Frequency, dtype: int64"
      ]
     },
     "execution_count": 77,
     "metadata": {},
     "output_type": "execute_result"
    }
   ],
   "source": [
    "RFM.Frequency.value_counts()"
   ]
  },
  {
   "cell_type": "markdown",
   "metadata": {},
   "source": [
    "По распределению количества совершённых заказов видно, что пользователи распределены крайне неравномерно. Подавляющее большинство сделали только 1 заказ, на порядок меньше  - 2 заказа, ещё на порядок - 3. Вероятно, логично будет более подбробно выделить кластеры среди пользователей с небольшим количеством заказов.\n"
   ]
  },
  {
   "cell_type": "code",
   "execution_count": 1,
   "metadata": {},
   "outputs": [],
   "source": [
    "#1: 1 покупка\n",
    "#2: 2-3\n",
    "#3: 4-5\n",
    "#4: 6-9\n",
    "#5: 10 и более покупок"
   ]
  },
  {
   "cell_type": "code",
   "execution_count": 79,
   "metadata": {},
   "outputs": [],
   "source": [
    "def f_score(x):\n",
    "    if x <= 1:\n",
    "        return 1\n",
    "    elif x <= 3:\n",
    "        return 2\n",
    "    elif x <= 5:\n",
    "        return 3\n",
    "    elif x <= 9:\n",
    "        return 4\n",
    "    else:\n",
    "        return 5   "
   ]
  },
  {
   "cell_type": "code",
   "execution_count": 80,
   "metadata": {},
   "outputs": [
    {
     "data": {
      "text/html": [
       "<div>\n",
       "<style scoped>\n",
       "    .dataframe tbody tr th:only-of-type {\n",
       "        vertical-align: middle;\n",
       "    }\n",
       "\n",
       "    .dataframe tbody tr th {\n",
       "        vertical-align: top;\n",
       "    }\n",
       "\n",
       "    .dataframe thead th {\n",
       "        text-align: right;\n",
       "    }\n",
       "</style>\n",
       "<table border=\"1\" class=\"dataframe\">\n",
       "  <thead>\n",
       "    <tr style=\"text-align: right;\">\n",
       "      <th></th>\n",
       "      <th>customer_unique_id</th>\n",
       "      <th>Recency</th>\n",
       "      <th>Frequency</th>\n",
       "      <th>Monetary</th>\n",
       "    </tr>\n",
       "  </thead>\n",
       "  <tbody>\n",
       "    <tr>\n",
       "      <th>80251</th>\n",
       "      <td>d80730c15c647bc8f2ad77c908ba5ca9</td>\n",
       "      <td>132</td>\n",
       "      <td>1</td>\n",
       "      <td>0.85</td>\n",
       "    </tr>\n",
       "    <tr>\n",
       "      <th>66692</th>\n",
       "      <td>b38211bd797f4fdd81a98b9d1754b606</td>\n",
       "      <td>132</td>\n",
       "      <td>1</td>\n",
       "      <td>0.85</td>\n",
       "    </tr>\n",
       "    <tr>\n",
       "      <th>18435</th>\n",
       "      <td>317cfc692e3f86c45c95697c61c853a6</td>\n",
       "      <td>9</td>\n",
       "      <td>1</td>\n",
       "      <td>2.20</td>\n",
       "    </tr>\n",
       "    <tr>\n",
       "      <th>70222</th>\n",
       "      <td>bd06ce0e06ad77a7f681f1a4960a3cc6</td>\n",
       "      <td>355</td>\n",
       "      <td>1</td>\n",
       "      <td>2.29</td>\n",
       "    </tr>\n",
       "    <tr>\n",
       "      <th>76931</th>\n",
       "      <td>cf3839da0d9492ad151690b65f45d800</td>\n",
       "      <td>214</td>\n",
       "      <td>1</td>\n",
       "      <td>2.99</td>\n",
       "    </tr>\n",
       "    <tr>\n",
       "      <th>...</th>\n",
       "      <td>...</td>\n",
       "      <td>...</td>\n",
       "      <td>...</td>\n",
       "      <td>...</td>\n",
       "    </tr>\n",
       "    <tr>\n",
       "      <th>25901</th>\n",
       "      <td>459bef486812aa25204be022145caa62</td>\n",
       "      <td>40</td>\n",
       "      <td>1</td>\n",
       "      <td>6729.00</td>\n",
       "    </tr>\n",
       "    <tr>\n",
       "      <th>81839</th>\n",
       "      <td>dc4802a71eae9be1dd28f5d788ceb526</td>\n",
       "      <td>568</td>\n",
       "      <td>1</td>\n",
       "      <td>6735.00</td>\n",
       "    </tr>\n",
       "    <tr>\n",
       "      <th>43936</th>\n",
       "      <td>763c8b1c9c68a0229c42c9fc6f662b93</td>\n",
       "      <td>50</td>\n",
       "      <td>1</td>\n",
       "      <td>7160.00</td>\n",
       "    </tr>\n",
       "    <tr>\n",
       "      <th>81000</th>\n",
       "      <td>da122df9eeddfedc1dc1f5349a1a690c</td>\n",
       "      <td>520</td>\n",
       "      <td>2</td>\n",
       "      <td>7388.00</td>\n",
       "    </tr>\n",
       "    <tr>\n",
       "      <th>3788</th>\n",
       "      <td>0a0a92112bd4c708ca5fde585afaa872</td>\n",
       "      <td>339</td>\n",
       "      <td>1</td>\n",
       "      <td>13440.00</td>\n",
       "    </tr>\n",
       "  </tbody>\n",
       "</table>\n",
       "<p>94970 rows × 4 columns</p>\n",
       "</div>"
      ],
      "text/plain": [
       "                     customer_unique_id  Recency  Frequency  Monetary\n",
       "80251  d80730c15c647bc8f2ad77c908ba5ca9      132          1      0.85\n",
       "66692  b38211bd797f4fdd81a98b9d1754b606      132          1      0.85\n",
       "18435  317cfc692e3f86c45c95697c61c853a6        9          1      2.20\n",
       "70222  bd06ce0e06ad77a7f681f1a4960a3cc6      355          1      2.29\n",
       "76931  cf3839da0d9492ad151690b65f45d800      214          1      2.99\n",
       "...                                 ...      ...        ...       ...\n",
       "25901  459bef486812aa25204be022145caa62       40          1   6729.00\n",
       "81839  dc4802a71eae9be1dd28f5d788ceb526      568          1   6735.00\n",
       "43936  763c8b1c9c68a0229c42c9fc6f662b93       50          1   7160.00\n",
       "81000  da122df9eeddfedc1dc1f5349a1a690c      520          2   7388.00\n",
       "3788   0a0a92112bd4c708ca5fde585afaa872      339          1  13440.00\n",
       "\n",
       "[94970 rows x 4 columns]"
      ]
     },
     "execution_count": 80,
     "metadata": {},
     "output_type": "execute_result"
    }
   ],
   "source": [
    "RFM.sort_values('Monetary') # Посмотрим, какие значения принимает Monetary"
   ]
  },
  {
   "cell_type": "code",
   "execution_count": 81,
   "metadata": {},
   "outputs": [
    {
     "data": {
      "text/plain": [
       "59.90     1603\n",
       "69.90     1493\n",
       "49.90     1335\n",
       "89.90     1153\n",
       "99.90     1128\n",
       "79.90      939\n",
       "39.90      904\n",
       "29.90      896\n",
       "19.90      865\n",
       "29.99      825\n",
       "49.00      785\n",
       "99.00      751\n",
       "149.90     700\n",
       "109.90     660\n",
       "99.99      637\n",
       "119.90     606\n",
       "129.90     531\n",
       "79.00      513\n",
       "89.99      488\n",
       "56.99      486\n",
       "Name: Monetary, dtype: int64"
      ]
     },
     "execution_count": 81,
     "metadata": {},
     "output_type": "execute_result"
    }
   ],
   "source": [
    "RFM.Monetary.value_counts().head(20)"
   ]
  },
  {
   "cell_type": "code",
   "execution_count": 82,
   "metadata": {},
   "outputs": [
    {
     "name": "stderr",
     "output_type": "stream",
     "text": [
      "C:\\Users\\Vaanry\\miniconda3\\lib\\site-packages\\seaborn\\distributions.py:2619: FutureWarning: `distplot` is a deprecated function and will be removed in a future version. Please adapt your code to use either `displot` (a figure-level function with similar flexibility) or `histplot` (an axes-level function for histograms).\n",
      "  warnings.warn(msg, FutureWarning)\n"
     ]
    },
    {
     "data": {
      "text/plain": [
       "<AxesSubplot:xlabel='Monetary', ylabel='Density'>"
      ]
     },
     "execution_count": 82,
     "metadata": {},
     "output_type": "execute_result"
    },
    {
     "data": {
      "image/png": "[encoded data removed]",
      "text/plain": [
       "<Figure size 1440x432 with 1 Axes>"
      ]
     },
     "metadata": {
      "needs_background": "light"
     },
     "output_type": "display_data"
    }
   ],
   "source": [
    "plt.figure(figsize=(20,6)) # Смотрим распределение\n",
    "sns.distplot(RFM.Monetary)"
   ]
  },
  {
   "cell_type": "code",
   "execution_count": 83,
   "metadata": {},
   "outputs": [
    {
     "data": {
      "text/plain": [
       "<AxesSubplot:xlabel='Monetary', ylabel='Count'>"
      ]
     },
     "execution_count": 83,
     "metadata": {},
     "output_type": "execute_result"
    },
    {
     "data": {
      "image/png": "[encoded data removed]",
      "text/plain": [
       "<Figure size 1440x432 with 1 Axes>"
      ]
     },
     "metadata": {
      "needs_background": "light"
     },
     "output_type": "display_data"
    }
   ],
   "source": [
    "plt.figure(figsize=(20,6)) # Поскольку распределение сильно скошено влево, отбросим часть \"правых\" значений, чтобы посмотреть детальнее\n",
    "sns.histplot(RFM.query('Monetary < 1000').Monetary, bins=50, kde = False)"
   ]
  },
  {
   "cell_type": "code",
   "execution_count": 84,
   "metadata": {},
   "outputs": [
    {
     "data": {
      "text/plain": [
       "<AxesSubplot:xlabel='Monetary', ylabel='Count'>"
      ]
     },
     "execution_count": 84,
     "metadata": {},
     "output_type": "execute_result"
    },
    {
     "data": {
      "image/png": "[encoded data removed]",
      "text/plain": [
       "<Figure size 1440x432 with 1 Axes>"
      ]
     },
     "metadata": {
      "needs_background": "light"
     },
     "output_type": "display_data"
    }
   ],
   "source": [
    "plt.figure(figsize=(20,6)) # Повторим отбрасывание ещё раз\n",
    "sns.histplot(RFM.query('Monetary < 200').Monetary, bins=50, kde = False)"
   ]
  },
  {
   "cell_type": "markdown",
   "metadata": {},
   "source": [
    "Видно, что количество заказов не сумму более 1000 очень невелико. Поэтому логичным будет сразу выделить все покупки на сумму \n",
    "от 1000 в отдельный кластер 5. Большинство же покупок укладываются в сумму от 19.90 до 59.90. Поэтому этот диапазон также следует выделить в кластер 2.Соответсвенно, сумма до до 19.90 будет кластером 1. Оставшиеся кластеры поделят диапазоны 59.91-200.99 и\n",
    "201 - 999.\n",
    "5: 1000.00 и более\n",
    "4: 201.00 - 999.99\n",
    "3: 59.91 - 200.99\n",
    "2: 19.90 - 59.90\n",
    "1: 0.85 - 19.89\n",
    "\n",
    "Конечно, с такой разбивкой максимальная детализация приходится на маленькие суммы, но зато оно позволит создать более-менее#равномерные по количеству пользователей кластеры, чем чисто арифметическое разделение максимальной суммы на 5."
   ]
  },
  {
   "cell_type": "code",
   "execution_count": 86,
   "metadata": {},
   "outputs": [],
   "source": [
    "def m_score(x):\n",
    "    if x <= 19.89:\n",
    "        return 1\n",
    "    elif x <= 59.90:\n",
    "        return 2\n",
    "    elif x <= 200.99:\n",
    "        return 3\n",
    "    elif x <= 999.99:\n",
    "        return 4\n",
    "    else:\n",
    "        return 5   "
   ]
  },
  {
   "cell_type": "code",
   "execution_count": 87,
   "metadata": {},
   "outputs": [],
   "source": [
    "RFM['R'] = RFM['Recency'].apply(lambda x: r_score(x))\n",
    "RFM['F'] = RFM['Frequency'].apply(lambda x: f_score(x))\n",
    "RFM['M'] = RFM['Monetary'].apply(lambda x: m_score(x))"
   ]
  },
  {
   "cell_type": "code",
   "execution_count": 88,
   "metadata": {},
   "outputs": [
    {
     "data": {
      "text/html": [
       "<div>\n",
       "<style scoped>\n",
       "    .dataframe tbody tr th:only-of-type {\n",
       "        vertical-align: middle;\n",
       "    }\n",
       "\n",
       "    .dataframe tbody tr th {\n",
       "        vertical-align: top;\n",
       "    }\n",
       "\n",
       "    .dataframe thead th {\n",
       "        text-align: right;\n",
       "    }\n",
       "</style>\n",
       "<table border=\"1\" class=\"dataframe\">\n",
       "  <thead>\n",
       "    <tr style=\"text-align: right;\">\n",
       "      <th></th>\n",
       "      <th>customer_unique_id</th>\n",
       "      <th>Recency</th>\n",
       "      <th>Frequency</th>\n",
       "      <th>Monetary</th>\n",
       "      <th>R</th>\n",
       "      <th>F</th>\n",
       "      <th>M</th>\n",
       "      <th>RFM Score</th>\n",
       "    </tr>\n",
       "  </thead>\n",
       "  <tbody>\n",
       "    <tr>\n",
       "      <th>0</th>\n",
       "      <td>0000366f3b9a7992bf8c76cfdf3221e2</td>\n",
       "      <td>116</td>\n",
       "      <td>1</td>\n",
       "      <td>129.90</td>\n",
       "      <td>3</td>\n",
       "      <td>1</td>\n",
       "      <td>3</td>\n",
       "      <td>313</td>\n",
       "    </tr>\n",
       "    <tr>\n",
       "      <th>1</th>\n",
       "      <td>0000b849f77a49e4a4ce2b2a4ca5be3f</td>\n",
       "      <td>119</td>\n",
       "      <td>1</td>\n",
       "      <td>18.90</td>\n",
       "      <td>3</td>\n",
       "      <td>1</td>\n",
       "      <td>1</td>\n",
       "      <td>311</td>\n",
       "    </tr>\n",
       "    <tr>\n",
       "      <th>2</th>\n",
       "      <td>0000f46a3911fa3c0805444483337064</td>\n",
       "      <td>542</td>\n",
       "      <td>1</td>\n",
       "      <td>69.00</td>\n",
       "      <td>1</td>\n",
       "      <td>1</td>\n",
       "      <td>3</td>\n",
       "      <td>113</td>\n",
       "    </tr>\n",
       "    <tr>\n",
       "      <th>3</th>\n",
       "      <td>0000f6ccb0745a6a4b88665a16c9f078</td>\n",
       "      <td>326</td>\n",
       "      <td>1</td>\n",
       "      <td>25.99</td>\n",
       "      <td>2</td>\n",
       "      <td>1</td>\n",
       "      <td>2</td>\n",
       "      <td>212</td>\n",
       "    </tr>\n",
       "    <tr>\n",
       "      <th>4</th>\n",
       "      <td>0004aac84e0df4da2b147fca70cf8255</td>\n",
       "      <td>293</td>\n",
       "      <td>1</td>\n",
       "      <td>180.00</td>\n",
       "      <td>2</td>\n",
       "      <td>1</td>\n",
       "      <td>3</td>\n",
       "      <td>213</td>\n",
       "    </tr>\n",
       "  </tbody>\n",
       "</table>\n",
       "</div>"
      ],
      "text/plain": [
       "                 customer_unique_id  Recency  Frequency  Monetary  R  F  M  \\\n",
       "0  0000366f3b9a7992bf8c76cfdf3221e2      116          1    129.90  3  1  3   \n",
       "1  0000b849f77a49e4a4ce2b2a4ca5be3f      119          1     18.90  3  1  1   \n",
       "2  0000f46a3911fa3c0805444483337064      542          1     69.00  1  1  3   \n",
       "3  0000f6ccb0745a6a4b88665a16c9f078      326          1     25.99  2  1  2   \n",
       "4  0004aac84e0df4da2b147fca70cf8255      293          1    180.00  2  1  3   \n",
       "\n",
       "  RFM Score  \n",
       "0       313  \n",
       "1       311  \n",
       "2       113  \n",
       "3       212  \n",
       "4       213  "
      ]
     },
     "execution_count": 88,
     "metadata": {},
     "output_type": "execute_result"
    }
   ],
   "source": [
    "RFM['RFM Score'] = RFM['R'].map(str) + RFM['F'].map(str) + RFM['M'].map(str)\n",
    "RFM.head()"
   ]
  },
  {
   "cell_type": "code",
   "execution_count": 89,
   "metadata": {},
   "outputs": [
    {
     "data": {
      "text/html": [
       "<div>\n",
       "<style scoped>\n",
       "    .dataframe tbody tr th:only-of-type {\n",
       "        vertical-align: middle;\n",
       "    }\n",
       "\n",
       "    .dataframe tbody tr th {\n",
       "        vertical-align: top;\n",
       "    }\n",
       "\n",
       "    .dataframe thead th {\n",
       "        text-align: right;\n",
       "    }\n",
       "</style>\n",
       "<table border=\"1\" class=\"dataframe\">\n",
       "  <thead>\n",
       "    <tr style=\"text-align: right;\">\n",
       "      <th></th>\n",
       "      <th>customer_unique_id</th>\n",
       "      <th>Recency</th>\n",
       "      <th>Frequency</th>\n",
       "      <th>Monetary</th>\n",
       "      <th>R</th>\n",
       "      <th>F</th>\n",
       "      <th>M</th>\n",
       "      <th>RFM Score</th>\n",
       "      <th>Segment</th>\n",
       "    </tr>\n",
       "  </thead>\n",
       "  <tbody>\n",
       "    <tr>\n",
       "      <th>0</th>\n",
       "      <td>0000366f3b9a7992bf8c76cfdf3221e2</td>\n",
       "      <td>116</td>\n",
       "      <td>1</td>\n",
       "      <td>129.90</td>\n",
       "      <td>3</td>\n",
       "      <td>1</td>\n",
       "      <td>3</td>\n",
       "      <td>313</td>\n",
       "      <td>уходящие</td>\n",
       "    </tr>\n",
       "    <tr>\n",
       "      <th>1</th>\n",
       "      <td>0000b849f77a49e4a4ce2b2a4ca5be3f</td>\n",
       "      <td>119</td>\n",
       "      <td>1</td>\n",
       "      <td>18.90</td>\n",
       "      <td>3</td>\n",
       "      <td>1</td>\n",
       "      <td>1</td>\n",
       "      <td>311</td>\n",
       "      <td>уходящие</td>\n",
       "    </tr>\n",
       "    <tr>\n",
       "      <th>2</th>\n",
       "      <td>0000f46a3911fa3c0805444483337064</td>\n",
       "      <td>542</td>\n",
       "      <td>1</td>\n",
       "      <td>69.00</td>\n",
       "      <td>1</td>\n",
       "      <td>1</td>\n",
       "      <td>3</td>\n",
       "      <td>113</td>\n",
       "      <td>потерянные</td>\n",
       "    </tr>\n",
       "    <tr>\n",
       "      <th>3</th>\n",
       "      <td>0000f6ccb0745a6a4b88665a16c9f078</td>\n",
       "      <td>326</td>\n",
       "      <td>1</td>\n",
       "      <td>25.99</td>\n",
       "      <td>2</td>\n",
       "      <td>1</td>\n",
       "      <td>2</td>\n",
       "      <td>212</td>\n",
       "      <td>потерянные</td>\n",
       "    </tr>\n",
       "    <tr>\n",
       "      <th>4</th>\n",
       "      <td>0004aac84e0df4da2b147fca70cf8255</td>\n",
       "      <td>293</td>\n",
       "      <td>1</td>\n",
       "      <td>180.00</td>\n",
       "      <td>2</td>\n",
       "      <td>1</td>\n",
       "      <td>3</td>\n",
       "      <td>213</td>\n",
       "      <td>потерянные</td>\n",
       "    </tr>\n",
       "  </tbody>\n",
       "</table>\n",
       "</div>"
      ],
      "text/plain": [
       "                 customer_unique_id  Recency  Frequency  Monetary  R  F  M  \\\n",
       "0  0000366f3b9a7992bf8c76cfdf3221e2      116          1    129.90  3  1  3   \n",
       "1  0000b849f77a49e4a4ce2b2a4ca5be3f      119          1     18.90  3  1  1   \n",
       "2  0000f46a3911fa3c0805444483337064      542          1     69.00  1  1  3   \n",
       "3  0000f6ccb0745a6a4b88665a16c9f078      326          1     25.99  2  1  2   \n",
       "4  0004aac84e0df4da2b147fca70cf8255      293          1    180.00  2  1  3   \n",
       "\n",
       "  RFM Score     Segment  \n",
       "0       313    уходящие  \n",
       "1       311    уходящие  \n",
       "2       113  потерянные  \n",
       "3       212  потерянные  \n",
       "4       213  потерянные  "
      ]
     },
     "execution_count": 89,
     "metadata": {},
     "output_type": "execute_result"
    }
   ],
   "source": [
    "segt_map = {\n",
    "    r'[1-2][1-2]': 'потерянные',\n",
    "    r'[1-2][3-4]': 'в зоне риска',\n",
    "    r'[1-2]5': 'нельзя потерять',\n",
    "    r'3[1-2]': 'уходящие',\n",
    "    r'33': 'требуют внимания',\n",
    "    r'[3-4][4-5]': 'лояльные',\n",
    "    r'41': 'растущие',\n",
    "    r'51': 'новички',\n",
    "    r'[4-5][2-3]': 'потенциальные лоялисты',\n",
    "    r'5[4-5]': 'ядро'\n",
    "}\n",
    "\n",
    "RFM['Segment'] = RFM['R'].map(str) + RFM['F'].map(str)\n",
    "RFM['Segment'] = RFM['Segment'].replace(segt_map, regex=True)\n",
    "RFM.head()"
   ]
  },
  {
   "cell_type": "code",
   "execution_count": 90,
   "metadata": {},
   "outputs": [
    {
     "data": {
      "text/html": [
       "<div>\n",
       "<style scoped>\n",
       "    .dataframe tbody tr th:only-of-type {\n",
       "        vertical-align: middle;\n",
       "    }\n",
       "\n",
       "    .dataframe tbody tr th {\n",
       "        vertical-align: top;\n",
       "    }\n",
       "\n",
       "    .dataframe thead th {\n",
       "        text-align: right;\n",
       "    }\n",
       "</style>\n",
       "<table border=\"1\" class=\"dataframe\">\n",
       "  <thead>\n",
       "    <tr style=\"text-align: right;\">\n",
       "      <th></th>\n",
       "      <th>Segment</th>\n",
       "      <th>RecencyMean</th>\n",
       "      <th>FrequencyMean</th>\n",
       "      <th>MonetaryMean</th>\n",
       "      <th>Quantity</th>\n",
       "    </tr>\n",
       "  </thead>\n",
       "  <tbody>\n",
       "    <tr>\n",
       "      <th>0</th>\n",
       "      <td>в зоне риска</td>\n",
       "      <td>326.6</td>\n",
       "      <td>4.9</td>\n",
       "      <td>544.9</td>\n",
       "      <td>16</td>\n",
       "    </tr>\n",
       "    <tr>\n",
       "      <th>1</th>\n",
       "      <td>лояльные</td>\n",
       "      <td>103.0</td>\n",
       "      <td>6.5</td>\n",
       "      <td>622.2</td>\n",
       "      <td>4</td>\n",
       "    </tr>\n",
       "    <tr>\n",
       "      <th>2</th>\n",
       "      <td>новички</td>\n",
       "      <td>20.5</td>\n",
       "      <td>1.0</td>\n",
       "      <td>132.7</td>\n",
       "      <td>5273</td>\n",
       "    </tr>\n",
       "    <tr>\n",
       "      <th>3</th>\n",
       "      <td>потенциальные лоялисты</td>\n",
       "      <td>48.0</td>\n",
       "      <td>2.1</td>\n",
       "      <td>267.7</td>\n",
       "      <td>590</td>\n",
       "    </tr>\n",
       "    <tr>\n",
       "      <th>4</th>\n",
       "      <td>потерянные</td>\n",
       "      <td>340.8</td>\n",
       "      <td>1.0</td>\n",
       "      <td>140.2</td>\n",
       "      <td>57400</td>\n",
       "    </tr>\n",
       "    <tr>\n",
       "      <th>5</th>\n",
       "      <td>растущие</td>\n",
       "      <td>59.4</td>\n",
       "      <td>1.0</td>\n",
       "      <td>139.7</td>\n",
       "      <td>11971</td>\n",
       "    </tr>\n",
       "    <tr>\n",
       "      <th>6</th>\n",
       "      <td>требуют внимания</td>\n",
       "      <td>134.5</td>\n",
       "      <td>4.4</td>\n",
       "      <td>486.5</td>\n",
       "      <td>11</td>\n",
       "    </tr>\n",
       "    <tr>\n",
       "      <th>7</th>\n",
       "      <td>уходящие</td>\n",
       "      <td>137.0</td>\n",
       "      <td>1.0</td>\n",
       "      <td>147.2</td>\n",
       "      <td>19703</td>\n",
       "    </tr>\n",
       "    <tr>\n",
       "      <th>8</th>\n",
       "      <td>ядро</td>\n",
       "      <td>13.0</td>\n",
       "      <td>11.0</td>\n",
       "      <td>708.7</td>\n",
       "      <td>2</td>\n",
       "    </tr>\n",
       "  </tbody>\n",
       "</table>\n",
       "</div>"
      ],
      "text/plain": [
       "                  Segment  RecencyMean  FrequencyMean  MonetaryMean  Quantity\n",
       "0            в зоне риска        326.6            4.9         544.9        16\n",
       "1                лояльные        103.0            6.5         622.2         4\n",
       "2                 новички         20.5            1.0         132.7      5273\n",
       "3  потенциальные лоялисты         48.0            2.1         267.7       590\n",
       "4              потерянные        340.8            1.0         140.2     57400\n",
       "5                растущие         59.4            1.0         139.7     11971\n",
       "6        требуют внимания        134.5            4.4         486.5        11\n",
       "7                уходящие        137.0            1.0         147.2     19703\n",
       "8                    ядро         13.0           11.0         708.7         2"
      ]
     },
     "execution_count": 90,
     "metadata": {},
     "output_type": "execute_result"
    }
   ],
   "source": [
    "RFM_level_mean = RFM.groupby('Segment', as_index = False).agg({\n",
    "    'Recency': 'mean',\n",
    "    'Frequency': 'mean',\n",
    "    'Monetary': 'mean', 'customer_unique_id':'count'\n",
    "}).round(1)\\\n",
    ".rename(columns={'Recency':'RecencyMean','Frequency':'FrequencyMean','Monetary':'MonetaryMean','customer_unique_id' :'Quantity'})\n",
    "RFM_level_mean \n",
    "# Создаём таблицу со средними значениями показателей и количеством пользователей в каждом сегменте"
   ]
  },
  {
   "cell_type": "code",
   "execution_count": 91,
   "metadata": {},
   "outputs": [
    {
     "data": {
      "image/png": "[encoded data removed]",
      "text/plain": [
       "<Figure size 432x288 with 1 Axes>"
      ]
     },
     "metadata": {
      "needs_background": "light"
     },
     "output_type": "display_data"
    }
   ],
   "source": [
    "segments_counts = RFM['Segment'].value_counts().sort_values(ascending=True)\n",
    "\n",
    "fig, ax = plt.subplots()\n",
    "\n",
    "bars = ax.barh(range(len(segments_counts)),\n",
    "              segments_counts,\n",
    "              color='silver')\n",
    "ax.set_frame_on(False)\n",
    "ax.tick_params(left=False,\n",
    "               bottom=False,\n",
    "               labelbottom=False)\n",
    "ax.set_yticks(range(len(segments_counts)))\n",
    "ax.set_yticklabels(segments_counts.index)\n",
    "\n",
    "for i, bar in enumerate(bars):\n",
    "        value = bar.get_width()\n",
    "        if segments_counts.index[i] in ['ядро', 'лояльные']:\n",
    "            bar.set_color('firebrick')\n",
    "        ax.text(value,\n",
    "                bar.get_y() + bar.get_height()/2,\n",
    "                '{:,} ({:}%)'.format(int(value),\n",
    "                                   int(value*100/segments_counts.sum())),\n",
    "                va='center',\n",
    "                ha='left'\n",
    "               )\n",
    "\n",
    "plt.show()"
   ]
  },
  {
   "cell_type": "markdown",
   "metadata": {},
   "source": [
    "Исходя из полученного графика, дела у нас идут очень плохо. Клиентов, которые должны составлять ядро, у нас исчезающе мало.\n",
    "Подавляющее большинство клиентов - или потерянные, или уходящие. Некоторую надежду внушает относительно большое количество  растущих клиентов, а также новичков. "
   ]
  },
  {
   "cell_type": "code",
   "execution_count": 93,
   "metadata": {},
   "outputs": [
    {
     "data": {
      "image/png": "[encoded data removed]",
      "text/plain": [
       "<Figure size 720x720 with 1 Axes>"
      ]
     },
     "metadata": {},
     "output_type": "display_data"
    }
   ],
   "source": [
    "plt.figure(figsize=(10,10)) # Ещё один график. На нём самые маленькие сегменты даже не удаётся различить\n",
    "plt.pie(RFM.Segment.value_counts(),\n",
    "        labels=RFM.Segment.value_counts().index,\n",
    "        autopct='%.0f%%')\n",
    "plt.show()"
   ]
  },
  {
   "cell_type": "code",
   "execution_count": 116,
   "metadata": {},
   "outputs": [
    {
     "data": {
      "image/png": "[encoded data removed]",
      "text/plain": [
       "<Figure size 2160x2160 with 1 Axes>"
      ]
     },
     "metadata": {
      "needs_background": "light"
     },
     "output_type": "display_data"
    }
   ],
   "source": [
    "import squarify\n",
    "\n",
    "fig = plt.gcf()\n",
    "ax = fig.add_subplot()\n",
    "fig.set_size_inches(30, 30)\n",
    "squarify.plot(sizes=RFM_level_mean['Quantity'],\n",
    "              color=sns.color_palette(\"Spectral\", len(RFM_level_mean.Segment)),\n",
    "              label=RFM_level_mean.Segment,\n",
    "               alpha=.8 )\n",
    "plt.title(\"RFM Segments\",fontsize=16,fontweight=\"bold\")\n",
    "\n",
    "plt.axis('off')\n",
    "plt.show()\n",
    "\n",
    "fig.savefig('RFM_Segments.png')"
   ]
  },
  {
   "cell_type": "code",
   "execution_count": null,
   "metadata": {},
   "outputs": [],
   "source": []
  }
 ],
 "metadata": {
  "kernelspec": {
   "display_name": "Python 3 (ipykernel)",
   "language": "python",
   "name": "python3"
  },
  "language_info": {
   "codemirror_mode": {
    "name": "ipython",
    "version": 3
   },
   "file_extension": ".py",
   "mimetype": "text/x-python",
   "name": "python",
   "nbconvert_exporter": "python",
   "pygments_lexer": "ipython3",
   "version": "3.9.7"
  }
 },
 "nbformat": 4,
 "nbformat_minor": 4
}
