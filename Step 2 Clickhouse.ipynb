{
 "cells": [
  {
   "cell_type": "markdown",
   "id": "5a31cb2e",
   "metadata": {},
   "source": [
    "#### Clickhouse\n",
    "\n",
    "В Clickhouse мы создаем 5 таблиц/view."
   ]
  },
  {
   "cell_type": "code",
   "execution_count": 4,
   "id": "cfabb813",
   "metadata": {},
   "outputs": [],
   "source": [
    "from clickhouse_driver import Client\n",
    "import secret\n",
    "import warnings\n",
    "warnings.filterwarnings('ignore')"
   ]
  },
  {
   "cell_type": "code",
   "execution_count": 5,
   "id": "a0ca4619",
   "metadata": {},
   "outputs": [],
   "source": [
    "client = Client(host=secret.host, port=9000, user=secret.user, password=secret.password, database='hardda')"
   ]
  },
  {
   "cell_type": "markdown",
   "id": "df1a6183",
   "metadata": {},
   "source": [
    "Таблица с движком S3, которая смотрит на сформированный ранее плоский файл (Step 1). Важно! Необходимо верно указать типы и названия полей."
   ]
  },
  {
   "cell_type": "code",
   "execution_count": 37,
   "id": "ab46fcb7",
   "metadata": {},
   "outputs": [],
   "source": [
    "create_1 = \"\"\"CREATE TABLE flat_table (\n",
    "            execution_date TIMESTAMP,\n",
    "            advert_id UInt64,\n",
    "            region VARCHAR(20),\n",
    "            user_id UInt64,\n",
    "            platform VARCHAR(20),\n",
    "            mark VARCHAR(20),\n",
    "            model VARCHAR(20),\n",
    "            price Float64,\n",
    "            year Float64,\n",
    "            fuel VARCHAR(20),\n",
    "            color VARCHAR(20),\n",
    "            transmission VARCHAR(20),\n",
    "            body VARCHAR(20),\n",
    "            country VARCHAR(20),\n",
    "            global_id Float64,\n",
    "            user_type_name VARCHAR(20)\n",
    "            ) \n",
    "            ENGINE=S3('https://storage.yandexcloud.net/kc-hardda-projects/student_name/flat_table', 'parquet')\n",
    "            SETTINGS input_format_with_names_use_header = 0\n",
    "\"\"\"\n",
    "\n",
    "query_1 = 'SELECT * FROM flat_table LIMIT 5'"
   ]
  },
  {
   "cell_type": "code",
   "execution_count": null,
   "id": "6947febb",
   "metadata": {},
   "outputs": [],
   "source": [
    "client.execute(create_1)\n",
    "client.execute(query_1, with_column_types=True)"
   ]
  },
  {
   "cell_type": "code",
   "execution_count": 41,
   "id": "02aa4d50",
   "metadata": {},
   "outputs": [],
   "source": [
    "client.execute(create_1)\n",
    "result, columns = client.execute(query_1, with_column_types=True)\n",
    "# df = pd.DataFrame(result, columns=[tuple[0] for tuple in columns])\n",
    "# df.head()"
   ]
  },
  {
   "cell_type": "markdown",
   "id": "68a20608",
   "metadata": {},
   "source": [
    "Таблица mergeTree, куда мы зальем все наши данные из таблицы с движком S3."
   ]
  },
  {
   "cell_type": "code",
   "execution_count": 42,
   "id": "6abb2da3",
   "metadata": {},
   "outputs": [],
   "source": [
    "create_2 = \"\"\"CREATE TABLE mergeTree_table (\n",
    "            execution_date TIMESTAMP,\n",
    "            advert_id UInt64,\n",
    "            region VARCHAR(20),\n",
    "            user_id UInt64,\n",
    "            platform VARCHAR(20),\n",
    "            mark VARCHAR(20),\n",
    "            model VARCHAR(20),\n",
    "            price Float64,\n",
    "            year Float64,\n",
    "            fuel VARCHAR(20),\n",
    "            color VARCHAR(20),\n",
    "            transmission VARCHAR(20),\n",
    "            body VARCHAR(20),\n",
    "            country VARCHAR(20),\n",
    "            global_id Float64,\n",
    "            user_type_name VARCHAR(20)\n",
    "            ) \n",
    "            ENGINE = MergeTree()\n",
    "            ORDER BY (advert_id, execution_date)\n",
    "            PARTITION BY toMonday(execution_date)\n",
    "\"\"\"\n",
    "\n",
    "insert = \"\"\"INSERT INTO hardda.mergeTree_table (*) SELECT * from hardda.flat_table\"\"\"\n",
    "\n",
    "query_2 = 'SELECT * FROM mergeTree_table LIMIT 5'"
   ]
  },
  {
   "cell_type": "code",
   "execution_count": null,
   "id": "4cda5d01",
   "metadata": {},
   "outputs": [],
   "source": [
    "client.execute(create_2)\n",
    "client.execute(insert)\n",
    "client.execute(query_2, with_column_types=True)"
   ]
  },
  {
   "cell_type": "markdown",
   "id": "42b49f45",
   "metadata": {},
   "source": [
    "#### MATERIALIZED VIEW \n",
    "для решения задачи бизн\n",
    "группировка по:\n",
    "- execution_date,\n",
    "- platform,\n",
    "- user_type_name,\n",
    "Расчетные поля:\n",
    "- минимальная стоимость\n",
    "- 0.25 квантиль\n",
    "- медиана\n",
    "- среднее\n",
    "- 0.75 квантиль\n",
    "- максимальная стоимость"
   ]
  },
  {
   "cell_type": "code",
   "execution_count": 43,
   "id": "fcde0e44",
   "metadata": {},
   "outputs": [],
   "source": [
    "create_3 = \"\"\"CREATE TABLE hardda.agg_view_1 (\n",
    "                'execution_date' TIMESTAMP,\n",
    "                'platform' VARCHAR(20),\n",
    "                'user_type_name' VARCHAR(20),\n",
    "                'min_price' AggregateFunction(min, Float64),\n",
    "                '25_price' AggregateFunction(quantile(0.25), Float64),\n",
    "                'median_price' AggregateFunction(median, Float64),\n",
    "                'mean_price' AggregateFunction(avg, Float64),\n",
    "                '75_price' AggregateFunction(quantile(0.75), Float64),\n",
    "                'max_price' AggregateFunction(max, Float64)\n",
    "            )\n",
    "            ENGINE = AggregatingMergeTree\n",
    "            ORDER BY (execution_date)\"\"\"\n",
    "\n",
    "\n",
    "agg_view_1 = \"\"\"CREATE MATERIALIZED VIEW hardda.agg_view_1_mv\n",
    "                TO hardda.agg_view_1\n",
    "                AS\n",
    "                SELECT\n",
    "                    execution_date,\n",
    "                    platform,\n",
    "                    user_type_name,\n",
    "                    min(price) as min_price,\n",
    "                    quantile(0.25)(price) as 25_price,\n",
    "                    median(price) as median_price,\n",
    "                    avg(price) as mean_price,\n",
    "                    quantile(0.75)(price) as 75_price,\n",
    "                    max(price) as max_price\n",
    "                FROM hardda.mergeTree_table\n",
    "                GROUP BY\n",
    "                    execution_date,\n",
    "                    platform,\n",
    "                    user_type_name\"\"\""
   ]
  },
  {
   "cell_type": "code",
   "execution_count": null,
   "id": "a8cac19a",
   "metadata": {},
   "outputs": [],
   "source": [
    "client.execute(create_3)\n",
    "client.execute(agg_view_1)"
   ]
  }
 ],
 "metadata": {
  "kernelspec": {
   "display_name": "Python 3 (ipykernel)",
   "language": "python",
   "name": "python3"
  },
  "language_info": {
   "codemirror_mode": {
    "name": "ipython",
    "version": 3
   },
   "file_extension": ".py",
   "mimetype": "text/x-python",
   "name": "python",
   "nbconvert_exporter": "python",
   "pygments_lexer": "ipython3",
   "version": "3.9.13"
  }
 },
 "nbformat": 4,
 "nbformat_minor": 5
}
