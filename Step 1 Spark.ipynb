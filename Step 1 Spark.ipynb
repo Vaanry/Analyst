{
 "cells": [
  {
   "cell_type": "markdown",
   "id": "01d3ae83",
   "metadata": {},
   "source": [
    "#### Spark\n",
    "\n",
    "На Spark нам необходимо с помощью join создать плоскую витрину, содержащую информацию из всех трех таблиц:\n",
    "\n",
    "•adverts_data – данные с характеристиками объявлений;\n",
    "\n",
    "•live_adverts – данные с текущими объявлениями;\n",
    "\n",
    "•user_passports – данные с характеристиками пользователей.\n",
    "\n",
    "Результирующую таблицу в формате Parquet необходимо положить в директории '/student/'."
   ]
  },
  {
   "cell_type": "code",
   "execution_count": 1,
   "id": "8ef2b11d-b3c0-447d-8dfc-5ffa37651ecc",
   "metadata": {},
   "outputs": [
    {
     "name": "stderr",
     "output_type": "stream",
     "text": [
      "Warning: Ignoring non-Spark config property: fs.s3a.endpoint\n"
     ]
    },
    {
     "name": "stdout",
     "output_type": "stream",
     "text": [
      "24/01/02 09:25:23 WARN NativeCodeLoader: Unable to load native-hadoop library for your platform... using builtin-java classes where applicable\n"
     ]
    },
    {
     "name": "stderr",
     "output_type": "stream",
     "text": [
      "Setting default log level to \"WARN\".\n",
      "To adjust logging level use sc.setLogLevel(newLevel). For SparkR, use setLogLevel(newLevel).\n"
     ]
    }
   ],
   "source": [
    "#Spark connection with S3 options\n",
    "import os\n",
    "import socket\n",
    "from pyspark.sql import SparkSession\n",
    "import secret\n",
    "\n",
    "# Указываем credentials и параметры для работы с S3\n",
    "aws_access_key = secret.aws_access_key\n",
    "aws_secret_key = secret.aws_secret_key\n",
    "s3_bucket = secret.s3_bucket\n",
    "s3_endpoint_url = secret.s3_endpoint_url\n",
    "\n",
    "#В переменную student_directory необходимо подставить свой username в karpov.courses\n",
    "student_directory = '/student/'\n",
    " \n",
    "APACHE_MASTER_IP = socket.gethostbyname(\"apache-spark-master-0.apache-spark-headless.apache-spark.svc.cluster.local\")\n",
    "APACHE_MASTER_URL = f\"spark://{APACHE_MASTER_IP}:7077\"\n",
    "POD_IP = os.getenv(\"MY_POD_IP\")\n",
    "SPARK_APP_NAME = f\"spark-{os.environ['HOSTNAME']}\"\n",
    "\n",
    "JARS = secret.JARS\n",
    "\n",
    "MEM = \"512m\"\n",
    "CORES = 1\n",
    " \n",
    "spark = SparkSession.\\\n",
    "        builder.\\\n",
    "        appName(SPARK_APP_NAME).\\\n",
    "        master(APACHE_MASTER_URL).\\\n",
    "        config(\"spark.executor.memory\", MEM).\\\n",
    "        config(\"spark.jars\", JARS).\\\n",
    "        config(\"spark.executor.cores\", CORES).\\\n",
    "        config(\"spark.driver.host\", POD_IP).\\\n",
    "        config(\"spark.hadoop.fs.s3a.access.key\", aws_access_key). \\\n",
    "        config(\"spark.hadoop.fs.s3a.secret.key\", aws_secret_key). \\\n",
    "        config(\"fs.s3a.endpoint\", \"https://storage.yandexcloud.net\").  \\\n",
    "        config(\"spark.hadoop.fs.s3a.impl\", \"org.apache.hadoop.fs.s3a.S3AFileSystem\"). \\\n",
    "        config(\"spark.hadoop.fs.s3a.path.style.access\", True). \\\n",
    "        config(\"spark.hadoop.fs.s3a.committer.name\", \"directory\"). \\\n",
    "        config(\"spark.hadoop.fs.s3a.aws.credentials.provider\", \"org.apache.hadoop.fs.s3a.SimpleAWSCredentialsProvider\"). \\\n",
    "        getOrCreate()"
   ]
  },
  {
   "cell_type": "code",
   "execution_count": 13,
   "id": "18be87fa-dff0-475b-99d6-3abba20f3fcd",
   "metadata": {},
   "outputs": [],
   "source": [
    "# Читаем файлы с исходными данными\n",
    "df_adverts_all = spark.read.parquet('s3a://kc-hardda-projects/shared/adverts_data.parquet')\n",
    "df_live_adverts = spark.read.parquet('s3a://kc-hardda-projects/shared/live_adverts.parquet')\n",
    "df_user_passports = spark.read.parquet('s3a://kc-hardda-projects/shared/user_passports.parquet')"
   ]
  },
  {
   "cell_type": "code",
   "execution_count": 14,
   "id": "4eb63b3c-f82e-43aa-90ba-6e1926fe079e",
   "metadata": {},
   "outputs": [
    {
     "name": "stdout",
     "output_type": "stream",
     "text": [
      "root\n",
      " |-- execution_date: timestamp (nullable = true)\n",
      " |-- advert_id: long (nullable = true)\n",
      " |-- mark: string (nullable = true)\n",
      " |-- model: string (nullable = true)\n",
      " |-- price: double (nullable = true)\n",
      " |-- year: double (nullable = true)\n",
      " |-- fuel: string (nullable = true)\n",
      " |-- color: string (nullable = true)\n",
      " |-- transmission: string (nullable = true)\n",
      " |-- body: string (nullable = true)\n",
      " |-- country: string (nullable = true)\n",
      "\n"
     ]
    }
   ],
   "source": [
    "df_adverts_all.printSchema()"
   ]
  },
  {
   "cell_type": "code",
   "execution_count": 15,
   "id": "4843c42c-03dd-4e4e-a20e-4cf9075f5560",
   "metadata": {},
   "outputs": [
    {
     "name": "stderr",
     "output_type": "stream",
     "text": [
      "                                                                                \r"
     ]
    },
    {
     "name": "stdout",
     "output_type": "stream",
     "text": [
      "+-------------------+---------+----+----------+---------+------+------+-------+------------+-----+-------+\n",
      "|     execution_date|advert_id|mark|     model|    price|  year|  fuel|  color|transmission| body|country|\n",
      "+-------------------+---------+----+----------+---------+------+------+-------+------------+-----+-------+\n",
      "|2021-04-13 00:00:00|126746009|null|      null|     null|  null|  null|   null|        null| null|   null|\n",
      "|2021-09-15 00:00:00|129804737|null|      null|     null|  null|  null|   null|        null| null|   null|\n",
      "|2020-11-21 00:00:00|130582517|null|      null|     null|  null|  null|   null|        null| null|   null|\n",
      "|2021-08-29 00:00:00|131290038|null|      null|     null|  null|  null|   null|        null| null|   null|\n",
      "|2021-01-02 00:00:00|131543541|null|      null|     null|  null|  null|   null|        null| null|   null|\n",
      "|2021-09-06 00:00:00|132836073|null|      null|     null|  null|  null|   null|        null| null|   null|\n",
      "|2021-05-31 00:00:00|134709471|null|      null|     null|  null|  null|   null|        null| null|   null|\n",
      "|2021-09-15 00:00:00|136110872|null|      null|1078000.0|2008.0|  null|   null|        null| null|   null|\n",
      "|2021-03-01 00:00:00|136669101|null|      null|      0.0|  null|  null|   null|        null| null|   null|\n",
      "|2021-11-03 00:00:00|137298690|null|      null|     null|  null|  null|   null|        null| null|   null|\n",
      "|2021-07-28 00:00:00|137489975|null|      null|     null|  null|  null|   null|        null| null|   null|\n",
      "|2021-03-20 00:00:00|137571386|null|      null|1640000.0|2011.0|  null|   null|        null| null|   null|\n",
      "|2021-08-15 00:00:00|138018608|null|      null|     null|  null|  null|   null|        null| null|   null|\n",
      "|2021-05-09 00:00:00|138018640|null|      null|     null|  null|  null|   null|        null| null|   null|\n",
      "|2021-05-23 00:00:00|138235535| ГАЗ|21 (Волга)| 900000.0|1964.0|бензин|бежевый|    механика|седан| Россия|\n",
      "|2021-05-10 00:00:00|138272356|null|      null|     null|  null|  null|   null|        null| null|   null|\n",
      "|2020-12-16 00:00:00|139598255|null|      null|     null|  null|  null|   null|        null| null|   null|\n",
      "|2021-05-16 00:00:00|139650270|null|      null|     null|  null|  null|   null|        null| null|   null|\n",
      "|2021-07-15 00:00:00|140053245|null|      null| 239800.0|2022.0|дизель|   null|        null| null|   null|\n",
      "|2021-07-20 00:00:00|140712051|null|      null|      0.0|2022.0|дизель|   null|        null| null|   null|\n",
      "+-------------------+---------+----+----------+---------+------+------+-------+------------+-----+-------+\n",
      "only showing top 20 rows\n",
      "\n"
     ]
    },
    {
     "name": "stderr",
     "output_type": "stream",
     "text": [
      "                                                                                \r"
     ]
    },
    {
     "data": {
      "text/plain": [
       "79906"
      ]
     },
     "execution_count": 15,
     "metadata": {},
     "output_type": "execute_result"
    }
   ],
   "source": [
    "df_adverts_all.dropDuplicates(['advert_id']).show()\n",
    "df_adverts_all.dropDuplicates(['advert_id']).count()"
   ]
  },
  {
   "cell_type": "code",
   "execution_count": 16,
   "id": "553c7c9a-a0c7-455d-821c-a20c976f71e0",
   "metadata": {},
   "outputs": [
    {
     "name": "stderr",
     "output_type": "stream",
     "text": [
      "                                                                                \r"
     ]
    },
    {
     "name": "stdout",
     "output_type": "stream",
     "text": [
      "+-------------------+---------+----+-----------+---------+------+------+------+------------+-----+-----------+\n",
      "|     execution_date|advert_id|mark|      model|    price|  year|  fuel| color|transmission| body|    country|\n",
      "+-------------------+---------+----+-----------+---------+------+------+------+------------+-----+-----------+\n",
      "|2021-01-22 00:00:00|236576609|null|       null|     null|  null|  null|  null|        null| null|       null|\n",
      "|2021-01-22 00:00:00|229759299|null|       null|   3000.0|  null|  null|  null|        null| null|       null|\n",
      "|2021-02-19 00:00:00|228585004|null|       null| 240000.0|2011.0|  null|  null|        null| null|       null|\n",
      "|2021-02-19 00:00:00|246519623|null|       null|   4500.0|  null|  null|  null|        null| null|       null|\n",
      "|2021-06-30 00:00:00|236643061|null|       null|   7000.0|  null|  null|  null|        null| null|       null|\n",
      "|2021-09-03 00:00:00|265857526| ГАЗ|ГАЗель NEXT|2593800.0|2021.0|бензин|  null|    механика|пикап|     Россия|\n",
      "|2021-09-03 00:00:00|230856707|null|       null| 400000.0|  null|  null|  null|        null| null|       null|\n",
      "|2021-09-03 00:00:00|249756536|null|       null|   4540.0|  null|  null|  null|        null| null|       null|\n",
      "|2021-04-15 00:00:00|258444230|null|       null|  40000.0|  null|  null|  null|        null| null|       null|\n",
      "|2021-04-15 00:00:00|257090682|null|       null|   2000.0|  null|  null|  null|        null| null|       null|\n",
      "|2021-04-15 00:00:00|241018582|null|       null|  10000.0|  null|  null|  null|        null| null|       null|\n",
      "|2021-09-08 00:00:00|262624023| Kia|         K7|3400000.0|2020.0|бензин|черный|     автомат|седан|Южная Корея|\n",
      "|2021-09-08 00:00:00|257091903|null|       null|   4000.0|  null|  null|  null|        null| null|       null|\n",
      "|2021-07-25 00:00:00|211233754|null|       null|      0.0|  null|  null|  null|        null| null|       null|\n",
      "|2021-07-25 00:00:00|235585808|null|       null|  18000.0|  null|  null|  null|        null| null|       null|\n",
      "|2021-07-25 00:00:00|236793523|null|       null|   5000.0|  null|  null|  null|        null| null|       null|\n",
      "|2021-01-03 00:00:00|251470815|null|       null|4898000.0|2021.0|дизель|  null|        null| null|       null|\n",
      "|2021-04-12 00:00:00|255515258|null|       null|  15000.0|  null|  null|  null|        null| null|       null|\n",
      "|2021-04-12 00:00:00|257560780|null|       null|     null|  null|  null|  null|        null| null|       null|\n",
      "|2021-08-30 00:00:00|162604527|null|       null|   2000.0|  null|  null|  null|        null| null|       null|\n",
      "+-------------------+---------+----+-----------+---------+------+------+------+------------+-----+-----------+\n",
      "only showing top 20 rows\n",
      "\n"
     ]
    },
    {
     "name": "stderr",
     "output_type": "stream",
     "text": [
      "                                                                                \r"
     ]
    },
    {
     "data": {
      "text/plain": [
       "2778976"
      ]
     },
     "execution_count": 16,
     "metadata": {},
     "output_type": "execute_result"
    }
   ],
   "source": [
    "#Убираем строки, где все значения null\n",
    "df_adverts_all.na.drop('all').show()\n",
    "df_adverts_all.na.drop('all').count()"
   ]
  },
  {
   "cell_type": "code",
   "execution_count": 18,
   "id": "74f08d81-7585-475b-9419-7dc464982d83",
   "metadata": {},
   "outputs": [
    {
     "name": "stderr",
     "output_type": "stream",
     "text": [
      "[Stage 32:>                                                         (0 + 1) / 1]\r"
     ]
    },
    {
     "name": "stdout",
     "output_type": "stream",
     "text": [
      "+-------------------+---------+----+-----------+---------+------+------+------+------------+-----+-----------+\n",
      "|     execution_date|advert_id|mark|      model|    price|  year|  fuel| color|transmission| body|    country|\n",
      "+-------------------+---------+----+-----------+---------+------+------+------+------------+-----+-----------+\n",
      "|2021-01-22 00:00:00|236576609|null|       null|     null|  null|  null|  null|        null| null|       null|\n",
      "|2021-01-22 00:00:00|229759299|null|       null|   3000.0|  null|  null|  null|        null| null|       null|\n",
      "|2021-02-19 00:00:00|228585004|null|       null| 240000.0|2011.0|  null|  null|        null| null|       null|\n",
      "|2021-02-19 00:00:00|246519623|null|       null|   4500.0|  null|  null|  null|        null| null|       null|\n",
      "|2021-06-30 00:00:00|236643061|null|       null|   7000.0|  null|  null|  null|        null| null|       null|\n",
      "|2021-09-03 00:00:00|265857526| ГАЗ|ГАЗель NEXT|2593800.0|2021.0|бензин|  null|    механика|пикап|     Россия|\n",
      "|2021-09-03 00:00:00|230856707|null|       null| 400000.0|  null|  null|  null|        null| null|       null|\n",
      "|2021-09-03 00:00:00|249756536|null|       null|   4540.0|  null|  null|  null|        null| null|       null|\n",
      "|2021-04-15 00:00:00|258444230|null|       null|  40000.0|  null|  null|  null|        null| null|       null|\n",
      "|2021-04-15 00:00:00|257090682|null|       null|   2000.0|  null|  null|  null|        null| null|       null|\n",
      "|2021-04-15 00:00:00|241018582|null|       null|  10000.0|  null|  null|  null|        null| null|       null|\n",
      "|2021-09-08 00:00:00|262624023| Kia|         K7|3400000.0|2020.0|бензин|черный|     автомат|седан|Южная Корея|\n",
      "|2021-09-08 00:00:00|257091903|null|       null|   4000.0|  null|  null|  null|        null| null|       null|\n",
      "|2021-07-25 00:00:00|211233754|null|       null|      0.0|  null|  null|  null|        null| null|       null|\n",
      "|2021-07-25 00:00:00|235585808|null|       null|  18000.0|  null|  null|  null|        null| null|       null|\n",
      "|2021-07-25 00:00:00|236793523|null|       null|   5000.0|  null|  null|  null|        null| null|       null|\n",
      "|2021-01-03 00:00:00|251470815|null|       null|4898000.0|2021.0|дизель|  null|        null| null|       null|\n",
      "|2021-04-12 00:00:00|255515258|null|       null|  15000.0|  null|  null|  null|        null| null|       null|\n",
      "|2021-04-12 00:00:00|257560780|null|       null|     null|  null|  null|  null|        null| null|       null|\n",
      "|2021-08-30 00:00:00|162604527|null|       null|   2000.0|  null|  null|  null|        null| null|       null|\n",
      "+-------------------+---------+----+-----------+---------+------+------+------+------------+-----+-----------+\n",
      "only showing top 20 rows\n",
      "\n"
     ]
    },
    {
     "name": "stderr",
     "output_type": "stream",
     "text": [
      "                                                                                \r"
     ]
    }
   ],
   "source": [
    "#Убираем все строки, где null в execution_date и advert_id\n",
    "df_adverts_all.na.drop(how='all', subset=['execution_date', 'advert_id']).show()"
   ]
  },
  {
   "cell_type": "code",
   "execution_count": 19,
   "id": "0d5bff4e-203f-427d-a2d4-e8dac01a0c99",
   "metadata": {},
   "outputs": [
    {
     "name": "stderr",
     "output_type": "stream",
     "text": [
      "                                                                                \r"
     ]
    },
    {
     "name": "stdout",
     "output_type": "stream",
     "text": [
      "+-------------------+---------+-------------+------------------+---------+------+----------+-------+------------+-----------+-----------+\n",
      "|     execution_date|advert_id|         mark|             model|    price|  year|      fuel|  color|transmission|       body|    country|\n",
      "+-------------------+---------+-------------+------------------+---------+------+----------+-------+------------+-----------+-----------+\n",
      "|2021-09-03 00:00:00|265857526|          ГАЗ|       ГАЗель NEXT|2593800.0|2021.0|    бензин|   null|    механика|      пикап|     Россия|\n",
      "|2021-09-08 00:00:00|262624023|          Kia|                K7|3400000.0|2020.0|    бензин| черный|     автомат|      седан|Южная Корея|\n",
      "|2021-01-03 00:00:00|251470815|         null|              null|4898000.0|2021.0|    дизель|   null|        null|       null|       null|\n",
      "|2020-12-04 00:00:00|251095460|         null|              null|5798000.0|2021.0|    дизель|   null|        null|       null|       null|\n",
      "|2020-11-17 00:00:00|252096571|       Toyota|Land Cruiser Prado|2200000.0|2005.0|    дизель|  серый|     автомат|внедорожник|     Япония|\n",
      "|2021-07-01 00:00:00|259989881|         null|              null|      0.0|2008.0|    дизель|   null|        null|       null|       null|\n",
      "|2021-10-23 00:00:00|269449969|   Mitsubishi|              L200|4100000.0|2022.0|    дизель|   null|     автомат|      пикап|     Япония|\n",
      "|2021-06-28 00:00:00|251761193|   Mitsubishi|              L200|1240000.0|2008.0|    дизель|зеленый|    механика|      пикап|     Япония|\n",
      "|2021-06-28 00:00:00|260362766|       Toyota|            Estima| 400000.0|1994.0|    дизель|  серый|     автомат|    минивэн|     Япония|\n",
      "|2021-09-13 00:00:00|246404125|      Renault|            Kaptur|3078000.0|2022.0|    бензин|   null|    вариатор|  кроссовер|    Франция|\n",
      "|2021-09-07 00:00:00|264624638|         null|              null|5200000.0|2008.0|    дизель|   null|        null|       null|       null|\n",
      "|2021-10-01 00:00:00|261810427|        Mazda|                 6|3540000.0|2018.0|    бензин|  белый|     автомат|      седан|     Япония|\n",
      "|2021-10-26 00:00:00|265854832|          ГАЗ|       ГАЗель NEXT|2492800.0|2021.0|газ-бензин|   null|    механика|      пикап|     Россия|\n",
      "|2021-10-26 00:00:00|262272312|Mercedes-Benz|          GL-Класс| 990000.0|2007.0|газ-бензин| черный|     автомат|внедорожник|   Германия|\n",
      "|2021-10-27 00:00:00|258277286|          УАЗ|               469| 920000.0|1984.0|    бензин|  серый|     автомат|внедорожник|     Россия|\n",
      "|2021-10-27 00:00:00|243007918|         null|              null|2598000.0|2021.0|    дизель|   null|        null|       null|       null|\n",
      "|2020-12-11 00:00:00|251470444|         null|              null|4898000.0|2021.0|    дизель|   null|        null|       null|       null|\n",
      "|2021-09-11 00:00:00|264754185|        Haval|            Jolion|3100000.0|2022.0|    бензин|  белый|       робот|  кроссовер|      Китай|\n",
      "|2021-09-11 00:00:00|264076481|        EXEED|                VX|4488000.0|2022.0|    бензин|   null|       робот|внедорожник|      Китай|\n",
      "|2021-08-13 00:00:00|263088410|        Haval|               F7x|3320000.0|2021.0|    бензин|  синий|       робот|  кроссовер|      Китай|\n",
      "+-------------------+---------+-------------+------------------+---------+------+----------+-------+------------+-----------+-----------+\n",
      "only showing top 20 rows\n",
      "\n"
     ]
    },
    {
     "name": "stderr",
     "output_type": "stream",
     "text": [
      "                                                                                \r"
     ]
    },
    {
     "data": {
      "text/plain": [
       "217846"
      ]
     },
     "execution_count": 19,
     "metadata": {},
     "output_type": "execute_result"
    }
   ],
   "source": [
    "#Убираем все строки в которых заполнено меньше пяти колонок\n",
    "df_adverts_all.na.drop(thresh=5).show()\n",
    "df_adverts_all.na.drop(thresh=5).count()"
   ]
  },
  {
   "cell_type": "code",
   "execution_count": 20,
   "id": "b22e848b-0443-4ae4-b3e6-7d2a85e44c8d",
   "metadata": {},
   "outputs": [
    {
     "name": "stdout",
     "output_type": "stream",
     "text": [
      "root\n",
      " |-- execution_date: timestamp (nullable = true)\n",
      " |-- advert_id: long (nullable = true)\n",
      " |-- region: string (nullable = true)\n",
      " |-- user_id: long (nullable = true)\n",
      " |-- platform: string (nullable = true)\n",
      "\n"
     ]
    }
   ],
   "source": [
    "df_live_adverts.printSchema()"
   ]
  },
  {
   "cell_type": "code",
   "execution_count": 22,
   "id": "b84546b3-7e27-4b1a-b9ea-302f8f85e808",
   "metadata": {},
   "outputs": [
    {
     "name": "stderr",
     "output_type": "stream",
     "text": [
      "                                                                                \r"
     ]
    },
    {
     "name": "stdout",
     "output_type": "stream",
     "text": [
      "+-------------------+---------+------+---------+--------+\n",
      "|     execution_date|advert_id|region|  user_id|platform|\n",
      "+-------------------+---------+------+---------+--------+\n",
      "|2021-05-18 00:00:00|126746009|  Омск|123628037| unknown|\n",
      "|2021-08-04 00:00:00|129804737|  Омск|123559152| unknown|\n",
      "|2021-11-02 00:00:00|130582517|  Сочи|123464584| unknown|\n",
      "|2021-05-15 00:00:00|131290038|Казань|123661493| unknown|\n",
      "|2021-01-16 00:00:00|131543541|Казань|123661493| unknown|\n",
      "|2021-09-27 00:00:00|132836073|Казань|123858606| desktop|\n",
      "|2021-03-22 00:00:00|134709471|  Омск|123482031| desktop|\n",
      "|2021-09-15 00:00:00|136110872|   Уфа|124065985| desktop|\n",
      "|2021-04-19 00:00:00|136669101|  Омск|124211439| desktop|\n",
      "|2021-03-17 00:00:00|137298690|  Сочи|123924920| desktop|\n",
      "|2021-04-03 00:00:00|137489975|  Омск|124604878| desktop|\n",
      "|2021-08-30 00:00:00|137571386|   Уфа|123462866| desktop|\n",
      "|2021-08-05 00:00:00|138018608|  Сочи|123924920| desktop|\n",
      "|2021-08-21 00:00:00|138018640|  Сочи|123924920| desktop|\n",
      "|2021-05-08 00:00:00|138235535|Казань|123622833| desktop|\n",
      "|2021-04-05 00:00:00|138272356|  Омск|124168452| desktop|\n",
      "|2021-11-02 00:00:00|139598255|Казань|124207695| desktop|\n",
      "|2020-11-30 00:00:00|139650270|   Уфа|124436749| desktop|\n",
      "|2021-03-21 00:00:00|140053245| Пермь|123605000| desktop|\n",
      "|2020-12-19 00:00:00|140712051|  Сочи|123927406| desktop|\n",
      "+-------------------+---------+------+---------+--------+\n",
      "only showing top 20 rows\n",
      "\n"
     ]
    },
    {
     "name": "stderr",
     "output_type": "stream",
     "text": [
      "[Stage 58:=============================>                            (1 + 1) / 2]\r"
     ]
    },
    {
     "name": "stdout",
     "output_type": "stream",
     "text": [
      "79806\n"
     ]
    },
    {
     "name": "stderr",
     "output_type": "stream",
     "text": [
      "                                                                                \r"
     ]
    },
    {
     "name": "stdout",
     "output_type": "stream",
     "text": [
      "+-------------------+---------+------+---------+--------+\n",
      "|     execution_date|advert_id|region|  user_id|platform|\n",
      "+-------------------+---------+------+---------+--------+\n",
      "|2021-06-26 00:00:00|145314141|   Уфа|124243239| unknown|\n",
      "|2021-04-03 00:00:00|145314141|   Уфа|124243239| unknown|\n",
      "|2021-09-20 00:00:00|137514150|  Омск|124207514| unknown|\n",
      "|2021-02-17 00:00:00|129804737|  Омск|123559152| unknown|\n",
      "|2021-06-26 00:00:00|137514150|  Омск|124207514| unknown|\n",
      "|2020-12-05 00:00:00|137514150|  Омск|124207514| unknown|\n",
      "|2021-05-18 00:00:00|126746009|  Омск|123628037| unknown|\n",
      "|2021-08-23 00:00:00|137514150|  Омск|124207514| unknown|\n",
      "|2021-05-16 00:00:00|127593536|  Омск|123628037| unknown|\n",
      "|2021-04-30 00:00:00|131000137|  Омск|123628037| unknown|\n",
      "|2021-01-22 00:00:00|131000137|  Омск|123628037| unknown|\n",
      "|2021-09-07 00:00:00|126746009|  Омск|123628037| unknown|\n",
      "|2020-12-05 00:00:00|130582517|  Сочи|123464584| unknown|\n",
      "|2021-04-06 00:00:00|130582517|  Сочи|123464584| unknown|\n",
      "|2021-04-05 00:00:00|151579689|  Сочи|124045733| unknown|\n",
      "|2021-03-30 00:00:00|150120290| Пермь|124510081| unknown|\n",
      "|2021-10-17 00:00:00|131647492| Пермь|123750125| unknown|\n",
      "|2020-12-14 00:00:00|130584228|Казань|123607838| unknown|\n",
      "|2021-05-22 00:00:00|131290038|Казань|123661493| unknown|\n",
      "|2021-04-10 00:00:00|131290038|Казань|123661493| unknown|\n",
      "+-------------------+---------+------+---------+--------+\n",
      "only showing top 20 rows\n",
      "\n"
     ]
    },
    {
     "name": "stderr",
     "output_type": "stream",
     "text": [
      "                                                                                \r"
     ]
    },
    {
     "name": "stdout",
     "output_type": "stream",
     "text": [
      "2771661\n"
     ]
    },
    {
     "name": "stderr",
     "output_type": "stream",
     "text": [
      "                                                                                \r"
     ]
    },
    {
     "name": "stdout",
     "output_type": "stream",
     "text": [
      "+-------------------+---------+------+---------+--------+\n",
      "|     execution_date|advert_id|region|  user_id|platform|\n",
      "+-------------------+---------+------+---------+--------+\n",
      "|2021-06-26 00:00:00|145314141|   Уфа|124243239| unknown|\n",
      "|2021-04-03 00:00:00|145314141|   Уфа|124243239| unknown|\n",
      "|2021-09-20 00:00:00|137514150|  Омск|124207514| unknown|\n",
      "|2021-02-17 00:00:00|129804737|  Омск|123559152| unknown|\n",
      "|2021-06-26 00:00:00|137514150|  Омск|124207514| unknown|\n",
      "|2020-12-05 00:00:00|137514150|  Омск|124207514| unknown|\n",
      "|2021-05-18 00:00:00|126746009|  Омск|123628037| unknown|\n",
      "|2021-08-23 00:00:00|137514150|  Омск|124207514| unknown|\n",
      "|2021-05-16 00:00:00|127593536|  Омск|123628037| unknown|\n",
      "|2021-04-30 00:00:00|131000137|  Омск|123628037| unknown|\n",
      "|2021-01-22 00:00:00|131000137|  Омск|123628037| unknown|\n",
      "|2021-09-07 00:00:00|126746009|  Омск|123628037| unknown|\n",
      "|2020-12-05 00:00:00|130582517|  Сочи|123464584| unknown|\n",
      "|2021-04-06 00:00:00|130582517|  Сочи|123464584| unknown|\n",
      "|2021-04-05 00:00:00|151579689|  Сочи|124045733| unknown|\n",
      "|2021-03-30 00:00:00|150120290| Пермь|124510081| unknown|\n",
      "|2021-10-17 00:00:00|131647492| Пермь|123750125| unknown|\n",
      "|2020-12-14 00:00:00|130584228|Казань|123607838| unknown|\n",
      "|2021-05-22 00:00:00|131290038|Казань|123661493| unknown|\n",
      "|2021-04-10 00:00:00|131290038|Казань|123661493| unknown|\n",
      "+-------------------+---------+------+---------+--------+\n",
      "only showing top 20 rows\n",
      "\n"
     ]
    },
    {
     "name": "stderr",
     "output_type": "stream",
     "text": [
      "                                                                                \r"
     ]
    },
    {
     "name": "stdout",
     "output_type": "stream",
     "text": [
      "+-------------------+---------+------+---------+--------+\n",
      "|     execution_date|advert_id|region|  user_id|platform|\n",
      "+-------------------+---------+------+---------+--------+\n",
      "|2021-06-26 00:00:00|145314141|   Уфа|124243239| unknown|\n",
      "|2021-04-03 00:00:00|145314141|   Уфа|124243239| unknown|\n",
      "|2021-09-20 00:00:00|137514150|  Омск|124207514| unknown|\n",
      "|2021-02-17 00:00:00|129804737|  Омск|123559152| unknown|\n",
      "|2021-06-26 00:00:00|137514150|  Омск|124207514| unknown|\n",
      "|2020-12-05 00:00:00|137514150|  Омск|124207514| unknown|\n",
      "|2021-05-18 00:00:00|126746009|  Омск|123628037| unknown|\n",
      "|2021-08-23 00:00:00|137514150|  Омск|124207514| unknown|\n",
      "|2021-05-16 00:00:00|127593536|  Омск|123628037| unknown|\n",
      "|2021-04-30 00:00:00|131000137|  Омск|123628037| unknown|\n",
      "|2021-01-22 00:00:00|131000137|  Омск|123628037| unknown|\n",
      "|2021-09-07 00:00:00|126746009|  Омск|123628037| unknown|\n",
      "|2020-12-05 00:00:00|130582517|  Сочи|123464584| unknown|\n",
      "|2021-04-06 00:00:00|130582517|  Сочи|123464584| unknown|\n",
      "|2021-04-05 00:00:00|151579689|  Сочи|124045733| unknown|\n",
      "|2021-03-30 00:00:00|150120290| Пермь|124510081| unknown|\n",
      "|2021-10-17 00:00:00|131647492| Пермь|123750125| unknown|\n",
      "|2020-12-14 00:00:00|130584228|Казань|123607838| unknown|\n",
      "|2021-05-22 00:00:00|131290038|Казань|123661493| unknown|\n",
      "|2021-04-10 00:00:00|131290038|Казань|123661493| unknown|\n",
      "+-------------------+---------+------+---------+--------+\n",
      "only showing top 20 rows\n",
      "\n"
     ]
    },
    {
     "name": "stderr",
     "output_type": "stream",
     "text": [
      "[Stage 70:=============================>                            (1 + 1) / 2]\r"
     ]
    },
    {
     "name": "stdout",
     "output_type": "stream",
     "text": [
      "2771661\n"
     ]
    },
    {
     "name": "stderr",
     "output_type": "stream",
     "text": [
      "                                                                                \r"
     ]
    }
   ],
   "source": [
    "df_live_adverts.dropDuplicates(['advert_id']).show()\n",
    "print(df_live_adverts.dropDuplicates(['advert_id']).count())\n",
    "\n",
    "#Убираем строки, где все значения null\n",
    "df_live_adverts.na.drop('all').show()\n",
    "print(df_live_adverts.na.drop('all').count())\n",
    "\n",
    "#Убираем все строки, где null в execution_date и advert_id\n",
    "df_live_adverts.na.drop(how='all', subset=['execution_date', 'advert_id']).show()\n",
    "\n",
    "#Убираем все строки в которых заполнено меньше трёх колонок\n",
    "df_live_adverts.na.drop(thresh=3).show()\n",
    "print(df_live_adverts.na.drop(thresh=3).count())"
   ]
  },
  {
   "cell_type": "code",
   "execution_count": 23,
   "id": "d060967d-d4cc-4c2e-9a95-7904dcffc9f3",
   "metadata": {},
   "outputs": [
    {
     "name": "stdout",
     "output_type": "stream",
     "text": [
      "root\n",
      " |-- global_id: long (nullable = true)\n",
      " |-- user_type_name: string (nullable = true)\n",
      "\n"
     ]
    }
   ],
   "source": [
    "df_user_passports.printSchema()"
   ]
  },
  {
   "cell_type": "code",
   "execution_count": 25,
   "id": "792b19fa-d5df-4f53-84ca-2d2b8122ebbb",
   "metadata": {},
   "outputs": [
    {
     "name": "stderr",
     "output_type": "stream",
     "text": [
      "                                                                                \r"
     ]
    },
    {
     "name": "stdout",
     "output_type": "stream",
     "text": [
      "+---------+--------------+\n",
      "|global_id|user_type_name|\n",
      "+---------+--------------+\n",
      "|123456782|   simple_user|\n",
      "|123456794|         profi|\n",
      "|123456796|   simple_user|\n",
      "|123456800|   simple_user|\n",
      "|123456801|   simple_user|\n",
      "|123456813|   simple_user|\n",
      "|123456816|   simple_user|\n",
      "|123456826|   simple_user|\n",
      "|123456831|   simple_user|\n",
      "|123456855|   simple_user|\n",
      "|123456858|   simple_user|\n",
      "|123456860|   simple_user|\n",
      "|123456863|   simple_user|\n",
      "|123456865|   simple_user|\n",
      "|123456870|   simple_user|\n",
      "|123456874|   simple_user|\n",
      "|123456879|   simple_user|\n",
      "|123456884|   simple_user|\n",
      "|123456891|   simple_user|\n",
      "|123456896|   simple_user|\n",
      "+---------+--------------+\n",
      "only showing top 20 rows\n",
      "\n",
      "+---------+--------------+\n",
      "|global_id|user_type_name|\n",
      "+---------+--------------+\n",
      "|144746200|   simple_user|\n",
      "|144758536|   simple_user|\n",
      "|144974229|   simple_user|\n",
      "|144992935|   simple_user|\n",
      "|137375204|   simple_user|\n",
      "|148358754|   simple_user|\n",
      "|148410169|   simple_user|\n",
      "|148543885|   simple_user|\n",
      "|148683888|   simple_user|\n",
      "|148766817|   simple_user|\n",
      "|148774965|   simple_user|\n",
      "|148875656|   simple_user|\n",
      "|151500605|   simple_user|\n",
      "|151983686|   simple_user|\n",
      "|151998700|   simple_user|\n",
      "|146549965|   simple_user|\n",
      "|146580235|   simple_user|\n",
      "|146812063|   simple_user|\n",
      "|144183527|   simple_user|\n",
      "|146872986|   simple_user|\n",
      "+---------+--------------+\n",
      "only showing top 20 rows\n",
      "\n",
      "+---------+--------------+\n",
      "|global_id|user_type_name|\n",
      "+---------+--------------+\n",
      "|144746200|   simple_user|\n",
      "|144758536|   simple_user|\n",
      "|144974229|   simple_user|\n",
      "|144992935|   simple_user|\n",
      "|137375204|   simple_user|\n",
      "|148358754|   simple_user|\n",
      "|148410169|   simple_user|\n",
      "|148543885|   simple_user|\n",
      "|148683888|   simple_user|\n",
      "|148766817|   simple_user|\n",
      "|148774965|   simple_user|\n",
      "|148875656|   simple_user|\n",
      "|151500605|   simple_user|\n",
      "|151983686|   simple_user|\n",
      "|151998700|   simple_user|\n",
      "|146549965|   simple_user|\n",
      "|146580235|   simple_user|\n",
      "|146812063|   simple_user|\n",
      "|144183527|   simple_user|\n",
      "|146872986|   simple_user|\n",
      "+---------+--------------+\n",
      "only showing top 20 rows\n",
      "\n"
     ]
    },
    {
     "name": "stderr",
     "output_type": "stream",
     "text": [
      "                                                                                \r"
     ]
    }
   ],
   "source": [
    "df_user_passports.dropDuplicates(['global_id']).show()\n",
    "\n",
    "#Убираем строки, где все значения null\n",
    "df_user_passports.na.drop('all').show()\n",
    "\n",
    "#Убираем все строки, где null в global_id\n",
    "df_user_passports.na.drop(how='all', subset=['global_id']).show()"
   ]
  },
  {
   "cell_type": "code",
   "execution_count": 26,
   "id": "3f477282-3fa1-410d-a8ab-983a55e9c077",
   "metadata": {},
   "outputs": [],
   "source": [
    "# Джойним DF\n",
    "df_flat = df_live_adverts.join(df_adverts_all, on=['execution_date', 'advert_id'], how='left') \\\n",
    "                   .join(df_user_passports, df_live_adverts['user_id'] == df_user_passports['global_id'], how='left')"
   ]
  },
  {
   "cell_type": "code",
   "execution_count": 27,
   "id": "9f4b3d2b-1f8a-4362-b9a2-36c01da20194",
   "metadata": {},
   "outputs": [
    {
     "name": "stderr",
     "output_type": "stream",
     "text": [
      "                                                                                \r"
     ]
    }
   ],
   "source": [
    "df_flat.coalesce(1).write.format(\"parquet\").save(\"s3a://kc-hardda-projects/ju-kolesnikova/flat_table\", mode='overwrite')"
   ]
  },
  {
   "cell_type": "code",
   "execution_count": null,
   "id": "a5cfca31-d3fb-445b-8e7a-e31bc1e8eee2",
   "metadata": {},
   "outputs": [
    {
     "name": "stderr",
     "output_type": "stream",
     "text": [
      "/opt/conda/lib/python3.8/site-packages/pyspark/sql/pandas/conversion.py:248: FutureWarning: Passing unit-less datetime64 dtype to .astype is deprecated and will raise in a future version. Pass 'datetime64[ns]' instead\n",
      "  series = series.astype(t, copy=False)\n"
     ]
    }
   ],
   "source": [
    "#import pandas as pd\n",
    "pandas_df = df_flat.coalesce(1).toPandas()\n",
    "pandas_df.to_parquet('flat_table.parquet')"
   ]
  },
  {
   "cell_type": "code",
   "execution_count": null,
   "id": "f23d9d39-e922-4fe0-b0b6-9075646a27f8",
   "metadata": {},
   "outputs": [],
   "source": [
    "spark.stop()"
   ]
  }
 ],
 "metadata": {
  "kernelspec": {
   "display_name": "Python 3 (ipykernel)",
   "language": "python",
   "name": "python3"
  },
  "language_info": {
   "codemirror_mode": {
    "name": "ipython",
    "version": 3
   },
   "file_extension": ".py",
   "mimetype": "text/x-python",
   "name": "python",
   "nbconvert_exporter": "python",
   "pygments_lexer": "ipython3",
   "version": "3.9.13"
  }
 },
 "nbformat": 4,
 "nbformat_minor": 5
}
