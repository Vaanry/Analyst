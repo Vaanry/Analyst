{
 "cells": [
  {
   "cell_type": "markdown",
   "metadata": {},
   "source": [
    "#### Задание 2\n",
    "Имеются результаты A/B теста, в котором двум группам пользователей предлагались различные наборы акционных предложений. Известно, что ARPU в тестовой группе выше на 5%, чем в контрольной. При этом в контрольной группе 1928 игроков из 202103 оказались платящими, а в тестовой – 1805 из 202667.\n",
    "\n",
    "Какой набор предложений можно считать лучшим? Какие метрики стоит проанализировать для принятия правильного решения и как?"
   ]
  },
  {
   "cell_type": "code",
   "execution_count": 1,
   "metadata": {},
   "outputs": [],
   "source": [
    "import pandas as pd\n",
    "import requests\n",
    "from urllib.parse import urlencode\n",
    "import seaborn as sns\n",
    "import matplotlib.pyplot as plt\n",
    "from tqdm.auto import tqdm\n",
    "import numpy as np\n",
    "from scipy.stats import chi2_contingency\n",
    "import pingouin as pg\n",
    "from scipy import stats\n",
    "from scipy.stats import norm\n",
    "import warnings\n",
    "\n",
    "warnings.filterwarnings('ignore')\n",
    "\n",
    "plt.style.use('ggplot')\n",
    "\n",
    "%matplotlib inline"
   ]
  },
  {
   "cell_type": "code",
   "execution_count": 2,
   "metadata": {},
   "outputs": [
    {
     "data": {
      "text/html": [
       "<div>\n",
       "<style scoped>\n",
       "    .dataframe tbody tr th:only-of-type {\n",
       "        vertical-align: middle;\n",
       "    }\n",
       "\n",
       "    .dataframe tbody tr th {\n",
       "        vertical-align: top;\n",
       "    }\n",
       "\n",
       "    .dataframe thead th {\n",
       "        text-align: right;\n",
       "    }\n",
       "</style>\n",
       "<table border=\"1\" class=\"dataframe\">\n",
       "  <thead>\n",
       "    <tr style=\"text-align: right;\">\n",
       "      <th></th>\n",
       "      <th>user_id</th>\n",
       "      <th>revenue</th>\n",
       "      <th>testgroup</th>\n",
       "    </tr>\n",
       "  </thead>\n",
       "  <tbody>\n",
       "    <tr>\n",
       "      <th>0</th>\n",
       "      <td>1</td>\n",
       "      <td>0</td>\n",
       "      <td>b</td>\n",
       "    </tr>\n",
       "    <tr>\n",
       "      <th>1</th>\n",
       "      <td>2</td>\n",
       "      <td>0</td>\n",
       "      <td>a</td>\n",
       "    </tr>\n",
       "    <tr>\n",
       "      <th>2</th>\n",
       "      <td>3</td>\n",
       "      <td>0</td>\n",
       "      <td>a</td>\n",
       "    </tr>\n",
       "    <tr>\n",
       "      <th>3</th>\n",
       "      <td>4</td>\n",
       "      <td>0</td>\n",
       "      <td>b</td>\n",
       "    </tr>\n",
       "    <tr>\n",
       "      <th>4</th>\n",
       "      <td>5</td>\n",
       "      <td>0</td>\n",
       "      <td>b</td>\n",
       "    </tr>\n",
       "  </tbody>\n",
       "</table>\n",
       "</div>"
      ],
      "text/plain": [
       "   user_id  revenue testgroup\n",
       "0        1        0         b\n",
       "1        2        0         a\n",
       "2        3        0         a\n",
       "3        4        0         b\n",
       "4        5        0         b"
      ]
     },
     "execution_count": 2,
     "metadata": {},
     "output_type": "execute_result"
    }
   ],
   "source": [
    "base_url = 'https://cloud-api.yandex.net/v1/disk/public/resources/download?'\n",
    "public_key = 'https://disk.yandex.ru/d/SOkIsD5A8xlI7Q' \n",
    "\n",
    "\n",
    "final_url = base_url + urlencode(dict(public_key=public_key))\n",
    "response = requests.get(final_url)\n",
    "download_url = response.json()['href']\n",
    "\n",
    "\n",
    "download_response = requests.get(download_url)\n",
    "data = pd.read_csv(download_url, sep=';')\n",
    "data.head()  #получаем данные"
   ]
  },
  {
   "cell_type": "code",
   "execution_count": 3,
   "metadata": {},
   "outputs": [
    {
     "data": {
      "text/plain": [
       "(404770, 3)"
      ]
     },
     "execution_count": 3,
     "metadata": {},
     "output_type": "execute_result"
    }
   ],
   "source": [
    "data.shape"
   ]
  },
  {
   "cell_type": "code",
   "execution_count": 4,
   "metadata": {},
   "outputs": [
    {
     "data": {
      "text/plain": [
       "404770"
      ]
     },
     "execution_count": 4,
     "metadata": {},
     "output_type": "execute_result"
    }
   ],
   "source": [
    "data.user_id.nunique()"
   ]
  },
  {
   "cell_type": "code",
   "execution_count": 5,
   "metadata": {},
   "outputs": [
    {
     "data": {
      "text/plain": [
       "1477"
      ]
     },
     "execution_count": 5,
     "metadata": {},
     "output_type": "execute_result"
    }
   ],
   "source": [
    "data.revenue.nunique()  # такое небольшое кол-во уникальных значений свидетельствует о большом кол-ве повторов."
   ]
  },
  {
   "cell_type": "code",
   "execution_count": 6,
   "metadata": {},
   "outputs": [
    {
     "data": {
      "text/plain": [
       "2"
      ]
     },
     "execution_count": 6,
     "metadata": {},
     "output_type": "execute_result"
    }
   ],
   "source": [
    "data.testgroup.nunique()"
   ]
  },
  {
   "cell_type": "code",
   "execution_count": 7,
   "metadata": {},
   "outputs": [
    {
     "data": {
      "text/plain": [
       "user_id       int64\n",
       "revenue       int64\n",
       "testgroup    object\n",
       "dtype: object"
      ]
     },
     "execution_count": 7,
     "metadata": {},
     "output_type": "execute_result"
    }
   ],
   "source": [
    "data.dtypes"
   ]
  },
  {
   "cell_type": "code",
   "execution_count": 8,
   "metadata": {},
   "outputs": [],
   "source": [
    "data.testgroup = data.testgroup.astype('str')  # конвертируем колонку testgroup в корректный формат"
   ]
  },
  {
   "cell_type": "code",
   "execution_count": 9,
   "metadata": {},
   "outputs": [
    {
     "data": {
      "text/plain": [
       "user_id      0\n",
       "revenue      0\n",
       "testgroup    0\n",
       "dtype: int64"
      ]
     },
     "execution_count": 9,
     "metadata": {},
     "output_type": "execute_result"
    }
   ],
   "source": [
    "data.isnull().sum()  # пропусков нет"
   ]
  },
  {
   "cell_type": "code",
   "execution_count": 10,
   "metadata": {},
   "outputs": [
    {
     "data": {
      "text/plain": [
       "(202103, 3)"
      ]
     },
     "execution_count": 10,
     "metadata": {},
     "output_type": "execute_result"
    }
   ],
   "source": [
    "data.query('testgroup == \"a\"').shape"
   ]
  },
  {
   "cell_type": "code",
   "execution_count": 11,
   "metadata": {},
   "outputs": [
    {
     "data": {
      "text/plain": [
       "(202667, 3)"
      ]
     },
     "execution_count": 11,
     "metadata": {},
     "output_type": "execute_result"
    }
   ],
   "source": [
    "data.query('testgroup == \"b\"').shape"
   ]
  },
  {
   "cell_type": "markdown",
   "metadata": {},
   "source": [
    "Для начала надо проверить корректность выборок, затем - сравнить их корректным тестом и проверить, есть ли статистическая значимость у этих 5%.\n",
    "1. Нулевая гипотеза: Оба набора предложений имеют одинаковые значения показателя платежной активности пользователей.\n",
    "\n",
    "2. Альтернативная гипотеза: Наборы имеют разные значения показателя платежной активности пользователей. Между наборами есть статистически значимая разница."
   ]
  },
  {
   "cell_type": "code",
   "execution_count": 12,
   "metadata": {},
   "outputs": [
    {
     "data": {
      "text/html": [
       "<div>\n",
       "<style scoped>\n",
       "    .dataframe tbody tr th:only-of-type {\n",
       "        vertical-align: middle;\n",
       "    }\n",
       "\n",
       "    .dataframe tbody tr th {\n",
       "        vertical-align: top;\n",
       "    }\n",
       "\n",
       "    .dataframe thead th {\n",
       "        text-align: right;\n",
       "    }\n",
       "</style>\n",
       "<table border=\"1\" class=\"dataframe\">\n",
       "  <thead>\n",
       "    <tr style=\"text-align: right;\">\n",
       "      <th></th>\n",
       "      <th>user_id</th>\n",
       "      <th>revenue</th>\n",
       "    </tr>\n",
       "  </thead>\n",
       "  <tbody>\n",
       "    <tr>\n",
       "      <th>0</th>\n",
       "      <td>1</td>\n",
       "      <td>1</td>\n",
       "    </tr>\n",
       "    <tr>\n",
       "      <th>269854</th>\n",
       "      <td>269855</td>\n",
       "      <td>1</td>\n",
       "    </tr>\n",
       "    <tr>\n",
       "      <th>269852</th>\n",
       "      <td>269853</td>\n",
       "      <td>1</td>\n",
       "    </tr>\n",
       "    <tr>\n",
       "      <th>269851</th>\n",
       "      <td>269852</td>\n",
       "      <td>1</td>\n",
       "    </tr>\n",
       "    <tr>\n",
       "      <th>269850</th>\n",
       "      <td>269851</td>\n",
       "      <td>1</td>\n",
       "    </tr>\n",
       "  </tbody>\n",
       "</table>\n",
       "</div>"
      ],
      "text/plain": [
       "        user_id  revenue\n",
       "0             1        1\n",
       "269854   269855        1\n",
       "269852   269853        1\n",
       "269851   269852        1\n",
       "269850   269851        1"
      ]
     },
     "execution_count": 12,
     "metadata": {},
     "output_type": "execute_result"
    }
   ],
   "source": [
    "data.groupby('user_id', as_index=False).agg({'revenue': 'count'}).sort_values('revenue', ascending=False).head()\n",
    "# для начала проверим, есть ли в данных дубликаты, т.е. юзеры, попавшие в обе группы. Таковых нет"
   ]
  },
  {
   "cell_type": "code",
   "execution_count": 13,
   "metadata": {},
   "outputs": [
    {
     "data": {
      "text/html": [
       "<div>\n",
       "<style scoped>\n",
       "    .dataframe tbody tr th:only-of-type {\n",
       "        vertical-align: middle;\n",
       "    }\n",
       "\n",
       "    .dataframe tbody tr th {\n",
       "        vertical-align: top;\n",
       "    }\n",
       "\n",
       "    .dataframe thead th {\n",
       "        text-align: right;\n",
       "    }\n",
       "</style>\n",
       "<table border=\"1\" class=\"dataframe\">\n",
       "  <thead>\n",
       "    <tr style=\"text-align: right;\">\n",
       "      <th></th>\n",
       "      <th>user_id</th>\n",
       "    </tr>\n",
       "    <tr>\n",
       "      <th>testgroup</th>\n",
       "      <th></th>\n",
       "    </tr>\n",
       "  </thead>\n",
       "  <tbody>\n",
       "    <tr>\n",
       "      <th>a</th>\n",
       "      <td>202103</td>\n",
       "    </tr>\n",
       "    <tr>\n",
       "      <th>b</th>\n",
       "      <td>202667</td>\n",
       "    </tr>\n",
       "  </tbody>\n",
       "</table>\n",
       "</div>"
      ],
      "text/plain": [
       "           user_id\n",
       "testgroup         \n",
       "a           202103\n",
       "b           202667"
      ]
     },
     "execution_count": 13,
     "metadata": {},
     "output_type": "execute_result"
    }
   ],
   "source": [
    "data.groupby('testgroup').agg({'user_id': 'count'})  # Выборки примерно равны"
   ]
  },
  {
   "cell_type": "markdown",
   "metadata": {},
   "source": [
    "С помощью критерия Хи-квадрат проверим, значимы ли различия между группами в количестве платящих пользователей.\n",
    "Н0 - различий нет, Н1 - различия есть."
   ]
  },
  {
   "cell_type": "code",
   "execution_count": 14,
   "metadata": {},
   "outputs": [],
   "source": [
    "a_pay = data.query('testgroup==\"a\" & revenue>0').shape[0]\n",
    "a_all = data.query('testgroup==\"a\"').shape[0]\n",
    "b_pay = data.query('testgroup==\"b\" & revenue>0').shape[0]\n",
    "b_all = data.query('testgroup==\"b\"').shape[0]"
   ]
  },
  {
   "cell_type": "code",
   "execution_count": 15,
   "metadata": {},
   "outputs": [
    {
     "name": "stdout",
     "output_type": "stream",
     "text": [
      "chisq-statistic=4.29, p-value=0.04\n",
      "В контрольной группе платящих пользователей 0.95%.\n",
      "В тестовой группе платящих пользователей 0.89%.\n"
     ]
    }
   ],
   "source": [
    "payment_data = np.array([[a_pay, a_all], [b_pay, b_all]])\n",
    "pay = chi2_contingency(payment_data)\n",
    "pay_a = a_pay / a_all * 100\n",
    "pay_b = b_pay / b_all * 100\n",
    "print(f'chisq-statistic={round(pay[0], 2)}, p-value={round(pay[1], 2)}')\n",
    "print(f'В контрольной группе платящих пользователей {round(pay_a, 2)}%.')\n",
    "print(f'В тестовой группе платящих пользователей {round(pay_b, 2)}%.')"
   ]
  },
  {
   "cell_type": "markdown",
   "metadata": {},
   "source": [
    "Поскольку значение p < 0.05, мы отклоняем нулевую гипотезу и делаем вывод, что соотношение платящих/неплатящих пользователей в двух группах различается (в контрольной группе платящих пользователей больше). Это может исказить результаты дальнейших тестов."
   ]
  },
  {
   "cell_type": "markdown",
   "metadata": {},
   "source": [
    "Далее посмотрим на распределение платящих пользователей."
   ]
  },
  {
   "cell_type": "code",
   "execution_count": 16,
   "metadata": {},
   "outputs": [
    {
     "data": {
      "text/plain": [
       "Text(0.5, 0, 'b')"
      ]
     },
     "execution_count": 16,
     "metadata": {},
     "output_type": "execute_result"
    },
    {
     "data": {
      "image/png": "[encoded data removed]",
      "text/plain": [
       "<Figure size 1080x720 with 2 Axes>"
      ]
     },
     "metadata": {
      "needs_background": "light"
     },
     "output_type": "display_data"
    }
   ],
   "source": [
    "plt.rcParams['figure.figsize'] = (15, 10)\n",
    "\n",
    "plt.subplot(1, 2, 1)\n",
    "sns.histplot(data.query('testgroup == \"a\" & revenue > 0').revenue, bins=50, kde=False)\n",
    "plt.xlabel('a')\n",
    "\n",
    "plt.subplot(1, 2, 2)\n",
    "sns.histplot(data.query('testgroup == \"b\" & revenue > 0').revenue, bins=50, kde=False)\n",
    "plt.xlabel('b')"
   ]
  },
  {
   "cell_type": "markdown",
   "metadata": {},
   "source": [
    "В контрольной группе наблюдается сильно неравномерное распределение данных. У части пользователей очень высокие платёжные показатели. Возможно, это выброс. К этой проблеме мы вернёмся позже, а пока проведём стандартный анализ."
   ]
  },
  {
   "cell_type": "markdown",
   "metadata": {},
   "source": [
    "Для большей уверенности проведём тест на нормальность."
   ]
  },
  {
   "cell_type": "code",
   "execution_count": 17,
   "metadata": {},
   "outputs": [
    {
     "data": {
      "text/html": [
       "<div>\n",
       "<style scoped>\n",
       "    .dataframe tbody tr th:only-of-type {\n",
       "        vertical-align: middle;\n",
       "    }\n",
       "\n",
       "    .dataframe tbody tr th {\n",
       "        vertical-align: top;\n",
       "    }\n",
       "\n",
       "    .dataframe thead th {\n",
       "        text-align: right;\n",
       "    }\n",
       "</style>\n",
       "<table border=\"1\" class=\"dataframe\">\n",
       "  <thead>\n",
       "    <tr style=\"text-align: right;\">\n",
       "      <th></th>\n",
       "      <th>W</th>\n",
       "      <th>pval</th>\n",
       "      <th>normal</th>\n",
       "    </tr>\n",
       "  </thead>\n",
       "  <tbody>\n",
       "    <tr>\n",
       "      <th>b</th>\n",
       "      <td>326622.395409</td>\n",
       "      <td>0.0</td>\n",
       "      <td>False</td>\n",
       "    </tr>\n",
       "    <tr>\n",
       "      <th>a</th>\n",
       "      <td>585152.731273</td>\n",
       "      <td>0.0</td>\n",
       "      <td>False</td>\n",
       "    </tr>\n",
       "  </tbody>\n",
       "</table>\n",
       "</div>"
      ],
      "text/plain": [
       "               W  pval  normal\n",
       "b  326622.395409   0.0   False\n",
       "a  585152.731273   0.0   False"
      ]
     },
     "execution_count": 17,
     "metadata": {},
     "output_type": "execute_result"
    }
   ],
   "source": [
    "pg.normality(data=data, dv=\"revenue\", group=\"testgroup\", method=\"normaltest\") "
   ]
  },
  {
   "cell_type": "markdown",
   "metadata": {},
   "source": [
    "Распределение в обеих выборках отлично от нормального. Согласно классическим учебникам статистики, а также конкретно этому курсу, использование параметрических тестов может привести к ошибочному результату (о чём прямо говориться в одной из лекций). \n",
    "Однако ряд учёных-статистиков считают, что на больших выборках можно пренебречь требованием нормальности. Впрочем, согласны с ними далеко не все, и другие учёные-статистики считают, что классические параметрические тесты и вовсе являются пережитком тех времён, когда у статистиков не было вычислительных мощностей, и приходилось аппроксимировать к понятию нормального распределения, и что в нынешнее время лучше использовать такие методы, как бутстрап и метод перестановки.\n",
    "Поэтому, чтобы не вдаваться в споры о том, какой метод лучше, стоит провести все тесты. НО! Чрезмерное количество тестов может привести к появлению ошибки первого рода, поэтому при многократном тестировании стоит понизить порог альфы. Например, применить поправку Бонферрони."
   ]
  },
  {
   "cell_type": "code",
   "execution_count": 18,
   "metadata": {},
   "outputs": [
    {
     "data": {
      "text/html": [
       "<div>\n",
       "<style scoped>\n",
       "    .dataframe tbody tr th:only-of-type {\n",
       "        vertical-align: middle;\n",
       "    }\n",
       "\n",
       "    .dataframe tbody tr th {\n",
       "        vertical-align: top;\n",
       "    }\n",
       "\n",
       "    .dataframe thead th {\n",
       "        text-align: right;\n",
       "    }\n",
       "</style>\n",
       "<table border=\"1\" class=\"dataframe\">\n",
       "  <thead>\n",
       "    <tr style=\"text-align: right;\">\n",
       "      <th></th>\n",
       "      <th>T</th>\n",
       "      <th>dof</th>\n",
       "      <th>alternative</th>\n",
       "      <th>p-val</th>\n",
       "      <th>CI95%</th>\n",
       "      <th>cohen-d</th>\n",
       "      <th>BF10</th>\n",
       "      <th>power</th>\n",
       "    </tr>\n",
       "  </thead>\n",
       "  <tbody>\n",
       "    <tr>\n",
       "      <th>T-test</th>\n",
       "      <td>-0.623488</td>\n",
       "      <td>240991.130782</td>\n",
       "      <td>two-sided</td>\n",
       "      <td>0.532965</td>\n",
       "      <td>[-5.54, 2.87]</td>\n",
       "      <td>0.001962</td>\n",
       "      <td>0.004</td>\n",
       "      <td>0.095694</td>\n",
       "    </tr>\n",
       "  </tbody>\n",
       "</table>\n",
       "</div>"
      ],
      "text/plain": [
       "               T            dof alternative     p-val          CI95%  \\\n",
       "T-test -0.623488  240991.130782   two-sided  0.532965  [-5.54, 2.87]   \n",
       "\n",
       "         cohen-d   BF10     power  \n",
       "T-test  0.001962  0.004  0.095694  "
      ]
     },
     "execution_count": 18,
     "metadata": {},
     "output_type": "execute_result"
    }
   ],
   "source": [
    "sample1 = data.query('testgroup == \"a\"')\n",
    "sample2 = data.query('testgroup == \"b\"')\n",
    "pg.ttest(sample1.revenue, sample2.revenue)"
   ]
  },
  {
   "cell_type": "markdown",
   "metadata": {},
   "source": [
    "t-test однозначно не позволяет отклонить H0, так что даже не приходится применять поправки. Возможно, виной всему всё-таки выбросы и слишком разная форма распределений в группах. Поскольку сама возможность применения этого теста в данной ситуации спорная, то однозначно полагаться на его результаты нельзя."
   ]
  },
  {
   "cell_type": "markdown",
   "metadata": {},
   "source": [
    "Используем критерий Манна-Уитни, более устойчивый к выбросам, чем параметрические критерии. Но сначала посчитаем количество повторяющихся значений."
   ]
  },
  {
   "cell_type": "code",
   "execution_count": 19,
   "metadata": {},
   "outputs": [
    {
     "data": {
      "text/plain": [
       "0      401037\n",
       "206        18\n",
       "310        18\n",
       "265        17\n",
       "224        17\n",
       "397        17\n",
       "357        16\n",
       "396        15\n",
       "315        15\n",
       "334        15\n",
       "221        15\n",
       "273        14\n",
       "320        14\n",
       "388        14\n",
       "344        14\n",
       "345        14\n",
       "246        13\n",
       "215        13\n",
       "269        13\n",
       "238        13\n",
       "Name: revenue, dtype: int64"
      ]
     },
     "execution_count": 19,
     "metadata": {},
     "output_type": "execute_result"
    }
   ],
   "source": [
    "data.revenue.value_counts()[0:20]"
   ]
  },
  {
   "cell_type": "markdown",
   "metadata": {},
   "source": [
    "К сожалению, в выборке слишком много повторяющихся значений. Результат теста может быть искажён."
   ]
  },
  {
   "cell_type": "code",
   "execution_count": 20,
   "metadata": {},
   "outputs": [
    {
     "name": "stdout",
     "output_type": "stream",
     "text": [
      "Результаты теста не позволяют нам отклонить Н0. p-value: 0.063\n"
     ]
    }
   ],
   "source": [
    "p_value = round(stats.mannwhitneyu(data.query('testgroup == \"a\"').revenue, data.query('testgroup == \"b\"').revenue)[1], 3)\n",
    "if p_value < 0.05:\n",
    "    print(f'Тест выявил различия, отклоняем Н0. p-value: {p_value}')\n",
    "else:\n",
    "    print(f'Результаты теста не позволяют нам отклонить Н0. p-value: {p_value}')"
   ]
  },
  {
   "cell_type": "markdown",
   "metadata": {},
   "source": [
    "Тест Манна-Уитни не позволяет нам отвергнуть нулевую гипотезу о том, что оба набора предложений имеют одинаковые значения показателя платежной активности пользователей. Однако, как сказано выше, результат теста может быть искажён из-за большого кол-ва повторов, и поэтому он не позволяет сделать однозначный вывод."
   ]
  },
  {
   "cell_type": "markdown",
   "metadata": {},
   "source": [
    "Далее рассчитаем ARPU."
   ]
  },
  {
   "cell_type": "code",
   "execution_count": 21,
   "metadata": {},
   "outputs": [
    {
     "name": "stdout",
     "output_type": "stream",
     "text": [
      "ARPU_a = 25.41\n",
      "ARPU_b = 26.75 \n",
      "ARPU_diff = 5.27%\n"
     ]
    }
   ],
   "source": [
    "ARPU_a = data.query('testgroup == \"a\"').revenue.mean().round(2)\n",
    "ARPU_b = data.query('testgroup == \"b\"').revenue.mean().round(2)\n",
    "ARPU_diff = round((ARPU_b - ARPU_a) / ARPU_a * 100, 2)\n",
    "\n",
    "print(f'ARPU_a = {ARPU_a}\\nARPU_b = {ARPU_b} \\nARPU_diff = {ARPU_diff}%')"
   ]
  },
  {
   "cell_type": "markdown",
   "metadata": {},
   "source": [
    "Рассчитаем ARPPU, который учитывает только платящих пользователей."
   ]
  },
  {
   "cell_type": "code",
   "execution_count": 22,
   "metadata": {},
   "outputs": [
    {
     "name": "stdout",
     "output_type": "stream",
     "text": [
      "ARPPU_a = 2664.0\n",
      "ARPPU_b = 3003.66 \n",
      "ARPPU_diff = 12.75%\n"
     ]
    }
   ],
   "source": [
    "ARPPU_a = data.query('testgroup == \"a\" & revenue > 0').revenue.mean().round(2)\n",
    "ARPPU_b = data.query('testgroup == \"b\" & revenue > 0').revenue.mean().round(2)\n",
    "ARPPU_diff = round((ARPPU_b - ARPPU_a) / ARPPU_a * 100, 2)\n",
    "\n",
    "print(f'ARPPU_a = {ARPPU_a}\\nARPPU_b = {ARPPU_b} \\nARPPU_diff = {ARPPU_diff}%')"
   ]
  },
  {
   "cell_type": "markdown",
   "metadata": {},
   "source": [
    "Ситуация с ARPPU сходна с таковой у ARPU, при этом разница ещё выше (почти 13%). Поскольку ARPPU = CR * ARPU, то несложно посчитать конверсию:"
   ]
  },
  {
   "cell_type": "code",
   "execution_count": 23,
   "metadata": {},
   "outputs": [
    {
     "name": "stdout",
     "output_type": "stream",
     "text": [
      "CR_a = 104.84\n",
      "CR_b = 112.29 \n",
      "CR_diff = 7.11%\n"
     ]
    }
   ],
   "source": [
    "CR_a = (ARPPU_a / ARPU_a).round(2)\n",
    "CR_b = (ARPPU_b / ARPU_b).round(2)\n",
    "CR_diff = round((CR_b - CR_a) / CR_a * 100, 2)\n",
    "\n",
    "print(f'CR_a = {CR_a}\\nCR_b = {CR_b} \\nCR_diff = {CR_diff}%')"
   ]
  },
  {
   "cell_type": "markdown",
   "metadata": {},
   "source": [
    "Конверсия в тестовой группе также выше. Можно сделать предварительный осторожный вывод о том, что различия в данных группах всё-таки есть. Поскольку результату Манн-Уитни доверять нельзя, для большей уверенности необходимо провести дополнительные тесты, дабы не совершить ошибку второго рода, не отклонив нулевую гипотезу при верной альтернативной. Проведем бутстрап-анализ, как \"универсальный инструмент\", т.к. он позволяет проводить анализ даже в тех случаях, когда для классических критериев не соблюдены условия. Данный метод рядом учёных-статистиков считается одним из наиболее современных и показательных. Тем не менее, у бутстрапа также есть ограничение, а именно ему нужна репрезентативная выборка. Оценить репрезентативность выборок в условиях данного задания невозможно, однако в том случае, если выборки у нас нерепрезентативные, любые результаты будут поставлены под сомнения."
   ]
  },
  {
   "cell_type": "code",
   "execution_count": 24,
   "metadata": {},
   "outputs": [],
   "source": [
    "group_a = data.query('testgroup == \"a\"').revenue\n",
    "group_b = data.query('testgroup == \"b\"').revenue\n",
    "\n",
    "boot = pd.DataFrame({\n",
    "    \"group_a\": group_a,\n",
    "    \"group_b\": group_b\n",
    "})\n",
    "\n",
    "boot = boot.fillna(0)"
   ]
  },
  {
   "cell_type": "code",
   "execution_count": 25,
   "metadata": {},
   "outputs": [],
   "source": [
    "# Пробуем бутстрап-анализ\n",
    "\n",
    "def get_bootstrap(\n",
    "    data_column_1,  # числовые значения первой выборки\n",
    "    data_column_2,  # числовые значения второй выборки\n",
    "    boot_it=1000,  # количество бутстрэп-подвыборок\n",
    "    statistic=np.median,  # интересующая нас статистика\n",
    "    bootstrap_conf_level=0.95  # уровень значимости\n",
    "):\n",
    "    boot_data = []\n",
    "    for i in tqdm(range(boot_it)):  # извлекаем подвыборки\n",
    "        samples_1 = data_column_1.sample(\n",
    "            len(data_column_1), \n",
    "            replace=True  # параметр возвращения\n",
    "        ).values\n",
    "        \n",
    "        samples_2 = data_column_2.sample(\n",
    "            len(data_column_1), \n",
    "            replace=True\n",
    "        ).values\n",
    "        \n",
    "        boot_data.append(statistic(samples_1) - statistic(samples_2))  # применяем статистику\n",
    "        \n",
    "    pd_boot_data = pd.DataFrame(boot_data)\n",
    "        \n",
    "    left_quant = (1 - bootstrap_conf_level) / 2\n",
    "    right_quant = 1 - (1 - bootstrap_conf_level) / 2\n",
    "    quants = pd_boot_data.quantile([left_quant, right_quant])\n",
    "        \n",
    "    p_1 = norm.cdf(\n",
    "        x=0, \n",
    "        loc=np.mean(boot_data), \n",
    "        scale=np.std(boot_data)\n",
    "    )\n",
    "    p_2 = norm.cdf(\n",
    "        x=0, \n",
    "        loc=-np.mean(boot_data), \n",
    "        scale=np.std(boot_data)\n",
    "    )\n",
    "    p_value = min(p_1, p_2) * 2\n",
    "    \n",
    "        # Визуализация\n",
    "    _, _, bars = plt.hist(pd_boot_data[0], bins=50)\n",
    "    for bar in bars:\n",
    "        if bar.get_x() <= quants.iloc[0][0] or bar.get_x() >= quants.iloc[1][0]:\n",
    "            bar.set_facecolor('red')\n",
    "        else: \n",
    "            bar.set_facecolor('grey')\n",
    "            bar.set_edgecolor('black')\n",
    "    \n",
    "    plt.style.use('ggplot')\n",
    "    plt.vlines(quants, ymin=0, ymax=50, linestyle='--')\n",
    "    plt.xlabel('boot_data')\n",
    "    plt.ylabel('frequency')\n",
    "    plt.title(\"Histogram of boot_data\")\n",
    "    plt.show()\n",
    "       \n",
    "    return {\"boot_data\": boot_data, \n",
    "            \"quants\": quants, \n",
    "            \"p_value\": p_value}"
   ]
  },
  {
   "cell_type": "code",
   "execution_count": 26,
   "metadata": {},
   "outputs": [
    {
     "data": {
      "application/vnd.jupyter.widget-view+json": {
       "model_id": "4b67654713044f65941b536b01f3bef5",
       "version_major": 2,
       "version_minor": 0
      },
      "text/plain": [
       "HBox(children=(FloatProgress(value=0.0, max=1000.0), HTML(value='')))"
      ]
     },
     "metadata": {},
     "output_type": "display_data"
    },
    {
     "name": "stdout",
     "output_type": "stream",
     "text": [
      "\n"
     ]
    },
    {
     "data": {
      "image/png": "[encoded data removed]",
      "text/plain": [
       "<Figure size 1080x720 with 1 Axes>"
      ]
     },
     "metadata": {
      "needs_background": "light"
     },
     "output_type": "display_data"
    }
   ],
   "source": [
    "booted_data_median = get_bootstrap(boot.query('group_a != 0').group_a, boot.query('group_b != 0').group_b)"
   ]
  },
  {
   "cell_type": "code",
   "execution_count": 27,
   "metadata": {},
   "outputs": [
    {
     "data": {
      "text/html": [
       "<div>\n",
       "<style scoped>\n",
       "    .dataframe tbody tr th:only-of-type {\n",
       "        vertical-align: middle;\n",
       "    }\n",
       "\n",
       "    .dataframe tbody tr th {\n",
       "        vertical-align: top;\n",
       "    }\n",
       "\n",
       "    .dataframe thead th {\n",
       "        text-align: right;\n",
       "    }\n",
       "</style>\n",
       "<table border=\"1\" class=\"dataframe\">\n",
       "  <thead>\n",
       "    <tr style=\"text-align: right;\">\n",
       "      <th></th>\n",
       "      <th>0</th>\n",
       "    </tr>\n",
       "  </thead>\n",
       "  <tbody>\n",
       "    <tr>\n",
       "      <th>0.025</th>\n",
       "      <td>-2760.5125</td>\n",
       "    </tr>\n",
       "    <tr>\n",
       "      <th>0.975</th>\n",
       "      <td>-2657.0000</td>\n",
       "    </tr>\n",
       "  </tbody>\n",
       "</table>\n",
       "</div>"
      ],
      "text/plain": [
       "               0\n",
       "0.025 -2760.5125\n",
       "0.975 -2657.0000"
      ]
     },
     "execution_count": 27,
     "metadata": {},
     "output_type": "execute_result"
    }
   ],
   "source": [
    "booted_data_median['quants']"
   ]
  },
  {
   "cell_type": "code",
   "execution_count": 28,
   "metadata": {},
   "outputs": [
    {
     "data": {
      "text/plain": [
       "0.0"
      ]
     },
     "execution_count": 28,
     "metadata": {},
     "output_type": "execute_result"
    }
   ],
   "source": [
    "booted_data_median['p_value']"
   ]
  },
  {
   "cell_type": "markdown",
   "metadata": {},
   "source": [
    "Границы доверительного интервала не пересекают 0, а p < 0.01. Бутстрап анализ показал, что в данных действительно есть статически значимые различия. Причём альфа не только ниже условного порога 0.05, но и даже ниже 0.01, т.е. даже с учётом поправок результат можно считать достоверным. Теперь мы можем с определённой уверенностью утверждать, что наборы имеют разные значения показателя платежной активности пользователей, и в тестовой группе ARPU значимо увеличился по сравнению с контрольной."
   ]
  },
  {
   "cell_type": "markdown",
   "metadata": {},
   "source": [
    "Однако, как было показано в самом начале анализа, в тестовой группе меньше платящих пользователей. Если допустить, что обе выборки (контрольная и тестовая) были составлены корректно и изначально обладали одинаковым % платящих пользователей, то значит, что в контрольной группе платящих пользователей после эксперимента стало меньше. А это говорит не в пользу тестового набора предложений."
   ]
  },
  {
   "cell_type": "markdown",
   "metadata": {},
   "source": [
    "Возможно, в разных платёжных сегментах поведение пользователей различается. Иными словами, пользователи, которые платят много, реагируют на предложения иначе, чем пользователи, платящие мало. Самый простой пример: малоплатящие пользователи - это дети, а платящие много - взрослые. Вполне ожидаемо, что они будут по-разному реагировать на разные предложения (например, взрослых меньше будет интересовать дизайн игровых персонажей в стиле Марвел). Возрастное разделение здесь приведено исключительно как пример, реальная разбивка пользователей может быть совсем другой."
   ]
  },
  {
   "cell_type": "markdown",
   "metadata": {},
   "source": [
    "Поэтому дальше попробуем разделить пользователей на 2 сегмента по платежеспособности (поскольку в контрольной группе пользователи распадаются именно на 2 категории: менее 400 и выше 35 тыс, а между ними \"пустота\")."
   ]
  },
  {
   "cell_type": "code",
   "execution_count": 29,
   "metadata": {},
   "outputs": [
    {
     "data": {
      "text/plain": [
       "Text(0.5, 0, 'b')"
      ]
     },
     "execution_count": 29,
     "metadata": {},
     "output_type": "execute_result"
    },
    {
     "data": {
      "image/png": "[encoded data removed]",
      "text/plain": [
       "<Figure size 1080x720 with 2 Axes>"
      ]
     },
     "metadata": {},
     "output_type": "display_data"
    }
   ],
   "source": [
    "# Распредение в малоплатящем сегменте.\n",
    "\n",
    "plt.rcParams['figure.figsize'] = (15, 10)\n",
    "\n",
    "plt.subplot(1, 2, 1)\n",
    "sns.histplot(data.query('testgroup==\"a\" & 0<revenue<35000').revenue, bins=50, kde=False)\n",
    "plt.xlabel('a')\n",
    "\n",
    "plt.subplot(1, 2, 2)\n",
    "sns.histplot(data.query('testgroup==\"b\" & 0<revenue<35000').revenue, bins=50, kde=False)\n",
    "plt.xlabel('b')"
   ]
  },
  {
   "cell_type": "markdown",
   "metadata": {},
   "source": [
    "По графикам видно, что в \"бюджетном\" сегменте размах revenue в контрольной группе 200 - 400, в то время как в тестовой 2000 - 4000, т.е. разница в 10 раз."
   ]
  },
  {
   "cell_type": "markdown",
   "metadata": {},
   "source": [
    "Пересчитаем ARPPU для этих групп для большей уверенности."
   ]
  },
  {
   "cell_type": "code",
   "execution_count": 30,
   "metadata": {},
   "outputs": [
    {
     "name": "stdout",
     "output_type": "stream",
     "text": [
      "ARPPU_a_low = 302.46\n",
      "ARPPU_b_low = 3003.66 \n",
      "ARPPU_diff_low = 89.93%\n"
     ]
    }
   ],
   "source": [
    "ARPPU_a_low = data.query('testgroup == \"a\" & 0 < revenue < 35000').revenue.mean().round(2)\n",
    "ARPPU_b_low = data.query('testgroup == \"b\" & 0 < revenue < 35000').revenue.mean().round(2)\n",
    "ARPPU_diff_low = round((ARPPU_b_low - ARPPU_a_low) / ARPPU_b_low * 100, 2)\n",
    "\n",
    "print(f'ARPPU_a_low = {ARPPU_a_low}\\nARPPU_b_low = {ARPPU_b_low} \\nARPPU_diff_low = {ARPPU_diff_low}%')"
   ]
  },
  {
   "cell_type": "markdown",
   "metadata": {},
   "source": [
    "Видим колоссальную разницу в ARPPU в \"бюджетном\" сегменте."
   ]
  },
  {
   "cell_type": "code",
   "execution_count": 31,
   "metadata": {},
   "outputs": [
    {
     "data": {
      "text/plain": [
       "Text(0.5, 0, 'b')"
      ]
     },
     "execution_count": 31,
     "metadata": {},
     "output_type": "execute_result"
    },
    {
     "data": {
      "image/png": "[encoded data removed]",
      "text/plain": [
       "<Figure size 1080x720 with 2 Axes>"
      ]
     },
     "metadata": {},
     "output_type": "display_data"
    }
   ],
   "source": [
    "# Распредение в высокоплатящем сегменте.\n",
    "\n",
    "plt.rcParams['figure.figsize'] = (15, 10)\n",
    "\n",
    "plt.subplot(1, 2, 1)\n",
    "sns.histplot(data.query('testgroup==\"a\" & revenue>=35000').revenue, bins=50, kde=False)\n",
    "plt.xlabel('a')\n",
    "\n",
    "plt.subplot(1, 2, 2)\n",
    "sns.histplot(data.query('testgroup==\"b\" & revenue>=35000').revenue, bins=50, kde=False)\n",
    "plt.xlabel('b')"
   ]
  },
  {
   "cell_type": "markdown",
   "metadata": {},
   "source": [
    "В тестовой группе пусто. Если вернуться к графику выше в самом начале анализа, то мы увидим, что в тестовой группе пользователи ограничены максимальным показателем платёжности в 4000, т.е. \"бюджетным\" сегментом. ARPPU в \"вип\"-сегменте тестовой группы отсутствует как таковой, поэтому разницу между группами в этих показателях можно приравнять к 100% в пользу контрольной группы."
   ]
  },
  {
   "cell_type": "code",
   "execution_count": 32,
   "metadata": {},
   "outputs": [
    {
     "name": "stdout",
     "output_type": "stream",
     "text": [
      "ARPPU_a_high = 37319.12\n",
      "ARPPU_b_high = 0 \n",
      "ARPPU_diff_high = 100.0%\n"
     ]
    }
   ],
   "source": [
    "ARPPU_a_high = data.query('testgroup == \"a\" & revenue>35000').revenue.mean().round(2)\n",
    "ARPPU_b_high = 0\n",
    "ARPPU_diff_high = round((ARPPU_a_high - ARPPU_b_high) / ARPPU_a_high * 100, 2)\n",
    "\n",
    "print(f'ARPPU_a_high = {ARPPU_a_high}\\nARPPU_b_high = {ARPPU_b_high} \\nARPPU_diff_high = {ARPPU_diff_high}%')"
   ]
  },
  {
   "cell_type": "code",
   "execution_count": 33,
   "metadata": {},
   "outputs": [
    {
     "data": {
      "text/plain": [
       "123"
      ]
     },
     "execution_count": 33,
     "metadata": {},
     "output_type": "execute_result"
    }
   ],
   "source": [
    "data.query('testgroup == \"a\" & revenue>35000').shape[0]  # кол-во вип-игроков"
   ]
  },
  {
   "cell_type": "code",
   "execution_count": 34,
   "metadata": {},
   "outputs": [
    {
     "data": {
      "text/plain": [
       "123"
      ]
     },
     "execution_count": 34,
     "metadata": {},
     "output_type": "execute_result"
    }
   ],
   "source": [
    "a_pay - b_pay  # разница в кол-ве платящих игроков в двух группах"
   ]
  },
  {
   "cell_type": "markdown",
   "metadata": {},
   "source": [
    "Мы видим, что кол-во платящих игроков в контрольной группе меньше, чем в тестовой, на 123 - именно столько игроков составляют \"вип\"-сегмент в тестовой группе. Если обе выборки изначально были составлены корректно и захватывали все сегменты игроков, то можно предположить, что \"вип\"-игрокам из контрольной группы настолько не понравился набор предложений В, что они вообще бросили игру, и поэтому не попали в финальную выборку (если учитывать, что в конце эксперимента брались только те игроки, которые на данный момент стабильно заходили в игру, а \"мёртвые\" не учитывались, даже если они и были изначально в этой выборке)."
   ]
  },
  {
   "cell_type": "code",
   "execution_count": 35,
   "metadata": {},
   "outputs": [],
   "source": [
    "d1 = {'ARPU': [ARPU_a, ARPU_b, ARPU_diff], 'ARPPU': [ARPPU_a, ARPPU_b, ARPPU_diff], 'CR': [CR_a, CR_b, CR_diff]}\n",
    "Total_metrics = pd.DataFrame(data=d1, index=['a', 'b', 'difference'])\n",
    "\n",
    "d2 = {'ARPPU_lowcost': [ARPPU_a_low, ARPPU_b_low, ARPPU_diff_low], 'ARPPU_vip': [ARPPU_a_high, ARPPU_b_high, ARPPU_diff_high]}\n",
    "Segments_metrics = pd.DataFrame(data=d2, index=['a', 'b', 'difference'])"
   ]
  },
  {
   "cell_type": "markdown",
   "metadata": {},
   "source": [
    "## Выводы.\n",
    "\n",
    "<b> Показатели, рассчитанные на всю выборку:</b>"
   ]
  },
  {
   "cell_type": "code",
   "execution_count": 36,
   "metadata": {},
   "outputs": [
    {
     "data": {
      "text/html": [
       "<div>\n",
       "<style scoped>\n",
       "    .dataframe tbody tr th:only-of-type {\n",
       "        vertical-align: middle;\n",
       "    }\n",
       "\n",
       "    .dataframe tbody tr th {\n",
       "        vertical-align: top;\n",
       "    }\n",
       "\n",
       "    .dataframe thead th {\n",
       "        text-align: right;\n",
       "    }\n",
       "</style>\n",
       "<table border=\"1\" class=\"dataframe\">\n",
       "  <thead>\n",
       "    <tr style=\"text-align: right;\">\n",
       "      <th></th>\n",
       "      <th>ARPU</th>\n",
       "      <th>ARPPU</th>\n",
       "      <th>CR</th>\n",
       "    </tr>\n",
       "  </thead>\n",
       "  <tbody>\n",
       "    <tr>\n",
       "      <th>a</th>\n",
       "      <td>25.41</td>\n",
       "      <td>2664.00</td>\n",
       "      <td>104.84</td>\n",
       "    </tr>\n",
       "    <tr>\n",
       "      <th>b</th>\n",
       "      <td>26.75</td>\n",
       "      <td>3003.66</td>\n",
       "      <td>112.29</td>\n",
       "    </tr>\n",
       "    <tr>\n",
       "      <th>difference</th>\n",
       "      <td>5.27</td>\n",
       "      <td>12.75</td>\n",
       "      <td>7.11</td>\n",
       "    </tr>\n",
       "  </tbody>\n",
       "</table>\n",
       "</div>"
      ],
      "text/plain": [
       "             ARPU    ARPPU      CR\n",
       "a           25.41  2664.00  104.84\n",
       "b           26.75  3003.66  112.29\n",
       "difference   5.27    12.75    7.11"
      ]
     },
     "execution_count": 36,
     "metadata": {},
     "output_type": "execute_result"
    }
   ],
   "source": [
    "Total_metrics"
   ]
  },
  {
   "cell_type": "markdown",
   "metadata": {},
   "source": [
    "<b> ARPPU бюджетного и вип-сегментов по-отдельности:</b>"
   ]
  },
  {
   "cell_type": "code",
   "execution_count": 37,
   "metadata": {},
   "outputs": [
    {
     "data": {
      "text/html": [
       "<div>\n",
       "<style scoped>\n",
       "    .dataframe tbody tr th:only-of-type {\n",
       "        vertical-align: middle;\n",
       "    }\n",
       "\n",
       "    .dataframe tbody tr th {\n",
       "        vertical-align: top;\n",
       "    }\n",
       "\n",
       "    .dataframe thead th {\n",
       "        text-align: right;\n",
       "    }\n",
       "</style>\n",
       "<table border=\"1\" class=\"dataframe\">\n",
       "  <thead>\n",
       "    <tr style=\"text-align: right;\">\n",
       "      <th></th>\n",
       "      <th>ARPPU_lowcost</th>\n",
       "      <th>ARPPU_vip</th>\n",
       "    </tr>\n",
       "  </thead>\n",
       "  <tbody>\n",
       "    <tr>\n",
       "      <th>a</th>\n",
       "      <td>302.46</td>\n",
       "      <td>37319.12</td>\n",
       "    </tr>\n",
       "    <tr>\n",
       "      <th>b</th>\n",
       "      <td>3003.66</td>\n",
       "      <td>0.00</td>\n",
       "    </tr>\n",
       "    <tr>\n",
       "      <th>difference</th>\n",
       "      <td>89.93</td>\n",
       "      <td>100.00</td>\n",
       "    </tr>\n",
       "  </tbody>\n",
       "</table>\n",
       "</div>"
      ],
      "text/plain": [
       "            ARPPU_lowcost  ARPPU_vip\n",
       "a                  302.46   37319.12\n",
       "b                 3003.66       0.00\n",
       "difference          89.93     100.00"
      ]
     },
     "execution_count": 37,
     "metadata": {},
     "output_type": "execute_result"
    }
   ],
   "source": [
    "Segments_metrics"
   ]
  },
  {
   "cell_type": "markdown",
   "metadata": {},
   "source": [
    "<b>1.</b>Общие соображения. Пользователи очень неравномерно распределяются по группам. В контрольной группе мы видим сильный разрыв между бюджетными и платящими пользователями, в то время как в тестовой они сосредоточены \"посередине\". Оптимальным решением было бы запросить первоначальные выборки и посмотреть, насколько они корректно составлены, поскольку такие неравномерные распределения наталкивают на 2 гипотезы: 1. у нас изначально некорректно составлены выборки и 2. наборы предложений НАСТОЛЬКО сильно различаются, что приводят к таким колоссальным изменениям в тестовой выборке после проведения эксперимента. Тем не менее, поскольку в контрольной группе, по-идее, никаких экспериментов в принципе не проводилось (иначе она бы не была контрольной), то она должна отображать именно то распределение пользователей в обеих группах, которое и было до начала эксперимента. А оно очень неравномерное, что ставит под сомнение репрезентативность выборок. Следуя этим рассуждениям, а также принципу бритвы Оккама, напрашивается вывод, что выборки составлены некорректно. А это значит, что и весь дальнейший АВ тест не имеет смысла.\n",
    "\n",
    "Если же выборки всё-таки составлены корректно (допустим, мне удалось получить нужные данные и проверить их), выводы будут такими:\n",
    "\n",
    "<b>2.</b>Показатель ARPU статистически достоверно увеличился на 5% в тестовой группе по сравнению с контрольной.\n",
    "\n",
    "<b>3.</b>Поведение пользователей принципиально отличается в зависимости от платёжного сегмента, к которому они относятся. Для игроков \"бюджетного\" сегмента набор В (тестовый) оказался более предпочтительным, в то время как для \"вип\"-сегмента предпочительнее набор А (контрольный).\n",
    "\n",
    "<b>4.</b>Если существует технологическая возможность, то стоит оставить оба набора предложений: для основной массы выкатить набор В, но для \"вип\"-сегмента оставить А. Это принесёт компании максимальную прибыль.\n",
    "\n",
    "<b>5.</b>Однако, если таковой возможности нет, то лучшим стоит считать всё-таки набор предложений В, т.к. \"вип\"-игроков мало, и, соответственно они вносят меньший вклад в ARPU, чем \"бюджетные\" игроки, о чём говорит общее увеличение ARPU на 5% в тестовой группе."
   ]
  },
  {
   "cell_type": "code",
   "execution_count": null,
   "metadata": {},
   "outputs": [],
   "source": []
  }
 ],
 "metadata": {
  "kernelspec": {
   "display_name": "Python 3 (ipykernel)",
   "language": "python",
   "name": "python3"
  },
  "language_info": {
   "codemirror_mode": {
    "name": "ipython",
    "version": 3
   },
   "file_extension": ".py",
   "mimetype": "text/x-python",
   "name": "python",
   "nbconvert_exporter": "python",
   "pygments_lexer": "ipython3",
   "version": "3.9.13"
  }
 },
 "nbformat": 4,
 "nbformat_minor": 4
}
